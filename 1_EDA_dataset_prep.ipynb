{
 "cells": [
  {
   "cell_type": "code",
   "execution_count": 1,
   "metadata": {},
   "outputs": [
    {
     "name": "stdout",
     "output_type": "stream",
     "text": [
      "Requirement already satisfied: pip in c:\\users\\hemant\\appdata\\roaming\\python\\python38\\site-packages (21.3.1)\n"
     ]
    },
    {
     "name": "stderr",
     "output_type": "stream",
     "text": [
      "WARNING: Ignoring invalid distribution -cipy (c:\\programdata\\anaconda3\\lib\\site-packages)\n",
      "WARNING: Ignoring invalid distribution -cipy (c:\\programdata\\anaconda3\\lib\\site-packages)\n",
      "WARNING: Ignoring invalid distribution -cipy (c:\\programdata\\anaconda3\\lib\\site-packages)\n",
      "WARNING: Ignoring invalid distribution -cipy (c:\\programdata\\anaconda3\\lib\\site-packages)\n"
     ]
    }
   ],
   "source": [
    "# ! pip install --upgrade pip --user"
   ]
  },
  {
   "cell_type": "code",
   "execution_count": 2,
   "metadata": {},
   "outputs": [
    {
     "name": "stdout",
     "output_type": "stream",
     "text": [
      "Collecting absl-py==0.9.0\n",
      "  Using cached absl-py-0.9.0.tar.gz (104 kB)\n",
      "  Preparing metadata (setup.py): started\n",
      "  Preparing metadata (setup.py): finished with status 'done'\n",
      "Requirement already satisfied: alabaster==0.7.12 in c:\\programdata\\anaconda3\\lib\\site-packages (from -r requirements.txt (line 2)) (0.7.12)\n",
      "Collecting albumentations==0.1.12\n",
      "  Using cached albumentations-0.1.12.tar.gz (59 kB)\n",
      "  Preparing metadata (setup.py): started\n",
      "  Preparing metadata (setup.py): finished with status 'done'\n",
      "Collecting altair==4.1.0\n",
      "  Using cached altair-4.1.0-py3-none-any.whl (727 kB)\n",
      "Collecting asgiref==3.2.10\n",
      "  Using cached asgiref-3.2.10-py3-none-any.whl (19 kB)\n",
      "Collecting astor==0.8.1\n",
      "  Using cached astor-0.8.1-py2.py3-none-any.whl (27 kB)\n",
      "Collecting astropy==4.0.1.post1\n",
      "  Using cached astropy-4.0.1.post1-cp38-cp38-win_amd64.whl (6.2 MB)\n",
      "Requirement already satisfied: astunparse==1.6.3 in c:\\programdata\\anaconda3\\lib\\site-packages (from -r requirements.txt (line 8)) (1.6.3)\n",
      "Collecting atari-py==0.2.6\n",
      "  Using cached atari-py-0.2.6.tar.gz (790 kB)\n",
      "  Preparing metadata (setup.py): started\n",
      "  Preparing metadata (setup.py): finished with status 'done'\n",
      "Requirement already satisfied: atomicwrites==1.4.0 in c:\\programdata\\anaconda3\\lib\\site-packages (from -r requirements.txt (line 10)) (1.4.0)\n",
      "Collecting attrs==19.3.0\n",
      "  Using cached attrs-19.3.0-py2.py3-none-any.whl (39 kB)\n",
      "Collecting audioread==2.1.8\n",
      "  Using cached audioread-2.1.8.tar.gz (21 kB)\n",
      "  Preparing metadata (setup.py): started\n",
      "  Preparing metadata (setup.py): finished with status 'done'\n",
      "Collecting autograd==1.3\n",
      "  Using cached autograd-1.3.tar.gz (38 kB)\n",
      "  Preparing metadata (setup.py): started\n",
      "  Preparing metadata (setup.py): finished with status 'done'\n",
      "Collecting Babel==2.8.0\n",
      "  Using cached Babel-2.8.0-py2.py3-none-any.whl (8.6 MB)\n",
      "Requirement already satisfied: backcall==0.2.0 in c:\\programdata\\anaconda3\\lib\\site-packages (from -r requirements.txt (line 15)) (0.2.0)\n",
      "Collecting beautifulsoup4==4.6.3\n",
      "  Using cached beautifulsoup4-4.6.3-py3-none-any.whl (90 kB)\n",
      "Collecting bleach==3.1.5\n",
      "  Using cached bleach-3.1.5-py2.py3-none-any.whl (151 kB)\n",
      "Collecting blis==0.4.1\n",
      "  Using cached blis-0.4.1-cp38-cp38-win_amd64.whl (5.0 MB)\n",
      "Collecting bokeh==1.4.0\n",
      "  Using cached bokeh-1.4.0.tar.gz (32.4 MB)\n",
      "  Preparing metadata (setup.py): started\n",
      "  Preparing metadata (setup.py): finished with status 'done'\n",
      "Requirement already satisfied: boto==2.49.0 in c:\\programdata\\anaconda3\\lib\\site-packages (from -r requirements.txt (line 20)) (2.49.0)\n",
      "Collecting boto3==1.14.9\n",
      "  Using cached boto3-1.14.9-py2.py3-none-any.whl (128 kB)\n",
      "Collecting botocore==1.17.9\n",
      "  Using cached botocore-1.17.9-py2.py3-none-any.whl (6.3 MB)\n",
      "Requirement already satisfied: Bottleneck==1.3.2 in c:\\programdata\\anaconda3\\lib\\site-packages (from -r requirements.txt (line 23)) (1.3.2)\n",
      "Collecting branca==0.4.1\n",
      "  Using cached branca-0.4.1-py3-none-any.whl (24 kB)\n",
      "Collecting bs4==0.0.1\n",
      "  Using cached bs4-0.0.1.tar.gz (1.1 kB)\n",
      "  Preparing metadata (setup.py): started\n",
      "  Preparing metadata (setup.py): finished with status 'done'\n",
      "Collecting CacheControl==0.12.6\n",
      "  Using cached CacheControl-0.12.6-py2.py3-none-any.whl (19 kB)\n",
      "Collecting cachetools==4.1.0\n",
      "  Using cached cachetools-4.1.0-py3-none-any.whl (10 kB)\n",
      "Collecting catalogue==1.0.0\n",
      "  Using cached catalogue-1.0.0-py2.py3-none-any.whl (7.7 kB)\n",
      "Collecting certifi==2020.6.20\n",
      "  Using cached certifi-2020.6.20-py2.py3-none-any.whl (156 kB)\n",
      "Collecting cffi==1.14.0\n",
      "  Using cached cffi-1.14.0-cp38-cp38-win_amd64.whl (177 kB)\n",
      "Collecting chainer==6.5.0\n",
      "  Using cached chainer-6.5.0.tar.gz (876 kB)\n",
      "  Preparing metadata (setup.py): started\n",
      "  Preparing metadata (setup.py): finished with status 'done'\n",
      "Collecting chardet==3.0.4\n",
      "  Using cached chardet-3.0.4-py2.py3-none-any.whl (133 kB)\n",
      "Requirement already satisfied: click==7.1.2 in c:\\programdata\\anaconda3\\lib\\site-packages (from -r requirements.txt (line 33)) (7.1.2)\n",
      "Collecting cloudpickle==1.3.0\n",
      "  Using cached cloudpickle-1.3.0-py2.py3-none-any.whl (26 kB)\n",
      "Collecting cmdstanpy==0.4.0\n",
      "  Using cached cmdstanpy-0.4.0-py3-none-any.whl (22 kB)\n",
      "Collecting colorlover==0.3.0\n",
      "  Using cached colorlover-0.3.0-py3-none-any.whl (8.9 kB)\n",
      "Collecting community==1.0.0b1\n",
      "  Using cached community-1.0.0b1.tar.gz (2.2 kB)\n",
      "  Preparing metadata (setup.py): started\n",
      "  Preparing metadata (setup.py): finished with status 'done'\n",
      "Collecting contextlib2==0.5.5\n",
      "  Using cached contextlib2-0.5.5-py2.py3-none-any.whl (8.1 kB)\n",
      "Collecting convertdate==2.2.1\n",
      "  Using cached convertdate-2.2.1-py2.py3-none-any.whl (43 kB)\n",
      "Collecting coverage==3.7.1\n",
      "  Using cached coverage-3.7.1.tar.gz (284 kB)\n",
      "  Preparing metadata (setup.py): started\n",
      "  Preparing metadata (setup.py): finished with status 'done'\n",
      "Collecting coveralls==0.5\n",
      "  Using cached coveralls-0.5.zip (18 kB)\n",
      "  Preparing metadata (setup.py): started\n",
      "  Preparing metadata (setup.py): finished with status 'done'\n",
      "Collecting crcmod==1.7\n",
      "  Using cached crcmod-1.7.tar.gz (89 kB)\n",
      "  Preparing metadata (setup.py): started\n",
      "  Preparing metadata (setup.py): finished with status 'done'\n",
      "Collecting cufflinks==0.17.3\n",
      "  Using cached cufflinks-0.17.3.tar.gz (81 kB)\n",
      "  Preparing metadata (setup.py): started\n",
      "  Preparing metadata (setup.py): finished with status 'done'\n",
      "Collecting cvxopt==1.2.5\n",
      "  Using cached cvxopt-1.2.5.tar.gz (6.7 MB)\n",
      "  Preparing metadata (setup.py): started\n",
      "  Preparing metadata (setup.py): finished with status 'done'\n",
      "Collecting cvxpy==1.0.31\n",
      "  Using cached cvxpy-1.0.31.tar.gz (947 kB)\n",
      "  Installing build dependencies: started\n",
      "  Installing build dependencies: finished with status 'done'\n",
      "  Getting requirements to build wheel: started\n",
      "  Getting requirements to build wheel: finished with status 'done'\n",
      "  Preparing metadata (pyproject.toml): started\n",
      "  Preparing metadata (pyproject.toml): finished with status 'error'\n"
     ]
    },
    {
     "name": "stderr",
     "output_type": "stream",
     "text": [
      "WARNING: Ignoring invalid distribution -cipy (c:\\programdata\\anaconda3\\lib\\site-packages)\n",
      "WARNING: Ignoring invalid distribution -cipy (c:\\programdata\\anaconda3\\lib\\site-packages)\n",
      "  ERROR: Command errored out with exit status 1:\n",
      "   command: 'C:\\ProgramData\\Anaconda3\\python.exe' 'C:\\Users\\Hemant\\AppData\\Roaming\\Python\\Python38\\site-packages\\pip\\_vendor\\pep517\\in_process\\_in_process.py' prepare_metadata_for_build_wheel 'C:\\Users\\Hemant\\AppData\\Local\\Temp\\tmpayaa22h6'\n",
      "       cwd: C:\\Users\\Hemant\\AppData\\Local\\Temp\\pip-install-e2tqpgtw\\cvxpy_a3e93843321e40f2a1a602a74137abe9\n",
      "  Complete output (1 lines):\n",
      "  error in cvxpy setup command: use_2to3 is invalid.\n",
      "  ----------------------------------------\n",
      "WARNING: Discarding https://files.pythonhosted.org/packages/11/d0/d900870dc2d02ea74961b90c353666c6528a33ea61a10aa59a0d5574ae59/cvxpy-1.0.31.tar.gz#sha256=b398754f9e9ceaa46b07806b5ae85f90fd8de748475db22a6b99c5943cebe69d (from https://pypi.org/simple/cvxpy/). Command errored out with exit status 1: 'C:\\ProgramData\\Anaconda3\\python.exe' 'C:\\Users\\Hemant\\AppData\\Roaming\\Python\\Python38\\site-packages\\pip\\_vendor\\pep517\\in_process\\_in_process.py' prepare_metadata_for_build_wheel 'C:\\Users\\Hemant\\AppData\\Local\\Temp\\tmpayaa22h6' Check the logs for full command output.\n",
      "ERROR: Could not find a version that satisfies the requirement cvxpy==1.0.31 (from versions: 0.1, 0.2, 0.2.1, 0.2.2, 0.2.3, 0.2.4, 0.2.5, 0.2.6, 0.2.7, 0.2.9, 0.2.10, 0.2.11, 0.2.12, 0.2.13, 0.2.14, 0.2.15, 0.2.16, 0.2.17, 0.2.18, 0.2.19, 0.2.20, 0.2.21, 0.2.22, 0.2.23, 0.2.24, 0.2.25, 0.2.26, 0.2.27, 0.2.28, 0.3.0, 0.3.1, 0.3.3, 0.3.4, 0.3.5, 0.3.6, 0.3.7, 0.3.8, 0.3.9, 0.4.0, 0.4.1, 0.4.2, 0.4.3, 0.4.4, 0.4.5, 0.4.6, 0.4.8, 0.4.9, 0.4.10, 0.4.11, 1.0.2, 1.0.3, 1.0.4, 1.0.5, 1.0.6, 1.0.8, 1.0.9, 1.0.10, 1.0.11, 1.0.12, 1.0.13, 1.0.14, 1.0.15, 1.0.16, 1.0.17, 1.0.18, 1.0.19, 1.0.20, 1.0.21, 1.0.22, 1.0.23, 1.0.24, 1.0.25, 1.0.26, 1.0.27, 1.0.28, 1.0.29, 1.0.31, 1.1.0a0, 1.1.0a1, 1.1.0a2, 1.1.0a3, 1.1.0a4, 1.1.0, 1.1.1, 1.1.2, 1.1.3, 1.1.4, 1.1.5, 1.1.6, 1.1.7, 1.1.8, 1.1.9, 1.1.10, 1.1.11, 1.1.12, 1.1.13, 1.1.14, 1.1.15, 1.1.16, 1.1.17)\n",
      "ERROR: No matching distribution found for cvxpy==1.0.31\n",
      "WARNING: Ignoring invalid distribution -cipy (c:\\programdata\\anaconda3\\lib\\site-packages)\n"
     ]
    }
   ],
   "source": [
    "# ! pip install -r requirements.txt\n"
   ]
  },
  {
   "cell_type": "code",
   "execution_count": 4,
   "metadata": {},
   "outputs": [
    {
     "name": "stdout",
     "output_type": "stream",
     "text": [
      "Requirement already satisfied: opencv-python in c:\\programdata\\anaconda3\\lib\\site-packages (4.5.4.60)\n",
      "Requirement already satisfied: numpy>=1.17.3 in c:\\programdata\\anaconda3\\lib\\site-packages (from opencv-python) (1.19.5)\n"
     ]
    },
    {
     "name": "stderr",
     "output_type": "stream",
     "text": [
      "WARNING: Ignoring invalid distribution -cipy (c:\\programdata\\anaconda3\\lib\\site-packages)\n",
      "WARNING: Ignoring invalid distribution -cipy (c:\\programdata\\anaconda3\\lib\\site-packages)\n",
      "WARNING: Ignoring invalid distribution -cipy (c:\\programdata\\anaconda3\\lib\\site-packages)\n",
      "WARNING: Ignoring invalid distribution -cipy (c:\\programdata\\anaconda3\\lib\\site-packages)\n"
     ]
    }
   ],
   "source": [
    "# ! pip install opencv-python"
   ]
  },
  {
   "cell_type": "code",
   "execution_count": 1,
   "metadata": {
    "colab": {
     "base_uri": "https://localhost:8080/",
     "height": 51
    },
    "colab_type": "code",
    "executionInfo": {
     "elapsed": 28045,
     "status": "ok",
     "timestamp": 1593230381615,
     "user": {
      "displayName": "Prerak Agarwal",
      "photoUrl": "",
      "userId": "01206615471624868818"
     },
     "user_tz": -480
    },
    "id": "tA5KCtVlm5Mx",
    "outputId": "c21b90dc-7e6c-4e9f-aca2-176051412bdd"
   },
   "outputs": [],
   "source": [
    "# Imports\n",
    "\n",
    "from zipfile import ZipFile\n",
    "import os\n",
    "import shutil\n",
    "import numpy as np\n",
    "import pandas as pd\n",
    "import matplotlib.pyplot as plt\n",
    "import seaborn as sns\n",
    "import cv2"
   ]
  },
  {
   "cell_type": "code",
   "execution_count": 2,
   "metadata": {},
   "outputs": [
    {
     "name": "stdout",
     "output_type": "stream",
     "text": [
      "D:\\Code\\deep-age-detec\\Age_Classification_with_Faces\\code\n"
     ]
    }
   ],
   "source": [
    "ROOT_DIR = os.getcwd()\n",
    "child_dir = os.path.abspath(os.path.join(os.getcwd(), \"..\"))\n",
    "\n",
    "print(ROOT_DIR)"
   ]
  },
  {
   "cell_type": "code",
   "execution_count": 3,
   "metadata": {
    "colab": {},
    "colab_type": "code",
    "id": "dGIilbyz750X"
   },
   "outputs": [],
   "source": [
    "# Creating a list of all currently installed python libraries.\n",
    "# !pip freeze > requirements.txt"
   ]
  },
  {
   "cell_type": "markdown",
   "metadata": {
    "colab_type": "text",
    "id": "uS8_h9PtK7io"
   },
   "source": [
    "## Exploratory Data Analysis (EDA)"
   ]
  },
  {
   "cell_type": "markdown",
   "metadata": {
    "colab_type": "text",
    "id": "Y4Ftv8WTA4NS"
   },
   "source": [
    "### *facial-age* dataset (9,778 images)"
   ]
  },
  {
   "cell_type": "code",
   "execution_count": 4,
   "metadata": {
    "colab": {
     "base_uri": "https://localhost:8080/",
     "height": 34
    },
    "colab_type": "code",
    "executionInfo": {
     "elapsed": 8742,
     "status": "ok",
     "timestamp": 1593230804926,
     "user": {
      "displayName": "Prerak Agarwal",
      "photoUrl": "",
      "userId": "01206615471624868818"
     },
     "user_tz": -480
    },
    "id": "txJN5e0SmnlM",
    "outputId": "51220fc7-43f6-4877-c13c-8fff69619fed"
   },
   "outputs": [
    {
     "name": "stdout",
     "output_type": "stream",
     "text": [
      "Already unziped\n"
     ]
    }
   ],
   "source": [
    "# Unzipping the dataset file facial-age.zip\n",
    "\n",
    "if not os.path.exists(ROOT_DIR + \"\\ZIPPED_DATASETS\"):\n",
    "    facial_age_zip_path = ROOT_DIR + \"\\ZIPPED_DATASETS-20211024T121156Z-001.zip\"\n",
    "    with ZipFile(facial_age_zip_path, 'r') as myzip:\n",
    "        myzip.extractall()\n",
    "        print('Done unzipping facial-age.zip')\n",
    "else:\n",
    "    print(\"Already unziped\")"
   ]
  },
  {
   "cell_type": "markdown",
   "metadata": {
    "colab_type": "text",
    "id": "YcrcmAd9-9oL"
   },
   "source": [
    "***facial-age* dataset** contains **9,778 RGB images of faces** in **PNG** format of size **200x200 pixels** each. The images are separated into folders where the **folder names correspond to the age labels of images inside those folders**."
   ]
  },
  {
   "cell_type": "code",
   "execution_count": 5,
   "metadata": {
    "colab": {},
    "colab_type": "code",
    "id": "XBXumCbsCLLj"
   },
   "outputs": [],
   "source": [
    "# Accessing all folder names to get list of labels.\n",
    "\n",
    "facial_age_path =  ROOT_DIR + r\"\\ZIPPED_DATASETS\\facial-age\"\n",
    "facial_age_folders = os.listdir(facial_age_path)"
   ]
  },
  {
   "cell_type": "code",
   "execution_count": 6,
   "metadata": {
    "colab": {
     "base_uri": "https://localhost:8080/",
     "height": 221
    },
    "colab_type": "code",
    "executionInfo": {
     "elapsed": 1404,
     "status": "ok",
     "timestamp": 1593230838612,
     "user": {
      "displayName": "Prerak Agarwal",
      "photoUrl": "",
      "userId": "01206615471624868818"
     },
     "user_tz": -480
    },
    "id": "E9crJEY1rg2s",
    "outputId": "f15c20f9-7c42-4b2e-c268-2e87c7d925a4"
   },
   "outputs": [
    {
     "data": {
      "text/plain": [
       "array(['001', '002', '003', '004', '005', '006', '007', '008', '009',\n",
       "       '010', '011', '012', '013', '014', '015', '016', '017', '018',\n",
       "       '019', '020', '021', '022', '023', '024', '025', '026', '027',\n",
       "       '028', '029', '030', '031', '032', '033', '034', '035', '036',\n",
       "       '037', '038', '039', '040', '041', '042', '043', '044', '045',\n",
       "       '046', '047', '048', '049', '050', '051', '052', '053', '054',\n",
       "       '055', '056', '057', '058', '059', '060', '061', '062', '063',\n",
       "       '064', '065', '066', '067', '068', '069', '070', '071', '072',\n",
       "       '073', '074', '075', '076', '077', '078', '079', '080', '081',\n",
       "       '082', '083', '084', '085', '086', '087', '088', '089', '090',\n",
       "       '091', '092', '093', '095', '096', '099', '100', '101', '110'],\n",
       "      dtype='<U3')"
      ]
     },
     "execution_count": 6,
     "metadata": {},
     "output_type": "execute_result"
    }
   ],
   "source": [
    "# Sorting the folder names (age labels) in ascending order.\n",
    "\n",
    "facial_age_folders = np.sort(facial_age_folders)\n",
    "facial_age_folders"
   ]
  },
  {
   "cell_type": "code",
   "execution_count": 7,
   "metadata": {
    "colab": {},
    "colab_type": "code",
    "id": "Xb4-Z2_XnbTL"
   },
   "outputs": [],
   "source": [
    "# Accessing the images inside every folder and storing the info in a dictionary with\n",
    "# the age labels (folder name) as keys and the no. of images in each folder as values.\n",
    "\n",
    "facial_age_images = {}\n",
    "\n",
    "for age in facial_age_folders:\n",
    "    temp_path = os.path.join(facial_age_path, age)\n",
    "    n_images = len(os.listdir(temp_path))\n",
    "    facial_age_images[int(age)] = n_images"
   ]
  },
  {
   "cell_type": "code",
   "execution_count": 8,
   "metadata": {
    "colab": {
     "base_uri": "https://localhost:8080/",
     "height": 34
    },
    "colab_type": "code",
    "executionInfo": {
     "elapsed": 734,
     "status": "ok",
     "timestamp": 1593230842884,
     "user": {
      "displayName": "Prerak Agarwal",
      "photoUrl": "",
      "userId": "01206615471624868818"
     },
     "user_tz": -480
    },
    "id": "JemI4B_cpXw1",
    "outputId": "019f1587-b75f-4888-967c-f37d985750d7"
   },
   "outputs": [
    {
     "data": {
      "text/plain": [
       "1112"
      ]
     },
     "execution_count": 8,
     "metadata": {},
     "output_type": "execute_result"
    }
   ],
   "source": [
    "# Accessing the dictionary to get no. of images corresponding to age 1 in facial-age dataset.\n",
    "\n",
    "facial_age_images[1]"
   ]
  },
  {
   "cell_type": "code",
   "execution_count": 9,
   "metadata": {
    "colab": {
     "base_uri": "https://localhost:8080/",
     "height": 34
    },
    "colab_type": "code",
    "executionInfo": {
     "elapsed": 876,
     "status": "ok",
     "timestamp": 1593230845526,
     "user": {
      "displayName": "Prerak Agarwal",
      "photoUrl": "",
      "userId": "01206615471624868818"
     },
     "user_tz": -480
    },
    "id": "0Q8O4buVqarz",
    "outputId": "d577389f-3415-4eeb-95d1-e495c9ee7e29"
   },
   "outputs": [
    {
     "data": {
      "text/plain": [
       "9778"
      ]
     },
     "execution_count": 9,
     "metadata": {},
     "output_type": "execute_result"
    }
   ],
   "source": [
    "# Checking total no. of images to ensure correctness of above code.\n",
    "# Total no. of images in facial-age dataset is 9778.\n",
    "\n",
    "sum(facial_age_images.values())"
   ]
  },
  {
   "cell_type": "markdown",
   "metadata": {
    "colab_type": "text",
    "id": "wdcGaqGGA0it"
   },
   "source": [
    "### *UTKFace* dataset (23,708 images)"
   ]
  },
  {
   "cell_type": "code",
   "execution_count": 10,
   "metadata": {
    "colab": {
     "base_uri": "https://localhost:8080/",
     "height": 34
    },
    "colab_type": "code",
    "executionInfo": {
     "elapsed": 6295,
     "status": "ok",
     "timestamp": 1593230853613,
     "user": {
      "displayName": "Prerak Agarwal",
      "photoUrl": "",
      "userId": "01206615471624868818"
     },
     "user_tz": -480
    },
    "id": "666Ca-AcunCD",
    "outputId": "6e744461-04ac-4a7c-a505-3757d2bbee58"
   },
   "outputs": [
    {
     "name": "stdout",
     "output_type": "stream",
     "text": [
      "Done unzipping UTKFace.zip\n"
     ]
    }
   ],
   "source": [
    "# Unzipping the dataset file UTKFace.zip\n",
    "\n",
    "utkface_zip_path = ROOT_DIR + r\"\\ZIPPED_DATASETS\\UTKFace.zip\"\n",
    "\n",
    "with ZipFile(utkface_zip_path, 'r') as myzip:\n",
    "    myzip.extractall()\n",
    "    print('Done unzipping UTKFace.zip')"
   ]
  },
  {
   "cell_type": "markdown",
   "metadata": {
    "colab_type": "text",
    "id": "ITUQoj4TBL7P"
   },
   "source": [
    "***UTKFace* dataset** contains **23,708 RGB images of faces** in **JPG** format of size **200x200 pixels** each. The **labels of images are embedded in the file names, formatted like *\\[age]\\_\\[gender]\\_\\[race]\\_\\[date&time].jpg***."
   ]
  },
  {
   "cell_type": "code",
   "execution_count": 11,
   "metadata": {
    "colab": {},
    "colab_type": "code",
    "id": "wExrBD_CDHnQ"
   },
   "outputs": [],
   "source": [
    "# Accessing all image file names so as to be able to separate the age labels.\n",
    "\n",
    "utkface_path = 'UTKFace'\n",
    "utkface_image_names = os.listdir(utkface_path)"
   ]
  },
  {
   "cell_type": "code",
   "execution_count": 12,
   "metadata": {
    "colab": {
     "base_uri": "https://localhost:8080/",
     "height": 34
    },
    "colab_type": "code",
    "executionInfo": {
     "elapsed": 2259,
     "status": "ok",
     "timestamp": 1593230853617,
     "user": {
      "displayName": "Prerak Agarwal",
      "photoUrl": "",
      "userId": "01206615471624868818"
     },
     "user_tz": -480
    },
    "id": "T8EWeHywDnrc",
    "outputId": "151f9e76-c660-4b16-9cf4-09eaff1b92c1"
   },
   "outputs": [
    {
     "data": {
      "text/plain": [
       "23708"
      ]
     },
     "execution_count": 12,
     "metadata": {},
     "output_type": "execute_result"
    }
   ],
   "source": [
    "# Checking total no. of images to ensure correctness of above code.\n",
    "# Total no. of images in UTKFace dataset is 23708.\n",
    "\n",
    "len(utkface_image_names)"
   ]
  },
  {
   "cell_type": "code",
   "execution_count": 13,
   "metadata": {
    "colab": {},
    "colab_type": "code",
    "id": "gh1MriJuDnop"
   },
   "outputs": [],
   "source": [
    "# Defining a function to generate the labels from the image file names according to the format given above.\n",
    "\n",
    "def age_gender_race_split(image_name):\n",
    "    image_labels = image_name.split('_')\n",
    "    age = image_labels[0]\n",
    "    gender = image_labels[1]\n",
    "    race = image_labels[2]\n",
    "\n",
    "    return (age, gender, race)"
   ]
  },
  {
   "cell_type": "code",
   "execution_count": 14,
   "metadata": {
    "colab": {},
    "colab_type": "code",
    "id": "K-eTJqyMDnlx"
   },
   "outputs": [],
   "source": [
    "# Applying the above function on each image file name using a for loop and storing the labels in relevant arrays.\n",
    "\n",
    "utkface_age_labels = np.array([])\n",
    "utkface_gender_labels = np.array([])\n",
    "utkface_race_labels = np.array([])\n",
    "\n",
    "for image in utkface_image_names:\n",
    "    age, gender, race = age_gender_race_split(image)\n",
    "    utkface_age_labels = np.append(utkface_age_labels, age)\n",
    "    utkface_gender_labels = np.append(utkface_gender_labels, gender)\n",
    "    utkface_race_labels = np.append(utkface_race_labels, race)"
   ]
  },
  {
   "cell_type": "code",
   "execution_count": 15,
   "metadata": {
    "colab": {
     "base_uri": "https://localhost:8080/",
     "height": 221
    },
    "colab_type": "code",
    "executionInfo": {
     "elapsed": 18627,
     "status": "ok",
     "timestamp": 1593230879792,
     "user": {
      "displayName": "Prerak Agarwal",
      "photoUrl": "",
      "userId": "01206615471624868818"
     },
     "user_tz": -480
    },
    "id": "zOwMp-q8DnjQ",
    "outputId": "6328abb7-3e96-49cb-c026-319a0b8c4894"
   },
   "outputs": [
    {
     "data": {
      "text/plain": [
       "26     2197\n",
       "1      1123\n",
       "28      918\n",
       "35      880\n",
       "24      859\n",
       "       ... \n",
       "115       3\n",
       "101       2\n",
       "91        2\n",
       "111       1\n",
       "103       1\n",
       "Length: 104, dtype: int64"
      ]
     },
     "execution_count": 15,
     "metadata": {},
     "output_type": "execute_result"
    }
   ],
   "source": [
    "# Grouping by the age labels and checking the no. of images per age label.\n",
    "\n",
    "utkface_ages_counts = pd.Series(utkface_age_labels).value_counts()\n",
    "utkface_ages_counts"
   ]
  },
  {
   "cell_type": "code",
   "execution_count": 16,
   "metadata": {
    "colab": {},
    "colab_type": "code",
    "id": "5i3vi_oPY9El"
   },
   "outputs": [],
   "source": [
    "# Storing the grouped age labels series generated above in a dictionary with\n",
    "# the age labels as keys and the no. of images per age label as values.\n",
    "\n",
    "utkface_images = {}\n",
    "\n",
    "for age, counts in utkface_ages_counts.items():\n",
    "    utkface_images[int(age)] = counts"
   ]
  },
  {
   "cell_type": "code",
   "execution_count": 17,
   "metadata": {
    "colab": {
     "base_uri": "https://localhost:8080/",
     "height": 34
    },
    "colab_type": "code",
    "executionInfo": {
     "elapsed": 654,
     "status": "ok",
     "timestamp": 1593230884900,
     "user": {
      "displayName": "Prerak Agarwal",
      "photoUrl": "",
      "userId": "01206615471624868818"
     },
     "user_tz": -480
    },
    "id": "pOI9aQMsbGru",
    "outputId": "45d4ecb5-691a-4dd3-80e0-a591e1d32b19"
   },
   "outputs": [
    {
     "data": {
      "text/plain": [
       "1123"
      ]
     },
     "execution_count": 17,
     "metadata": {},
     "output_type": "execute_result"
    }
   ],
   "source": [
    "# Accessing the dictionary to get no. of images corresponding to age 1 in UTKFace dataset.\n",
    "\n",
    "utkface_images[1]"
   ]
  },
  {
   "cell_type": "code",
   "execution_count": 18,
   "metadata": {
    "colab": {
     "base_uri": "https://localhost:8080/",
     "height": 34
    },
    "colab_type": "code",
    "executionInfo": {
     "elapsed": 778,
     "status": "ok",
     "timestamp": 1593230887668,
     "user": {
      "displayName": "Prerak Agarwal",
      "photoUrl": "",
      "userId": "01206615471624868818"
     },
     "user_tz": -480
    },
    "id": "Us2ihejBbG4z",
    "outputId": "cb107b78-9c50-475c-98b3-4de8acda4e59"
   },
   "outputs": [
    {
     "data": {
      "text/plain": [
       "23708"
      ]
     },
     "execution_count": 18,
     "metadata": {},
     "output_type": "execute_result"
    }
   ],
   "source": [
    "# Checking total no. of images to ensure correctness of above code.\n",
    "# Total no. of images in UTKFace dataset is 23708.\n",
    "\n",
    "sum(utkface_images.values())"
   ]
  },
  {
   "cell_type": "code",
   "execution_count": 19,
   "metadata": {
    "colab": {
     "base_uri": "https://localhost:8080/",
     "height": 68
    },
    "colab_type": "code",
    "executionInfo": {
     "elapsed": 919,
     "status": "ok",
     "timestamp": 1593230889502,
     "user": {
      "displayName": "Prerak Agarwal",
      "photoUrl": "",
      "userId": "01206615471624868818"
     },
     "user_tz": -480
    },
    "id": "WiCtOcGJDngW",
    "outputId": "33a469dc-ac3b-4e05-8904-9129d6631f30"
   },
   "outputs": [
    {
     "data": {
      "text/plain": [
       "0    12391\n",
       "1    11317\n",
       "dtype: int64"
      ]
     },
     "execution_count": 19,
     "metadata": {},
     "output_type": "execute_result"
    }
   ],
   "source": [
    "# Grouping by the gender labels and checking the no. of images per gender label.\n",
    "# 0 = Male, 1 = Female\n",
    "# This is just for extra info and will not be used in the model.\n",
    "\n",
    "pd.Series(utkface_gender_labels).value_counts()"
   ]
  },
  {
   "cell_type": "code",
   "execution_count": 20,
   "metadata": {
    "colab": {
     "base_uri": "https://localhost:8080/",
     "height": 170
    },
    "colab_type": "code",
    "executionInfo": {
     "elapsed": 749,
     "status": "ok",
     "timestamp": 1593230893067,
     "user": {
      "displayName": "Prerak Agarwal",
      "photoUrl": "",
      "userId": "01206615471624868818"
     },
     "user_tz": -480
    },
    "id": "6hTSyYvCDnc9",
    "outputId": "fb5617af-1abc-4bf4-c8c4-a4012ccca5a9"
   },
   "outputs": [
    {
     "data": {
      "text/plain": [
       "0                                 10078\n",
       "1                                  4526\n",
       "3                                  3975\n",
       "2                                  3434\n",
       "4                                  1692\n",
       "20170109150557335.jpg.chip.jpg        1\n",
       "20170109142408075.jpg.chip.jpg        1\n",
       "20170116174525125.jpg.chip.jpg        1\n",
       "dtype: int64"
      ]
     },
     "execution_count": 20,
     "metadata": {},
     "output_type": "execute_result"
    }
   ],
   "source": [
    "# Grouping by the race labels and checking the no. of images per race label.\n",
    "# 0 = White, 1 = Black, 2 = Asian, 3 = Indian, 4 = Others (like Hispanic, Latino, Middle Eastern)\n",
    "# This is just for extra info and will not be used in the model.\n",
    "\n",
    "pd.Series(utkface_race_labels).value_counts()\n",
    "\n",
    "# 3 images don't have race labels in their file name, as seen below."
   ]
  },
  {
   "cell_type": "markdown",
   "metadata": {
    "colab_type": "text",
    "id": "pdAOlhlXH0DM"
   },
   "source": [
    "### Classes for Age Classification"
   ]
  },
  {
   "cell_type": "markdown",
   "metadata": {
    "colab_type": "text",
    "id": "j6z2mIa4IShr"
   },
   "source": [
    "In this section, I will **combine the different age labels into classes of age-ranges** so as to prepare the datasets for age classification modelling later. As this project is not specifically aimed at solving any particular data science problem, the choice of division of age-ranges into classes is quite flexible. However, it is still necessary to identify a few constraints to this process in the context of this project. The **following constraints are identified**:\n",
    "1. **Classes need to be *balanced*** - Classes of age-ranges should be established according to the number of images available per age label, such that the classes are as balanced as possible. *This will ensure that the classification model learns to classify each age-range equally.*\n",
    "2. **No. of classes need to be *sufficient*** - The number of classes of age-ranges needs to be chosen appropriately. Too many classes will result in very narrow age-ranges, which may badly affect the model performance (it is generally more difficult to predict someone's age exactly down to the year). Too few classes will result in very wide age-ranges, which may not serve the purpose of the age classification modelling itself. *6-12 classes* may be appropriate in this scenario.\n",
    "3. **Each class needs to have *sufficient data*** - The number of classes of age-ranges will also depend on the resulting number of images available for each class in the dataset. *Too many classes will result in narrow age-ranges, thus reducing the no. of images available for training the model on each class.* However, this may not be a significant factor since *data augmentation* techniques are readily available and, if needed, can be employed to increase the no. of images available per class.\n",
    "\n",
    "**Caveat** - *The constraints identified above imply that in this project, I am using the amount of data available as a driving factor in defining the nature of my classification problem. This may not be an ideal approach in a real-world data science problem. In reality, the ideal approach would be to first establish the classes for the model according to the data science problem at hand, and then collect a sufficient amount of data for each class so as to appropriately solve the data science problem. However, given the amateur nature of this project and my limited access to readily available facial image data for age classification, I believe this approach is justified in this scenario.*"
   ]
  },
  {
   "cell_type": "code",
   "execution_count": 21,
   "metadata": {
    "colab": {
     "base_uri": "https://localhost:8080/",
     "height": 34
    },
    "colab_type": "code",
    "executionInfo": {
     "elapsed": 1326,
     "status": "ok",
     "timestamp": 1593230911465,
     "user": {
      "displayName": "Prerak Agarwal",
      "photoUrl": "",
      "userId": "01206615471624868818"
     },
     "user_tz": -480
    },
    "id": "lpEJMRIqdvX_",
    "outputId": "fe257c25-80ba-40dc-b8e8-d180449617dd"
   },
   "outputs": [
    {
     "data": {
      "text/plain": [
       "99"
      ]
     },
     "execution_count": 21,
     "metadata": {},
     "output_type": "execute_result"
    }
   ],
   "source": [
    "# Checking no. of unique age values in facial-age dataset.\n",
    "\n",
    "facial_age_ages = list(facial_age_images.keys())\n",
    "len(facial_age_ages)"
   ]
  },
  {
   "cell_type": "code",
   "execution_count": 22,
   "metadata": {
    "colab": {
     "base_uri": "https://localhost:8080/",
     "height": 34
    },
    "colab_type": "code",
    "executionInfo": {
     "elapsed": 1113,
     "status": "ok",
     "timestamp": 1593230912385,
     "user": {
      "displayName": "Prerak Agarwal",
      "photoUrl": "",
      "userId": "01206615471624868818"
     },
     "user_tz": -480
    },
    "id": "QV6RVkcZdvgU",
    "outputId": "d0905a79-9c2b-47c7-a3a4-0dcd7323d1f6"
   },
   "outputs": [
    {
     "data": {
      "text/plain": [
       "104"
      ]
     },
     "execution_count": 22,
     "metadata": {},
     "output_type": "execute_result"
    }
   ],
   "source": [
    "# Checking no. of unique age values in UTKFace dataset.\n",
    "\n",
    "utkface_ages = list(utkface_images.keys())\n",
    "len(utkface_ages)"
   ]
  },
  {
   "cell_type": "code",
   "execution_count": 23,
   "metadata": {
    "colab": {},
    "colab_type": "code",
    "id": "CvgSP72UfnZZ"
   },
   "outputs": [],
   "source": [
    "# Combining the lists of age values from the two datasets and\n",
    "# converting the combined list to a set to keep only the unique age values.\n",
    "\n",
    "facial_age_ages.extend(utkface_ages)\n",
    "unique_ages = set(facial_age_ages)"
   ]
  },
  {
   "cell_type": "code",
   "execution_count": 24,
   "metadata": {
    "colab": {
     "base_uri": "https://localhost:8080/",
     "height": 34
    },
    "colab_type": "code",
    "executionInfo": {
     "elapsed": 778,
     "status": "ok",
     "timestamp": 1593230916095,
     "user": {
      "displayName": "Prerak Agarwal",
      "photoUrl": "",
      "userId": "01206615471624868818"
     },
     "user_tz": -480
    },
    "id": "mWB8acgMf8EC",
    "outputId": "a0bb721c-1bd9-4fa7-ff2b-b1f5f3e45da8"
   },
   "outputs": [
    {
     "data": {
      "text/plain": [
       "104"
      ]
     },
     "execution_count": 24,
     "metadata": {},
     "output_type": "execute_result"
    }
   ],
   "source": [
    "# Checking no. of unique age values in both datasets combined.\n",
    "\n",
    "len(unique_ages)"
   ]
  },
  {
   "cell_type": "code",
   "execution_count": 25,
   "metadata": {
    "colab": {},
    "colab_type": "code",
    "id": "_riRZZc0dvPZ"
   },
   "outputs": [],
   "source": [
    "# Creating a dictionary of age labels as keys and no. of images per age label in both datasets combined as values,\n",
    "# using the two dictionaries defined above.\n",
    "\n",
    "combined_images = {}\n",
    "\n",
    "for age in unique_ages:\n",
    "    fc_image = 0\n",
    "    utk_image = 0\n",
    "\n",
    "    # Using try-except loop to avoid KeyError in case a particular age value does not exist in the dictionary.\n",
    "    try:\n",
    "        fc_image = facial_age_images[age]\n",
    "    except:\n",
    "        pass\n",
    "    \n",
    "    try:\n",
    "        utk_image = utkface_images[age]\n",
    "    except:\n",
    "        pass\n",
    "    \n",
    "    # Summing up the no. of images for the age label.\n",
    "    combined_images[age] = fc_image + utk_image"
   ]
  },
  {
   "cell_type": "code",
   "execution_count": 26,
   "metadata": {
    "colab": {
     "base_uri": "https://localhost:8080/",
     "height": 34
    },
    "colab_type": "code",
    "executionInfo": {
     "elapsed": 991,
     "status": "ok",
     "timestamp": 1593230924277,
     "user": {
      "displayName": "Prerak Agarwal",
      "photoUrl": "",
      "userId": "01206615471624868818"
     },
     "user_tz": -480
    },
    "id": "x6yihhFKdveP",
    "outputId": "6047db10-350a-43b2-c52a-bdd5989c9f4c"
   },
   "outputs": [
    {
     "data": {
      "text/plain": [
       "33486"
      ]
     },
     "execution_count": 26,
     "metadata": {},
     "output_type": "execute_result"
    }
   ],
   "source": [
    "# Checking total no. of images in both datasets combined to ensure correctness of above code.\n",
    "\n",
    "sum(combined_images.values())"
   ]
  },
  {
   "cell_type": "code",
   "execution_count": 27,
   "metadata": {
    "colab": {
     "base_uri": "https://localhost:8080/",
     "height": 34
    },
    "colab_type": "code",
    "executionInfo": {
     "elapsed": 1156,
     "status": "ok",
     "timestamp": 1593230926410,
     "user": {
      "displayName": "Prerak Agarwal",
      "photoUrl": "",
      "userId": "01206615471624868818"
     },
     "user_tz": -480
    },
    "id": "2yGG73u_dvcq",
    "outputId": "dca70c20-6e8b-47b2-b4e9-f17617472f1c"
   },
   "outputs": [
    {
     "data": {
      "text/plain": [
       "33486"
      ]
     },
     "execution_count": 27,
     "metadata": {},
     "output_type": "execute_result"
    }
   ],
   "source": [
    "# Checking total no. of images by summing up no. of images in facial-age and UTKFace datasets.\n",
    "\n",
    "sum(facial_age_images.values()) + sum(utkface_images.values())"
   ]
  },
  {
   "cell_type": "code",
   "execution_count": 28,
   "metadata": {
    "colab": {
     "base_uri": "https://localhost:8080/",
     "height": 419
    },
    "colab_type": "code",
    "executionInfo": {
     "elapsed": 801,
     "status": "ok",
     "timestamp": 1593230929845,
     "user": {
      "displayName": "Prerak Agarwal",
      "photoUrl": "",
      "userId": "01206615471624868818"
     },
     "user_tz": -480
    },
    "id": "ULOQ4jXyiqKY",
    "outputId": "59a2435c-98aa-4c92-b811-0f27dbc1e672"
   },
   "outputs": [
    {
     "data": {
      "text/html": [
       "<div>\n",
       "<style scoped>\n",
       "    .dataframe tbody tr th:only-of-type {\n",
       "        vertical-align: middle;\n",
       "    }\n",
       "\n",
       "    .dataframe tbody tr th {\n",
       "        vertical-align: top;\n",
       "    }\n",
       "\n",
       "    .dataframe thead th {\n",
       "        text-align: right;\n",
       "    }\n",
       "</style>\n",
       "<table border=\"1\" class=\"dataframe\">\n",
       "  <thead>\n",
       "    <tr style=\"text-align: right;\">\n",
       "      <th></th>\n",
       "      <th>combined_images</th>\n",
       "      <th>facial_age_images</th>\n",
       "      <th>utkface_images</th>\n",
       "    </tr>\n",
       "  </thead>\n",
       "  <tbody>\n",
       "    <tr>\n",
       "      <th>1</th>\n",
       "      <td>2235</td>\n",
       "      <td>1112.0</td>\n",
       "      <td>1123</td>\n",
       "    </tr>\n",
       "    <tr>\n",
       "      <th>2</th>\n",
       "      <td>957</td>\n",
       "      <td>475.0</td>\n",
       "      <td>482</td>\n",
       "    </tr>\n",
       "    <tr>\n",
       "      <th>3</th>\n",
       "      <td>573</td>\n",
       "      <td>284.0</td>\n",
       "      <td>289</td>\n",
       "    </tr>\n",
       "    <tr>\n",
       "      <th>4</th>\n",
       "      <td>533</td>\n",
       "      <td>260.0</td>\n",
       "      <td>273</td>\n",
       "    </tr>\n",
       "    <tr>\n",
       "      <th>5</th>\n",
       "      <td>376</td>\n",
       "      <td>180.0</td>\n",
       "      <td>196</td>\n",
       "    </tr>\n",
       "    <tr>\n",
       "      <th>...</th>\n",
       "      <td>...</td>\n",
       "      <td>...</td>\n",
       "      <td>...</td>\n",
       "    </tr>\n",
       "    <tr>\n",
       "      <th>105</th>\n",
       "      <td>5</td>\n",
       "      <td>NaN</td>\n",
       "      <td>5</td>\n",
       "    </tr>\n",
       "    <tr>\n",
       "      <th>110</th>\n",
       "      <td>7</td>\n",
       "      <td>2.0</td>\n",
       "      <td>5</td>\n",
       "    </tr>\n",
       "    <tr>\n",
       "      <th>111</th>\n",
       "      <td>1</td>\n",
       "      <td>NaN</td>\n",
       "      <td>1</td>\n",
       "    </tr>\n",
       "    <tr>\n",
       "      <th>115</th>\n",
       "      <td>3</td>\n",
       "      <td>NaN</td>\n",
       "      <td>3</td>\n",
       "    </tr>\n",
       "    <tr>\n",
       "      <th>116</th>\n",
       "      <td>4</td>\n",
       "      <td>NaN</td>\n",
       "      <td>4</td>\n",
       "    </tr>\n",
       "  </tbody>\n",
       "</table>\n",
       "<p>104 rows × 3 columns</p>\n",
       "</div>"
      ],
      "text/plain": [
       "     combined_images  facial_age_images  utkface_images\n",
       "1               2235             1112.0            1123\n",
       "2                957              475.0             482\n",
       "3                573              284.0             289\n",
       "4                533              260.0             273\n",
       "5                376              180.0             196\n",
       "..               ...                ...             ...\n",
       "105                5                NaN               5\n",
       "110                7                2.0               5\n",
       "111                1                NaN               1\n",
       "115                3                NaN               3\n",
       "116                4                NaN               4\n",
       "\n",
       "[104 rows x 3 columns]"
      ]
     },
     "execution_count": 28,
     "metadata": {},
     "output_type": "execute_result"
    }
   ],
   "source": [
    "# Creating a dataframe to store the no. of images per age label in facial-age dataset, UTKFace dataset and the combined dataset.\n",
    "\n",
    "images_df = pd.DataFrame(combined_images.values(), index=combined_images.keys(), columns=['combined_images'])\n",
    "images_df['facial_age_images'] = pd.Series(facial_age_images)\n",
    "images_df['utkface_images'] = pd.Series(utkface_images)\n",
    "\n",
    "images_df"
   ]
  },
  {
   "cell_type": "code",
   "execution_count": 29,
   "metadata": {
    "colab": {
     "base_uri": "https://localhost:8080/",
     "height": 419
    },
    "colab_type": "code",
    "executionInfo": {
     "elapsed": 1158,
     "status": "ok",
     "timestamp": 1593230938192,
     "user": {
      "displayName": "Prerak Agarwal",
      "photoUrl": "",
      "userId": "01206615471624868818"
     },
     "user_tz": -480
    },
    "id": "mmqfv6xkdvMr",
    "outputId": "bb590cbe-1732-4af3-9371-6118ddab7f6e"
   },
   "outputs": [
    {
     "data": {
      "text/html": [
       "<div>\n",
       "<style scoped>\n",
       "    .dataframe tbody tr th:only-of-type {\n",
       "        vertical-align: middle;\n",
       "    }\n",
       "\n",
       "    .dataframe tbody tr th {\n",
       "        vertical-align: top;\n",
       "    }\n",
       "\n",
       "    .dataframe thead th {\n",
       "        text-align: right;\n",
       "    }\n",
       "</style>\n",
       "<table border=\"1\" class=\"dataframe\">\n",
       "  <thead>\n",
       "    <tr style=\"text-align: right;\">\n",
       "      <th></th>\n",
       "      <th>combined_images</th>\n",
       "      <th>facial_age_images</th>\n",
       "      <th>utkface_images</th>\n",
       "    </tr>\n",
       "  </thead>\n",
       "  <tbody>\n",
       "    <tr>\n",
       "      <th>1</th>\n",
       "      <td>2235</td>\n",
       "      <td>1112</td>\n",
       "      <td>1123</td>\n",
       "    </tr>\n",
       "    <tr>\n",
       "      <th>2</th>\n",
       "      <td>957</td>\n",
       "      <td>475</td>\n",
       "      <td>482</td>\n",
       "    </tr>\n",
       "    <tr>\n",
       "      <th>3</th>\n",
       "      <td>573</td>\n",
       "      <td>284</td>\n",
       "      <td>289</td>\n",
       "    </tr>\n",
       "    <tr>\n",
       "      <th>4</th>\n",
       "      <td>533</td>\n",
       "      <td>260</td>\n",
       "      <td>273</td>\n",
       "    </tr>\n",
       "    <tr>\n",
       "      <th>5</th>\n",
       "      <td>376</td>\n",
       "      <td>180</td>\n",
       "      <td>196</td>\n",
       "    </tr>\n",
       "    <tr>\n",
       "      <th>...</th>\n",
       "      <td>...</td>\n",
       "      <td>...</td>\n",
       "      <td>...</td>\n",
       "    </tr>\n",
       "    <tr>\n",
       "      <th>105</th>\n",
       "      <td>5</td>\n",
       "      <td>0</td>\n",
       "      <td>5</td>\n",
       "    </tr>\n",
       "    <tr>\n",
       "      <th>110</th>\n",
       "      <td>7</td>\n",
       "      <td>2</td>\n",
       "      <td>5</td>\n",
       "    </tr>\n",
       "    <tr>\n",
       "      <th>111</th>\n",
       "      <td>1</td>\n",
       "      <td>0</td>\n",
       "      <td>1</td>\n",
       "    </tr>\n",
       "    <tr>\n",
       "      <th>115</th>\n",
       "      <td>3</td>\n",
       "      <td>0</td>\n",
       "      <td>3</td>\n",
       "    </tr>\n",
       "    <tr>\n",
       "      <th>116</th>\n",
       "      <td>4</td>\n",
       "      <td>0</td>\n",
       "      <td>4</td>\n",
       "    </tr>\n",
       "  </tbody>\n",
       "</table>\n",
       "<p>104 rows × 3 columns</p>\n",
       "</div>"
      ],
      "text/plain": [
       "     combined_images  facial_age_images  utkface_images\n",
       "1               2235               1112            1123\n",
       "2                957                475             482\n",
       "3                573                284             289\n",
       "4                533                260             273\n",
       "5                376                180             196\n",
       "..               ...                ...             ...\n",
       "105                5                  0               5\n",
       "110                7                  2               5\n",
       "111                1                  0               1\n",
       "115                3                  0               3\n",
       "116                4                  0               4\n",
       "\n",
       "[104 rows x 3 columns]"
      ]
     },
     "execution_count": 29,
     "metadata": {},
     "output_type": "execute_result"
    }
   ],
   "source": [
    "# Imputing the null values in above dataframe with 0s.\n",
    "\n",
    "images_df.fillna(0, inplace=True)\n",
    "images_df = images_df.astype(int)\n",
    "\n",
    "images_df"
   ]
  },
  {
   "cell_type": "code",
   "execution_count": 30,
   "metadata": {
    "colab": {},
    "colab_type": "code",
    "id": "6NTgog2DFAC7"
   },
   "outputs": [],
   "source": [
    "# Exporting above created dataframe as a CSV file.\n",
    "from pathlib import Path\n",
    "\n",
    "images_df.to_csv( child_dir + r\"\\input_output\\images_summary.csv\", index=True, index_label='age')"
   ]
  },
  {
   "cell_type": "markdown",
   "metadata": {
    "colab_type": "text",
    "id": "CKVnUR9lU6HA"
   },
   "source": [
    "As explained above, I will now **combine the different age labels into classes of age-ranges** so as to prepare the datasets for age classification modelling. The different possible combinations of age ranges will be generated using a function defined below."
   ]
  },
  {
   "cell_type": "code",
   "execution_count": 31,
   "metadata": {
    "colab": {},
    "colab_type": "code",
    "id": "Q3MmUZ-toANG"
   },
   "outputs": [],
   "source": [
    "# Defining a function to split the images in each dataset into n classes (user input).\n",
    "# Function INPUT: Dataset series of no. of images per age index, and n_classes. \n",
    "# Function OUTPUT: Dataset broken up into n_classes with age-ranges, no. of images and proportion balance per class.\n",
    "\n",
    "def split_classes(ser, n_classes):\n",
    "\n",
    "    # Calculating the target number of images per class depending on the total no. of images in the dataset.\n",
    "    n_images = int(sum(ser) / n_classes)\n",
    "\n",
    "    print(f\"Total no. of images in dataset\\t= {sum(ser)}\")\n",
    "    print(f\"No. of classes desired\\t\\t= {n_classes}\")\n",
    "    print(f\"So, target no. of images/class\\t>= {sum(ser)}/{n_classes} = ~{n_images}\")\n",
    "    print()\n",
    "\n",
    "    # Initiating a dataframe to show the breakdown of age-ranges as output.\n",
    "    classes_df = pd.DataFrame(columns=['Age-ranges (classes)', 'No. of images', 'Class balance (%)'])\n",
    "\n",
    "    # Initiating an age index variable to be used to iterate through the ages in the given input series.\n",
    "    age_index = 0\n",
    "\n",
    "    for i in range(n_classes):\n",
    "\n",
    "        # Storing the starting age of the class in a variable age_start.\n",
    "        # Storing the current age being iterated in a variable age_current.\n",
    "        # Keeping track of age_index variable so as not to let it go out of index.\n",
    "        if age_index<=103:\n",
    "            age_start = ser.index[age_index]\n",
    "            age_current = ser.index[age_index]\n",
    "        else:\n",
    "            break\n",
    "\n",
    "        # Initiating a new variable to keep track of no. of images added to current class.\n",
    "        class_images = 0\n",
    "        \n",
    "        # Iterating through the ages in the given input series and adding up the no. of images\n",
    "        # until it exceeds the target number of images per class, using the age_index and age_current variables.\n",
    "        while class_images < n_images:\n",
    "            class_images += ser[age_current]\n",
    "            age_index += 1\n",
    "\n",
    "            # Keeping track of age_index variable so as not to let it go out of index.\n",
    "            if age_index<=103:\n",
    "                age_current = ser.index[age_index]\n",
    "            else:\n",
    "                break\n",
    "\n",
    "        # Storing the ending age of the class in a variable age_end.\n",
    "        # Keeping track of age_index variable so as not to let it go out of index.\n",
    "        if age_index<=104:\n",
    "            age_end = ser.index[age_index-1]\n",
    "        else:\n",
    "            break\n",
    "        \n",
    "        # Adding the above calculated variables into the dataframe for easier printing and analysis.\n",
    "        classes_df.loc[i, 'Age-ranges (classes)'] = str(age_start)+\" - \"+str(age_end)\n",
    "        classes_df.loc[i, 'No. of images'] = class_images\n",
    "        classes_df.loc[i, 'Class balance (%)'] = round((class_images / sum(ser)) * 100, 2)\n",
    "    \n",
    "    # Calculating some basic statistics about no. of images and the class balance.\n",
    "    mean_images = int(round(np.mean(classes_df.loc[:, 'No. of images'])))\n",
    "    mean_balance = round(np.mean(classes_df.loc[:, 'Class balance (%)']), 2)\n",
    "    std_balance = round(np.std(classes_df.loc[:, 'Class balance (%)']), 2)\n",
    "    \n",
    "    print(f\"Mean no. of images/class\\t= ~{mean_images}\")\n",
    "    print(f\"Mean class balance\\t\\t= {mean_balance}%\")\n",
    "    print(f\"Std. of class balance\\t\\t= {std_balance}%\")\n",
    "    print()\n",
    "\n",
    "    # Returning the dataframe with all the classes info.\n",
    "    return classes_df"
   ]
  },
  {
   "cell_type": "code",
   "execution_count": 32,
   "metadata": {
    "colab": {
     "base_uri": "https://localhost:8080/",
     "height": 495
    },
    "colab_type": "code",
    "executionInfo": {
     "elapsed": 719,
     "status": "ok",
     "timestamp": 1593231009595,
     "user": {
      "displayName": "Prerak Agarwal",
      "photoUrl": "",
      "userId": "01206615471624868818"
     },
     "user_tz": -480
    },
    "id": "CD1QdR8loEqi",
    "outputId": "0ff0ffbf-c2ac-4d31-a35e-8e1c05b62254"
   },
   "outputs": [
    {
     "name": "stdout",
     "output_type": "stream",
     "text": [
      "Total no. of images in dataset\t= 9778\n",
      "No. of classes desired\t\t= 11\n",
      "So, target no. of images/class\t>= 9778/11 = ~888\n",
      "\n",
      "Mean no. of images/class\t= ~978\n",
      "Mean class balance\t\t= 10.0%\n",
      "Std. of class balance\t\t= 1.13%\n",
      "\n"
     ]
    },
    {
     "data": {
      "text/html": [
       "<div>\n",
       "<style scoped>\n",
       "    .dataframe tbody tr th:only-of-type {\n",
       "        vertical-align: middle;\n",
       "    }\n",
       "\n",
       "    .dataframe tbody tr th {\n",
       "        vertical-align: top;\n",
       "    }\n",
       "\n",
       "    .dataframe thead th {\n",
       "        text-align: right;\n",
       "    }\n",
       "</style>\n",
       "<table border=\"1\" class=\"dataframe\">\n",
       "  <thead>\n",
       "    <tr style=\"text-align: right;\">\n",
       "      <th></th>\n",
       "      <th>Age-ranges (classes)</th>\n",
       "      <th>No. of images</th>\n",
       "      <th>Class balance (%)</th>\n",
       "    </tr>\n",
       "  </thead>\n",
       "  <tbody>\n",
       "    <tr>\n",
       "      <th>0</th>\n",
       "      <td>1 - 1</td>\n",
       "      <td>1112</td>\n",
       "      <td>11.37</td>\n",
       "    </tr>\n",
       "    <tr>\n",
       "      <th>1</th>\n",
       "      <td>2 - 4</td>\n",
       "      <td>1019</td>\n",
       "      <td>10.42</td>\n",
       "    </tr>\n",
       "    <tr>\n",
       "      <th>2</th>\n",
       "      <td>5 - 10</td>\n",
       "      <td>955</td>\n",
       "      <td>9.77</td>\n",
       "    </tr>\n",
       "    <tr>\n",
       "      <th>3</th>\n",
       "      <td>11 - 18</td>\n",
       "      <td>1020</td>\n",
       "      <td>10.43</td>\n",
       "    </tr>\n",
       "    <tr>\n",
       "      <th>4</th>\n",
       "      <td>19 - 26</td>\n",
       "      <td>1154</td>\n",
       "      <td>11.8</td>\n",
       "    </tr>\n",
       "    <tr>\n",
       "      <th>5</th>\n",
       "      <td>27 - 34</td>\n",
       "      <td>901</td>\n",
       "      <td>9.21</td>\n",
       "    </tr>\n",
       "    <tr>\n",
       "      <th>6</th>\n",
       "      <td>35 - 45</td>\n",
       "      <td>935</td>\n",
       "      <td>9.56</td>\n",
       "    </tr>\n",
       "    <tr>\n",
       "      <th>7</th>\n",
       "      <td>46 - 56</td>\n",
       "      <td>1017</td>\n",
       "      <td>10.4</td>\n",
       "    </tr>\n",
       "    <tr>\n",
       "      <th>8</th>\n",
       "      <td>57 - 70</td>\n",
       "      <td>924</td>\n",
       "      <td>9.45</td>\n",
       "    </tr>\n",
       "    <tr>\n",
       "      <th>9</th>\n",
       "      <td>71 - 116</td>\n",
       "      <td>741</td>\n",
       "      <td>7.58</td>\n",
       "    </tr>\n",
       "  </tbody>\n",
       "</table>\n",
       "</div>"
      ],
      "text/plain": [
       "  Age-ranges (classes) No. of images Class balance (%)\n",
       "0                1 - 1          1112             11.37\n",
       "1                2 - 4          1019             10.42\n",
       "2               5 - 10           955              9.77\n",
       "3              11 - 18          1020             10.43\n",
       "4              19 - 26          1154              11.8\n",
       "5              27 - 34           901              9.21\n",
       "6              35 - 45           935              9.56\n",
       "7              46 - 56          1017              10.4\n",
       "8              57 - 70           924              9.45\n",
       "9             71 - 116           741              7.58"
      ]
     },
     "execution_count": 32,
     "metadata": {},
     "output_type": "execute_result"
    }
   ],
   "source": [
    "# Applying the above function on facial-age dataset to split it into 11 classes.\n",
    "\n",
    "facial_age_classes = split_classes(images_df['facial_age_images'], 11)\n",
    "facial_age_classes"
   ]
  },
  {
   "cell_type": "code",
   "execution_count": 33,
   "metadata": {
    "colab": {
     "base_uri": "https://localhost:8080/",
     "height": 495
    },
    "colab_type": "code",
    "executionInfo": {
     "elapsed": 1063,
     "status": "ok",
     "timestamp": 1593231030298,
     "user": {
      "displayName": "Prerak Agarwal",
      "photoUrl": "",
      "userId": "01206615471624868818"
     },
     "user_tz": -480
    },
    "id": "waq2rm21oEjt",
    "outputId": "84b40afc-615f-4149-f27a-ddae86487601"
   },
   "outputs": [
    {
     "name": "stdout",
     "output_type": "stream",
     "text": [
      "Total no. of images in dataset\t= 23708\n",
      "No. of classes desired\t\t= 11\n",
      "So, target no. of images/class\t>= 23708/11 = ~2155\n",
      "\n",
      "Mean no. of images/class\t= ~2371\n",
      "Mean class balance\t\t= 10.0%\n",
      "Std. of class balance\t\t= 1.36%\n",
      "\n"
     ]
    },
    {
     "data": {
      "text/html": [
       "<div>\n",
       "<style scoped>\n",
       "    .dataframe tbody tr th:only-of-type {\n",
       "        vertical-align: middle;\n",
       "    }\n",
       "\n",
       "    .dataframe tbody tr th {\n",
       "        vertical-align: top;\n",
       "    }\n",
       "\n",
       "    .dataframe thead th {\n",
       "        text-align: right;\n",
       "    }\n",
       "</style>\n",
       "<table border=\"1\" class=\"dataframe\">\n",
       "  <thead>\n",
       "    <tr style=\"text-align: right;\">\n",
       "      <th></th>\n",
       "      <th>Age-ranges (classes)</th>\n",
       "      <th>No. of images</th>\n",
       "      <th>Class balance (%)</th>\n",
       "    </tr>\n",
       "  </thead>\n",
       "  <tbody>\n",
       "    <tr>\n",
       "      <th>0</th>\n",
       "      <td>1 - 4</td>\n",
       "      <td>2167</td>\n",
       "      <td>9.14</td>\n",
       "    </tr>\n",
       "    <tr>\n",
       "      <th>1</th>\n",
       "      <td>5 - 18</td>\n",
       "      <td>2328</td>\n",
       "      <td>9.82</td>\n",
       "    </tr>\n",
       "    <tr>\n",
       "      <th>2</th>\n",
       "      <td>19 - 24</td>\n",
       "      <td>2408</td>\n",
       "      <td>10.16</td>\n",
       "    </tr>\n",
       "    <tr>\n",
       "      <th>3</th>\n",
       "      <td>25 - 26</td>\n",
       "      <td>2931</td>\n",
       "      <td>12.36</td>\n",
       "    </tr>\n",
       "    <tr>\n",
       "      <th>4</th>\n",
       "      <td>27 - 30</td>\n",
       "      <td>2827</td>\n",
       "      <td>11.92</td>\n",
       "    </tr>\n",
       "    <tr>\n",
       "      <th>5</th>\n",
       "      <td>31 - 35</td>\n",
       "      <td>2446</td>\n",
       "      <td>10.32</td>\n",
       "    </tr>\n",
       "    <tr>\n",
       "      <th>6</th>\n",
       "      <td>36 - 42</td>\n",
       "      <td>2291</td>\n",
       "      <td>9.66</td>\n",
       "    </tr>\n",
       "    <tr>\n",
       "      <th>7</th>\n",
       "      <td>43 - 53</td>\n",
       "      <td>2313</td>\n",
       "      <td>9.76</td>\n",
       "    </tr>\n",
       "    <tr>\n",
       "      <th>8</th>\n",
       "      <td>54 - 65</td>\n",
       "      <td>2298</td>\n",
       "      <td>9.69</td>\n",
       "    </tr>\n",
       "    <tr>\n",
       "      <th>9</th>\n",
       "      <td>66 - 116</td>\n",
       "      <td>1699</td>\n",
       "      <td>7.17</td>\n",
       "    </tr>\n",
       "  </tbody>\n",
       "</table>\n",
       "</div>"
      ],
      "text/plain": [
       "  Age-ranges (classes) No. of images Class balance (%)\n",
       "0                1 - 4          2167              9.14\n",
       "1               5 - 18          2328              9.82\n",
       "2              19 - 24          2408             10.16\n",
       "3              25 - 26          2931             12.36\n",
       "4              27 - 30          2827             11.92\n",
       "5              31 - 35          2446             10.32\n",
       "6              36 - 42          2291              9.66\n",
       "7              43 - 53          2313              9.76\n",
       "8              54 - 65          2298              9.69\n",
       "9             66 - 116          1699              7.17"
      ]
     },
     "execution_count": 33,
     "metadata": {},
     "output_type": "execute_result"
    }
   ],
   "source": [
    "# Applying the above function on UTKFace dataset to split it into 11 classes.\n",
    "\n",
    "utkface_classes = split_classes(images_df['utkface_images'], 11)\n",
    "utkface_classes"
   ]
  },
  {
   "cell_type": "code",
   "execution_count": 34,
   "metadata": {
    "colab": {
     "base_uri": "https://localhost:8080/",
     "height": 526
    },
    "colab_type": "code",
    "executionInfo": {
     "elapsed": 694,
     "status": "ok",
     "timestamp": 1593231071513,
     "user": {
      "displayName": "Prerak Agarwal",
      "photoUrl": "",
      "userId": "01206615471624868818"
     },
     "user_tz": -480
    },
    "id": "IKQucAIOoAKC",
    "outputId": "aefd7076-160d-4a9a-d2c8-7429ecfe70db"
   },
   "outputs": [
    {
     "name": "stdout",
     "output_type": "stream",
     "text": [
      "Total no. of images in dataset\t= 33486\n",
      "No. of classes desired\t\t= 12\n",
      "So, target no. of images/class\t>= 33486/12 = ~2790\n",
      "\n",
      "Mean no. of images/class\t= ~3044\n",
      "Mean class balance\t\t= 9.09%\n",
      "Std. of class balance\t\t= 0.68%\n",
      "\n"
     ]
    },
    {
     "data": {
      "text/html": [
       "<div>\n",
       "<style scoped>\n",
       "    .dataframe tbody tr th:only-of-type {\n",
       "        vertical-align: middle;\n",
       "    }\n",
       "\n",
       "    .dataframe tbody tr th {\n",
       "        vertical-align: top;\n",
       "    }\n",
       "\n",
       "    .dataframe thead th {\n",
       "        text-align: right;\n",
       "    }\n",
       "</style>\n",
       "<table border=\"1\" class=\"dataframe\">\n",
       "  <thead>\n",
       "    <tr style=\"text-align: right;\">\n",
       "      <th></th>\n",
       "      <th>Age-ranges (classes)</th>\n",
       "      <th>No. of images</th>\n",
       "      <th>Class balance (%)</th>\n",
       "    </tr>\n",
       "  </thead>\n",
       "  <tbody>\n",
       "    <tr>\n",
       "      <th>0</th>\n",
       "      <td>1 - 2</td>\n",
       "      <td>3192</td>\n",
       "      <td>9.53</td>\n",
       "    </tr>\n",
       "    <tr>\n",
       "      <th>1</th>\n",
       "      <td>3 - 9</td>\n",
       "      <td>2816</td>\n",
       "      <td>8.41</td>\n",
       "    </tr>\n",
       "    <tr>\n",
       "      <th>2</th>\n",
       "      <td>10 - 20</td>\n",
       "      <td>3136</td>\n",
       "      <td>9.37</td>\n",
       "    </tr>\n",
       "    <tr>\n",
       "      <th>3</th>\n",
       "      <td>21 - 25</td>\n",
       "      <td>3474</td>\n",
       "      <td>10.37</td>\n",
       "    </tr>\n",
       "    <tr>\n",
       "      <th>4</th>\n",
       "      <td>26 - 27</td>\n",
       "      <td>3217</td>\n",
       "      <td>9.61</td>\n",
       "    </tr>\n",
       "    <tr>\n",
       "      <th>5</th>\n",
       "      <td>28 - 31</td>\n",
       "      <td>3063</td>\n",
       "      <td>9.15</td>\n",
       "    </tr>\n",
       "    <tr>\n",
       "      <th>6</th>\n",
       "      <td>32 - 36</td>\n",
       "      <td>3086</td>\n",
       "      <td>9.22</td>\n",
       "    </tr>\n",
       "    <tr>\n",
       "      <th>7</th>\n",
       "      <td>37 - 45</td>\n",
       "      <td>3207</td>\n",
       "      <td>9.58</td>\n",
       "    </tr>\n",
       "    <tr>\n",
       "      <th>8</th>\n",
       "      <td>46 - 54</td>\n",
       "      <td>2802</td>\n",
       "      <td>8.37</td>\n",
       "    </tr>\n",
       "    <tr>\n",
       "      <th>9</th>\n",
       "      <td>55 - 65</td>\n",
       "      <td>2796</td>\n",
       "      <td>8.35</td>\n",
       "    </tr>\n",
       "    <tr>\n",
       "      <th>10</th>\n",
       "      <td>66 - 116</td>\n",
       "      <td>2697</td>\n",
       "      <td>8.05</td>\n",
       "    </tr>\n",
       "  </tbody>\n",
       "</table>\n",
       "</div>"
      ],
      "text/plain": [
       "   Age-ranges (classes) No. of images Class balance (%)\n",
       "0                 1 - 2          3192              9.53\n",
       "1                 3 - 9          2816              8.41\n",
       "2               10 - 20          3136              9.37\n",
       "3               21 - 25          3474             10.37\n",
       "4               26 - 27          3217              9.61\n",
       "5               28 - 31          3063              9.15\n",
       "6               32 - 36          3086              9.22\n",
       "7               37 - 45          3207              9.58\n",
       "8               46 - 54          2802              8.37\n",
       "9               55 - 65          2796              8.35\n",
       "10             66 - 116          2697              8.05"
      ]
     },
     "execution_count": 34,
     "metadata": {},
     "output_type": "execute_result"
    }
   ],
   "source": [
    "# Applying the above function on the combined facial-age and UTKFace datasets to split them into 12 classes.\n",
    "\n",
    "combined_classes = split_classes(images_df['combined_images'], 12)\n",
    "combined_classes"
   ]
  },
  {
   "cell_type": "code",
   "execution_count": 35,
   "metadata": {
    "colab": {},
    "colab_type": "code",
    "id": "uaNc5ZLOPCSN"
   },
   "outputs": [],
   "source": [
    "# Exporting above created dataframe as a CSV file.\n",
    "\n",
    "combined_classes.to_csv(child_dir + r\"\\input_output\\combined_faces_classes_summary.csv\", index=True, index_label='Class label')"
   ]
  },
  {
   "cell_type": "markdown",
   "metadata": {
    "colab_type": "text",
    "id": "GMp1H1qTLV9X"
   },
   "source": [
    "## Dataset Preparation"
   ]
  },
  {
   "cell_type": "markdown",
   "metadata": {
    "colab_type": "text",
    "id": "yw0bLfauh6Ea"
   },
   "source": [
    "### Merging the Datasets"
   ]
  },
  {
   "cell_type": "markdown",
   "metadata": {
    "colab_type": "text",
    "id": "NVskU_pP56KB"
   },
   "source": [
    "In this section, I will **merge the *facial-age* and *UTKFace* datasets into one *combined_faces* dataset**.\n",
    "\n",
    "The PNG images from the *facial-age* dataset will also be **converted to JPG** format before merging. "
   ]
  },
  {
   "cell_type": "code",
   "execution_count": 37,
   "metadata": {
    "colab": {
     "base_uri": "https://localhost:8080/",
     "height": 697
    },
    "colab_type": "code",
    "executionInfo": {
     "elapsed": 26760,
     "status": "ok",
     "timestamp": 1592323517229,
     "user": {
      "displayName": "Prerak Agarwal",
      "photoUrl": "",
      "userId": "01206615471624868818"
     },
     "user_tz": -480
    },
    "id": "Yrj4bZfqn_-u",
    "outputId": "5ff5c71d-5478-4a9a-d468-4e44a506b073"
   },
   "outputs": [
    {
     "name": "stdout",
     "output_type": "stream",
     "text": [
      "Merging images from facial-age dataset into combined_faces.\n",
      "\n",
      "Images copied to combined_faces folder: 1000 of 33486\n",
      "Images copied to combined_faces folder: 2000 of 33486\n",
      "Images copied to combined_faces folder: 3000 of 33486\n",
      "Images copied to combined_faces folder: 4000 of 33486\n",
      "Images copied to combined_faces folder: 5000 of 33486\n",
      "Images copied to combined_faces folder: 6000 of 33486\n",
      "Images copied to combined_faces folder: 7000 of 33486\n",
      "Images copied to combined_faces folder: 8000 of 33486\n",
      "Images copied to combined_faces folder: 9000 of 33486\n",
      "\n",
      "Merging images from UTKFace dataset into combined_faces.\n",
      "\n",
      "Images copied to combined_faces folder: 10000 of 33486\n",
      "Images copied to combined_faces folder: 11000 of 33486\n",
      "Images copied to combined_faces folder: 12000 of 33486\n",
      "Images copied to combined_faces folder: 13000 of 33486\n",
      "Images copied to combined_faces folder: 14000 of 33486\n",
      "Images copied to combined_faces folder: 15000 of 33486\n",
      "Images copied to combined_faces folder: 16000 of 33486\n",
      "Images copied to combined_faces folder: 17000 of 33486\n",
      "Images copied to combined_faces folder: 18000 of 33486\n",
      "Images copied to combined_faces folder: 19000 of 33486\n",
      "Images copied to combined_faces folder: 20000 of 33486\n",
      "Images copied to combined_faces folder: 21000 of 33486\n",
      "Images copied to combined_faces folder: 22000 of 33486\n",
      "Images copied to combined_faces folder: 23000 of 33486\n",
      "Images copied to combined_faces folder: 24000 of 33486\n",
      "Images copied to combined_faces folder: 25000 of 33486\n",
      "Images copied to combined_faces folder: 26000 of 33486\n",
      "Images copied to combined_faces folder: 27000 of 33486\n",
      "Images copied to combined_faces folder: 28000 of 33486\n",
      "Images copied to combined_faces folder: 29000 of 33486\n",
      "Images copied to combined_faces folder: 30000 of 33486\n",
      "Images copied to combined_faces folder: 31000 of 33486\n",
      "Images copied to combined_faces folder: 32000 of 33486\n",
      "Images copied to combined_faces folder: 33000 of 33486\n",
      "\n",
      "Done merging images from both datasets into combined_faces.\n"
     ]
    }
   ],
   "source": [
    "progress_counter = 0\n",
    "age_file_counter = [1] * 117\n",
    "\n",
    "print(\"Merging images from facial-age dataset into combined_faces.\\n\")\n",
    "\n",
    "for age in facial_age_folders:\n",
    "    age_path = os.path.join(facial_age_path, age)\n",
    "\n",
    "    img_files = os.listdir(age_path)\n",
    "\n",
    "    for img in img_files:\n",
    "\n",
    "        img_src = os.path.join(age_path, img)\n",
    "\n",
    "        new_filename = str(int(age)) + \"_\" + str(age_file_counter[int(age)]) + \".jpg\"\n",
    "        age_file_counter[int(age)] += 1\n",
    "\n",
    "        img_dest = os.path.join(ROOT_DIR + r\"\\content\\combined_faces\", new_filename)\n",
    "\n",
    "        # Converting the .PNG images to .JPG so as to maintain consistency with of filetype throughout the combined datasets.\n",
    "        png_image = cv2.imread(img_src)\n",
    "        cv2.imwrite(img_dest, png_image, [int(cv2.IMWRITE_JPEG_QUALITY), 100])\n",
    "\n",
    "        progress_counter += 1\n",
    "\n",
    "        if progress_counter % 1000 == 0:\n",
    "            print(f\"Images copied to combined_faces folder: {progress_counter} of 33486\")\n",
    "\n",
    "print(\"\\nMerging images from UTKFace dataset into combined_faces.\\n\")\n",
    "\n",
    "for img in utkface_image_names:\n",
    "\n",
    "    file_type = img.split(\".\")[-1]\n",
    "    age = img.split(\"_\")[0]\n",
    "\n",
    "    img_src = os.path.join(utkface_path, img)\n",
    "\n",
    "    new_filename = age + \"_\" + str(age_file_counter[int(age)]) + \".\" + file_type\n",
    "    age_file_counter[int(age)] += 1\n",
    "\n",
    "    img_dest = os.path.join(ROOT_DIR + r\"\\content\\combined_faces\", new_filename)\n",
    "\n",
    "    shutil.copy(img_src, img_dest);\n",
    "    progress_counter += 1\n",
    "\n",
    "    if progress_counter % 1000 == 0:\n",
    "        print(f\"Images copied to combined_faces folder: {progress_counter} of 33486\")\n",
    "\n",
    "print(\"\\nDone merging images from both datasets into combined_faces.\")"
   ]
  },
  {
   "cell_type": "code",
   "execution_count": 38,
   "metadata": {
    "colab": {},
    "colab_type": "code",
    "id": "jFSbOXlbgxlH"
   },
   "outputs": [],
   "source": [
    "# Defining a function to get all paths of files before zipping combined_faces folder.\n",
    "\n",
    "def get_all_file_paths(path):\n",
    "\n",
    "    file_paths = []\n",
    "\n",
    "    # Crawling through each directory and subdirectories at the given path.\n",
    "    for root, dirs, files in os.walk(path):\n",
    "        for filename in files:\n",
    "            filepath = os.path.join(root, filename)\n",
    "            file_paths.append(filepath)\n",
    "\n",
    "    # Returning all file paths.\n",
    "    return file_paths\n",
    "\n",
    "# Calling above defined function to get file paths of all images before zipping the folder.\n",
    "file_paths = get_all_file_paths(ROOT_DIR + r\"\\content\\combined_faces\")"
   ]
  },
  {
   "cell_type": "code",
   "execution_count": 39,
   "metadata": {
    "colab": {
     "base_uri": "https://localhost:8080/",
     "height": 34
    },
    "colab_type": "code",
    "executionInfo": {
     "elapsed": 17761,
     "status": "ok",
     "timestamp": 1592323561442,
     "user": {
      "displayName": "Prerak Agarwal",
      "photoUrl": "",
      "userId": "01206615471624868818"
     },
     "user_tz": -480
    },
    "id": "nBKE3gXrgxR_",
    "outputId": "5a607a27-2aed-40b2-b2dd-fcfcab165987"
   },
   "outputs": [
    {
     "name": "stdout",
     "output_type": "stream",
     "text": [
      "Done zipping combined_faces!\n"
     ]
    }
   ],
   "source": [
    "# Zipping the combined_faces dataset folder.\n",
    "\n",
    "combined_faces_zip_path = ROOT_DIR + r\"\\ZIPPED_DATASETS\\combined_faces.zip\"\n",
    "\n",
    "with ZipFile(combined_faces_zip_path, 'w') as myzip:\n",
    "    for file in file_paths:\n",
    "        myzip.write(file)\n",
    "    print('Done zipping combined_faces!')"
   ]
  }
 ],
 "metadata": {
  "colab": {
   "authorship_tag": "ABX9TyOVO6LwFLt1IBzdwJkTeghx",
   "collapsed_sections": [],
   "name": "1_EDA_dataset_prep.ipynb",
   "provenance": [],
   "toc_visible": true
  },
  "kernelspec": {
   "display_name": "Python (age_detection)",
   "language": "python",
   "name": "age_detection"
  },
  "language_info": {
   "codemirror_mode": {
    "name": "ipython",
    "version": 3
   },
   "file_extension": ".py",
   "mimetype": "text/x-python",
   "name": "python",
   "nbconvert_exporter": "python",
   "pygments_lexer": "ipython3",
   "version": "3.8.8"
  }
 },
 "nbformat": 4,
 "nbformat_minor": 1
}
