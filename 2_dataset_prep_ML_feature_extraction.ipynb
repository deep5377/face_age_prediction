{
 "cells": [
  {
   "cell_type": "code",
   "execution_count": 1,
   "metadata": {
    "colab": {},
    "colab_type": "code",
    "id": "-mUyId4Rc1fT"
   },
   "outputs": [],
   "source": [
    "# Imports\n",
    "# Please refer to requirements.txt for a full list of all libraries and their versions used in this project.\n",
    "\n",
    "import pandas as pd\n",
    "import numpy as np\n",
    "import matplotlib.pyplot as plt\n",
    "import cv2\n",
    "from skimage.filters.rank import entropy\n",
    "from skimage.morphology import disk\n",
    "from skimage.filters import gaussian, sobel\n",
    "from skimage.feature import canny\n",
    "\n",
    "import os\n",
    "from zipfile import ZipFile\n",
    "import time\n",
    "from datetime import datetime\n",
    "\n",
    "from sklearn.utils import shuffle\n",
    "from sklearn.model_selection import train_test_split"
   ]
  },
  {
   "cell_type": "code",
   "execution_count": 2,
   "metadata": {},
   "outputs": [
    {
     "name": "stdout",
     "output_type": "stream",
     "text": [
      "D:\\Code\\deep-age-detec\\Age_Classification_with_Faces\\code\n"
     ]
    }
   ],
   "source": [
    "ROOT_DIR = os.getcwd()\n",
    "child_dir = os.path.abspath(os.path.join(os.getcwd(), \"..\"))\n",
    "print(ROOT_DIR)"
   ]
  },
  {
   "cell_type": "markdown",
   "metadata": {
    "colab_type": "text",
    "id": "EM7w-vXSK9Mq"
   },
   "source": [
    "## Dataset Preparation"
   ]
  },
  {
   "cell_type": "code",
   "execution_count": 7,
   "metadata": {
    "colab": {
     "base_uri": "https://localhost:8080/",
     "height": 34
    },
    "colab_type": "code",
    "executionInfo": {
     "elapsed": 10057,
     "status": "ok",
     "timestamp": 1592578054596,
     "user": {
      "displayName": "Prerak Agarwal",
      "photoUrl": "",
      "userId": "01206615471624868818"
     },
     "user_tz": -480
    },
    "id": "cs3--Pzoc6qE",
    "outputId": "b1a267c3-5de2-4aac-ece2-da8f34e4ff04"
   },
   "outputs": [
    {
     "name": "stdout",
     "output_type": "stream",
     "text": [
      "Done unzipping combined_faces.zip\n"
     ]
    }
   ],
   "source": [
    "# Unzipping the dataset file combined_faces.zip\n",
    "\n",
    "combined_faces_zip_path = ROOT_DIR + r\"\\ZIPPED_DATASETS\\combined_faces.zip\"\n",
    "\n",
    "with ZipFile(combined_faces_zip_path, 'r') as myzip:\n",
    "    myzip.extractall()\n",
    "    print('Done unzipping combined_faces.zip')"
   ]
  },
  {
   "cell_type": "code",
   "execution_count": 16,
   "metadata": {
    "colab": {},
    "colab_type": "code",
    "id": "pkRFgrwQc6jw"
   },
   "outputs": [
    {
     "data": {
      "text/plain": [
       "['100_1.jpg',\n",
       " '100_10.jpg',\n",
       " '100_11.jpg',\n",
       " '100_12.jpg',\n",
       " '100_13.jpg',\n",
       " '100_2.jpg',\n",
       " '100_3.jpg',\n",
       " '100_4.jpg',\n",
       " '100_5.jpg',\n",
       " '100_6.jpg',\n",
       " '100_7.jpg',\n",
       " '100_8.jpg',\n",
       " '100_9.jpg',\n",
       " '101_1.jpg',\n",
       " '101_2.jpg',\n",
       " '101_3.jpg',\n",
       " '103_1.jpg',\n",
       " '105_1.jpg',\n",
       " '105_2.jpg',\n",
       " '105_3.jpg',\n",
       " '105_4.jpg',\n",
       " '105_5.jpg',\n",
       " '10_1.jpg',\n",
       " '10_10.jpg',\n",
       " '10_100.jpg',\n",
       " '10_101.jpg',\n",
       " '10_102.jpg',\n",
       " '10_103.jpg',\n",
       " '10_104.jpg',\n",
       " '10_105.jpg',\n",
       " '10_106.jpg',\n",
       " '10_107.jpg',\n",
       " '10_108.jpg',\n",
       " '10_109.jpg',\n",
       " '10_11.jpg',\n",
       " '10_110.jpg',\n",
       " '10_111.jpg',\n",
       " '10_112.jpg',\n",
       " '10_113.jpg',\n",
       " '10_114.jpg',\n",
       " '10_115.jpg',\n",
       " '10_116.jpg',\n",
       " '10_117.jpg',\n",
       " '10_118.jpg',\n",
       " '10_119.jpg',\n",
       " '10_12.jpg',\n",
       " '10_120.jpg',\n",
       " '10_121.jpg',\n",
       " '10_122.jpg',\n",
       " '10_123.jpg',\n",
       " '10_124.jpg',\n",
       " '10_125.jpg',\n",
       " '10_126.jpg',\n",
       " '10_127.jpg',\n",
       " '10_128.jpg',\n",
       " '10_129.jpg',\n",
       " '10_13.jpg',\n",
       " '10_130.jpg',\n",
       " '10_131.jpg',\n",
       " '10_132.jpg',\n",
       " '10_133.jpg',\n",
       " '10_134.jpg',\n",
       " '10_135.jpg',\n",
       " '10_136.jpg',\n",
       " '10_137.jpg',\n",
       " '10_138.jpg',\n",
       " '10_139.jpg',\n",
       " '10_14.jpg',\n",
       " '10_140.jpg',\n",
       " '10_141.jpg',\n",
       " '10_142.jpg',\n",
       " '10_143.jpg',\n",
       " '10_144.jpg',\n",
       " '10_145.jpg',\n",
       " '10_146.jpg',\n",
       " '10_147.jpg',\n",
       " '10_148.jpg',\n",
       " '10_149.jpg',\n",
       " '10_15.jpg',\n",
       " '10_150.jpg',\n",
       " '10_151.jpg',\n",
       " '10_152.jpg',\n",
       " '10_153.jpg',\n",
       " '10_154.jpg',\n",
       " '10_155.jpg',\n",
       " '10_156.jpg',\n",
       " '10_157.jpg',\n",
       " '10_158.jpg',\n",
       " '10_159.jpg',\n",
       " '10_16.jpg',\n",
       " '10_160.jpg',\n",
       " '10_161.jpg',\n",
       " '10_162.jpg',\n",
       " '10_163.jpg',\n",
       " '10_164.jpg',\n",
       " '10_165.jpg',\n",
       " '10_166.jpg',\n",
       " '10_167.jpg',\n",
       " '10_168.jpg',\n",
       " '10_169.jpg',\n",
       " '10_17.jpg',\n",
       " '10_170.jpg',\n",
       " '10_171.jpg',\n",
       " '10_172.jpg',\n",
       " '10_173.jpg',\n",
       " '10_174.jpg',\n",
       " '10_175.jpg',\n",
       " '10_176.jpg',\n",
       " '10_177.jpg',\n",
       " '10_178.jpg',\n",
       " '10_179.jpg',\n",
       " '10_18.jpg',\n",
       " '10_180.jpg',\n",
       " '10_181.jpg',\n",
       " '10_182.jpg',\n",
       " '10_183.jpg',\n",
       " '10_184.jpg',\n",
       " '10_185.jpg',\n",
       " '10_186.jpg',\n",
       " '10_187.jpg',\n",
       " '10_188.jpg',\n",
       " '10_189.jpg',\n",
       " '10_19.jpg',\n",
       " '10_190.jpg',\n",
       " '10_191.jpg',\n",
       " '10_192.jpg',\n",
       " '10_193.jpg',\n",
       " '10_194.jpg',\n",
       " '10_195.jpg',\n",
       " '10_196.jpg',\n",
       " '10_197.jpg',\n",
       " '10_198.jpg',\n",
       " '10_199.jpg',\n",
       " '10_2.jpg',\n",
       " '10_20.jpg',\n",
       " '10_200.jpg',\n",
       " '10_201.jpg',\n",
       " '10_202.jpg',\n",
       " '10_203.jpg',\n",
       " '10_204.jpg',\n",
       " '10_205.jpg',\n",
       " '10_206.jpg',\n",
       " '10_207.jpg',\n",
       " '10_208.jpg',\n",
       " '10_209.jpg',\n",
       " '10_21.jpg',\n",
       " '10_210.jpg',\n",
       " '10_211.jpg',\n",
       " '10_212.jpg',\n",
       " '10_213.jpg',\n",
       " '10_214.jpg',\n",
       " '10_215.jpg',\n",
       " '10_216.jpg',\n",
       " '10_217.jpg',\n",
       " '10_218.jpg',\n",
       " '10_219.jpg',\n",
       " '10_22.jpg',\n",
       " '10_220.jpg',\n",
       " '10_221.jpg',\n",
       " '10_222.jpg',\n",
       " '10_223.jpg',\n",
       " '10_224.jpg',\n",
       " '10_225.jpg',\n",
       " '10_226.jpg',\n",
       " '10_227.jpg',\n",
       " '10_228.jpg',\n",
       " '10_229.jpg',\n",
       " '10_23.jpg',\n",
       " '10_230.jpg',\n",
       " '10_231.jpg',\n",
       " '10_232.jpg',\n",
       " '10_233.jpg',\n",
       " '10_234.jpg',\n",
       " '10_235.jpg',\n",
       " '10_236.jpg',\n",
       " '10_237.jpg',\n",
       " '10_238.jpg',\n",
       " '10_239.jpg',\n",
       " '10_24.jpg',\n",
       " '10_240.jpg',\n",
       " '10_241.jpg',\n",
       " '10_242.jpg',\n",
       " '10_243.jpg',\n",
       " '10_244.jpg',\n",
       " '10_245.jpg',\n",
       " '10_246.jpg',\n",
       " '10_247.jpg',\n",
       " '10_248.jpg',\n",
       " '10_249.jpg',\n",
       " '10_25.jpg',\n",
       " '10_250.jpg',\n",
       " '10_251.jpg',\n",
       " '10_252.jpg',\n",
       " '10_253.jpg',\n",
       " '10_254.jpg',\n",
       " '10_255.jpg',\n",
       " '10_256.jpg',\n",
       " '10_257.jpg',\n",
       " '10_258.jpg',\n",
       " '10_259.jpg',\n",
       " '10_26.jpg',\n",
       " '10_260.jpg',\n",
       " '10_261.jpg',\n",
       " '10_262.jpg',\n",
       " '10_263.jpg',\n",
       " '10_264.jpg',\n",
       " '10_265.jpg',\n",
       " '10_266.jpg',\n",
       " '10_267.jpg',\n",
       " '10_268.jpg',\n",
       " '10_269.jpg',\n",
       " '10_27.jpg',\n",
       " '10_270.jpg',\n",
       " '10_271.jpg',\n",
       " '10_272.jpg',\n",
       " '10_273.jpg',\n",
       " '10_274.jpg',\n",
       " '10_275.jpg',\n",
       " '10_276.jpg',\n",
       " '10_277.jpg',\n",
       " '10_278.jpg',\n",
       " '10_279.jpg',\n",
       " '10_28.jpg',\n",
       " '10_280.jpg',\n",
       " '10_281.jpg',\n",
       " '10_282.jpg',\n",
       " '10_283.jpg',\n",
       " '10_284.jpg',\n",
       " '10_285.jpg',\n",
       " '10_286.jpg',\n",
       " '10_287.jpg',\n",
       " '10_288.jpg',\n",
       " '10_289.jpg',\n",
       " '10_29.jpg',\n",
       " '10_290.jpg',\n",
       " '10_291.jpg',\n",
       " '10_292.jpg',\n",
       " '10_293.jpg',\n",
       " '10_294.jpg',\n",
       " '10_295.jpg',\n",
       " '10_296.jpg',\n",
       " '10_3.jpg',\n",
       " '10_30.jpg',\n",
       " '10_31.jpg',\n",
       " '10_32.jpg',\n",
       " '10_33.jpg',\n",
       " '10_34.jpg',\n",
       " '10_35.jpg',\n",
       " '10_36.jpg',\n",
       " '10_37.jpg',\n",
       " '10_38.jpg',\n",
       " '10_39.jpg',\n",
       " '10_4.jpg',\n",
       " '10_40.jpg',\n",
       " '10_41.jpg',\n",
       " '10_42.jpg',\n",
       " '10_43.jpg',\n",
       " '10_44.jpg',\n",
       " '10_45.jpg',\n",
       " '10_46.jpg',\n",
       " '10_47.jpg',\n",
       " '10_48.jpg',\n",
       " '10_49.jpg',\n",
       " '10_5.jpg',\n",
       " '10_50.jpg',\n",
       " '10_51.jpg',\n",
       " '10_52.jpg',\n",
       " '10_53.jpg',\n",
       " '10_54.jpg',\n",
       " '10_55.jpg',\n",
       " '10_56.jpg',\n",
       " '10_57.jpg',\n",
       " '10_58.jpg',\n",
       " '10_59.jpg',\n",
       " '10_6.jpg',\n",
       " '10_60.jpg',\n",
       " '10_61.jpg',\n",
       " '10_62.jpg',\n",
       " '10_63.jpg',\n",
       " '10_64.jpg',\n",
       " '10_65.jpg',\n",
       " '10_66.jpg',\n",
       " '10_67.jpg',\n",
       " '10_68.jpg',\n",
       " '10_69.jpg',\n",
       " '10_7.jpg',\n",
       " '10_70.jpg',\n",
       " '10_71.jpg',\n",
       " '10_72.jpg',\n",
       " '10_73.jpg',\n",
       " '10_74.jpg',\n",
       " '10_75.jpg',\n",
       " '10_76.jpg',\n",
       " '10_77.jpg',\n",
       " '10_78.jpg',\n",
       " '10_79.jpg',\n",
       " '10_8.jpg',\n",
       " '10_80.jpg',\n",
       " '10_81.jpg',\n",
       " '10_82.jpg',\n",
       " '10_83.jpg',\n",
       " '10_84.jpg',\n",
       " '10_85.jpg',\n",
       " '10_86.jpg',\n",
       " '10_87.jpg',\n",
       " '10_88.jpg',\n",
       " '10_89.jpg',\n",
       " '10_9.jpg',\n",
       " '10_90.jpg',\n",
       " '10_91.jpg',\n",
       " '10_92.jpg',\n",
       " '10_93.jpg',\n",
       " '10_94.jpg',\n",
       " '10_95.jpg',\n",
       " '10_96.jpg',\n",
       " '10_97.jpg',\n",
       " '10_98.jpg',\n",
       " '10_99.jpg',\n",
       " '110_1.jpg',\n",
       " '110_2.jpg',\n",
       " '110_3.jpg',\n",
       " '110_4.jpg',\n",
       " '110_5.jpg',\n",
       " '110_6.jpg',\n",
       " '110_7.jpg',\n",
       " '111_1.jpg',\n",
       " '115_1.jpg',\n",
       " '115_2.jpg',\n",
       " '115_3.jpg',\n",
       " '116_1.jpg',\n",
       " '116_2.jpg',\n",
       " '116_3.jpg',\n",
       " '116_4.jpg',\n",
       " '11_1.jpg',\n",
       " '11_10.jpg',\n",
       " '11_100.jpg',\n",
       " '11_101.jpg',\n",
       " '11_102.jpg',\n",
       " '11_103.jpg',\n",
       " '11_104.jpg',\n",
       " '11_105.jpg',\n",
       " '11_106.jpg',\n",
       " '11_107.jpg',\n",
       " '11_108.jpg',\n",
       " '11_109.jpg',\n",
       " '11_11.jpg',\n",
       " '11_110.jpg',\n",
       " '11_111.jpg',\n",
       " '11_112.jpg',\n",
       " '11_113.jpg',\n",
       " '11_114.jpg',\n",
       " '11_115.jpg',\n",
       " '11_116.jpg',\n",
       " '11_117.jpg',\n",
       " '11_118.jpg',\n",
       " '11_119.jpg',\n",
       " '11_12.jpg',\n",
       " '11_120.jpg',\n",
       " '11_121.jpg',\n",
       " '11_122.jpg',\n",
       " '11_123.jpg',\n",
       " '11_124.jpg',\n",
       " '11_125.jpg',\n",
       " '11_126.jpg',\n",
       " '11_127.jpg',\n",
       " '11_128.jpg',\n",
       " '11_13.jpg',\n",
       " '11_14.jpg',\n",
       " '11_15.jpg',\n",
       " '11_16.jpg',\n",
       " '11_17.jpg',\n",
       " '11_18.jpg',\n",
       " '11_19.jpg',\n",
       " '11_2.jpg',\n",
       " '11_20.jpg',\n",
       " '11_21.jpg',\n",
       " '11_22.jpg',\n",
       " '11_23.jpg',\n",
       " '11_24.jpg',\n",
       " '11_25.jpg',\n",
       " '11_26.jpg',\n",
       " '11_27.jpg',\n",
       " '11_28.jpg',\n",
       " '11_29.jpg',\n",
       " '11_3.jpg',\n",
       " '11_30.jpg',\n",
       " '11_31.jpg',\n",
       " '11_32.jpg',\n",
       " '11_33.jpg',\n",
       " '11_34.jpg',\n",
       " '11_35.jpg',\n",
       " '11_36.jpg',\n",
       " '11_37.jpg',\n",
       " '11_38.jpg',\n",
       " '11_39.jpg',\n",
       " '11_4.jpg',\n",
       " '11_40.jpg',\n",
       " '11_41.jpg',\n",
       " '11_42.jpg',\n",
       " '11_43.jpg',\n",
       " '11_44.jpg',\n",
       " '11_45.jpg',\n",
       " '11_46.jpg',\n",
       " '11_47.jpg',\n",
       " '11_48.jpg',\n",
       " '11_49.jpg',\n",
       " '11_5.jpg',\n",
       " '11_50.jpg',\n",
       " '11_51.jpg',\n",
       " '11_52.jpg',\n",
       " '11_53.jpg',\n",
       " '11_54.jpg',\n",
       " '11_55.jpg',\n",
       " '11_56.jpg',\n",
       " '11_57.jpg',\n",
       " '11_58.jpg',\n",
       " '11_59.jpg',\n",
       " '11_6.jpg',\n",
       " '11_60.jpg',\n",
       " '11_61.jpg',\n",
       " '11_62.jpg',\n",
       " '11_63.jpg',\n",
       " '11_64.jpg',\n",
       " '11_65.jpg',\n",
       " '11_66.jpg',\n",
       " '11_67.jpg',\n",
       " '11_68.jpg',\n",
       " '11_69.jpg',\n",
       " '11_7.jpg',\n",
       " '11_70.jpg',\n",
       " '11_71.jpg',\n",
       " '11_72.jpg',\n",
       " '11_73.jpg',\n",
       " '11_74.jpg',\n",
       " '11_75.jpg',\n",
       " '11_76.jpg',\n",
       " '11_77.jpg',\n",
       " '11_78.jpg',\n",
       " '11_79.jpg',\n",
       " '11_8.jpg',\n",
       " '11_80.jpg',\n",
       " '11_81.jpg',\n",
       " '11_82.jpg',\n",
       " '11_83.jpg',\n",
       " '11_84.jpg',\n",
       " '11_85.jpg',\n",
       " '11_86.jpg',\n",
       " '11_87.jpg',\n",
       " '11_88.jpg',\n",
       " '11_89.jpg',\n",
       " '11_9.jpg',\n",
       " '11_90.jpg',\n",
       " '11_91.jpg',\n",
       " '11_92.jpg',\n",
       " '11_93.jpg',\n",
       " '11_94.jpg',\n",
       " '11_95.jpg',\n",
       " '11_96.jpg',\n",
       " '11_97.jpg',\n",
       " '11_98.jpg',\n",
       " '11_99.jpg',\n",
       " '12_1.jpg',\n",
       " '12_10.jpg',\n",
       " '12_100.jpg',\n",
       " '12_101.jpg',\n",
       " '12_102.jpg',\n",
       " '12_103.jpg',\n",
       " '12_104.jpg',\n",
       " '12_105.jpg',\n",
       " '12_106.jpg',\n",
       " '12_107.jpg',\n",
       " '12_108.jpg',\n",
       " '12_109.jpg',\n",
       " '12_11.jpg',\n",
       " '12_110.jpg',\n",
       " '12_111.jpg',\n",
       " '12_112.jpg',\n",
       " '12_113.jpg',\n",
       " '12_114.jpg',\n",
       " '12_115.jpg',\n",
       " '12_116.jpg',\n",
       " '12_117.jpg',\n",
       " '12_118.jpg',\n",
       " '12_119.jpg',\n",
       " '12_12.jpg',\n",
       " '12_120.jpg',\n",
       " '12_121.jpg',\n",
       " '12_122.jpg',\n",
       " '12_123.jpg',\n",
       " '12_124.jpg',\n",
       " '12_125.jpg',\n",
       " '12_126.jpg',\n",
       " '12_127.jpg',\n",
       " '12_128.jpg',\n",
       " '12_129.jpg',\n",
       " '12_13.jpg',\n",
       " '12_130.jpg',\n",
       " '12_131.jpg',\n",
       " '12_132.jpg',\n",
       " '12_133.jpg',\n",
       " '12_134.jpg',\n",
       " '12_135.jpg',\n",
       " '12_136.jpg',\n",
       " '12_137.jpg',\n",
       " '12_138.jpg',\n",
       " '12_139.jpg',\n",
       " '12_14.jpg',\n",
       " '12_140.jpg',\n",
       " '12_141.jpg',\n",
       " '12_142.jpg',\n",
       " '12_143.jpg',\n",
       " '12_144.jpg',\n",
       " '12_145.jpg',\n",
       " '12_146.jpg',\n",
       " '12_147.jpg',\n",
       " '12_148.jpg',\n",
       " '12_149.jpg',\n",
       " '12_15.jpg',\n",
       " '12_150.jpg',\n",
       " '12_151.jpg',\n",
       " '12_152.jpg',\n",
       " '12_153.jpg',\n",
       " '12_154.jpg',\n",
       " '12_155.jpg',\n",
       " '12_156.jpg',\n",
       " '12_157.jpg',\n",
       " '12_158.jpg',\n",
       " '12_159.jpg',\n",
       " '12_16.jpg',\n",
       " '12_160.jpg',\n",
       " '12_161.jpg',\n",
       " '12_162.jpg',\n",
       " '12_163.jpg',\n",
       " '12_164.jpg',\n",
       " '12_165.jpg',\n",
       " '12_166.jpg',\n",
       " '12_167.jpg',\n",
       " '12_168.jpg',\n",
       " '12_169.jpg',\n",
       " '12_17.jpg',\n",
       " '12_170.jpg',\n",
       " '12_171.jpg',\n",
       " '12_172.jpg',\n",
       " '12_173.jpg',\n",
       " '12_174.jpg',\n",
       " '12_175.jpg',\n",
       " '12_176.jpg',\n",
       " '12_177.jpg',\n",
       " '12_178.jpg',\n",
       " '12_179.jpg',\n",
       " '12_18.jpg',\n",
       " '12_180.jpg',\n",
       " '12_181.jpg',\n",
       " '12_182.jpg',\n",
       " '12_183.jpg',\n",
       " '12_184.jpg',\n",
       " '12_185.jpg',\n",
       " '12_186.jpg',\n",
       " '12_187.jpg',\n",
       " '12_188.jpg',\n",
       " '12_189.jpg',\n",
       " '12_19.jpg',\n",
       " '12_190.jpg',\n",
       " '12_191.jpg',\n",
       " '12_192.jpg',\n",
       " '12_193.jpg',\n",
       " '12_194.jpg',\n",
       " '12_195.jpg',\n",
       " '12_196.jpg',\n",
       " '12_197.jpg',\n",
       " '12_198.jpg',\n",
       " '12_199.jpg',\n",
       " '12_2.jpg',\n",
       " '12_20.jpg',\n",
       " '12_200.jpg',\n",
       " '12_201.jpg',\n",
       " '12_202.jpg',\n",
       " '12_203.jpg',\n",
       " '12_204.jpg',\n",
       " '12_205.jpg',\n",
       " '12_206.jpg',\n",
       " '12_207.jpg',\n",
       " '12_208.jpg',\n",
       " '12_209.jpg',\n",
       " '12_21.jpg',\n",
       " '12_210.jpg',\n",
       " '12_211.jpg',\n",
       " '12_212.jpg',\n",
       " '12_213.jpg',\n",
       " '12_214.jpg',\n",
       " '12_215.jpg',\n",
       " '12_216.jpg',\n",
       " '12_217.jpg',\n",
       " '12_218.jpg',\n",
       " '12_219.jpg',\n",
       " '12_22.jpg',\n",
       " '12_220.jpg',\n",
       " '12_221.jpg',\n",
       " '12_222.jpg',\n",
       " '12_223.jpg',\n",
       " '12_224.jpg',\n",
       " '12_225.jpg',\n",
       " '12_226.jpg',\n",
       " '12_227.jpg',\n",
       " '12_228.jpg',\n",
       " '12_229.jpg',\n",
       " '12_23.jpg',\n",
       " '12_230.jpg',\n",
       " '12_231.jpg',\n",
       " '12_232.jpg',\n",
       " '12_233.jpg',\n",
       " '12_234.jpg',\n",
       " '12_235.jpg',\n",
       " '12_236.jpg',\n",
       " '12_24.jpg',\n",
       " '12_25.jpg',\n",
       " '12_26.jpg',\n",
       " '12_27.jpg',\n",
       " '12_28.jpg',\n",
       " '12_29.jpg',\n",
       " '12_3.jpg',\n",
       " '12_30.jpg',\n",
       " '12_31.jpg',\n",
       " '12_32.jpg',\n",
       " '12_33.jpg',\n",
       " '12_34.jpg',\n",
       " '12_35.jpg',\n",
       " '12_36.jpg',\n",
       " '12_37.jpg',\n",
       " '12_38.jpg',\n",
       " '12_39.jpg',\n",
       " '12_4.jpg',\n",
       " '12_40.jpg',\n",
       " '12_41.jpg',\n",
       " '12_42.jpg',\n",
       " '12_43.jpg',\n",
       " '12_44.jpg',\n",
       " '12_45.jpg',\n",
       " '12_46.jpg',\n",
       " '12_47.jpg',\n",
       " '12_48.jpg',\n",
       " '12_49.jpg',\n",
       " '12_5.jpg',\n",
       " '12_50.jpg',\n",
       " '12_51.jpg',\n",
       " '12_52.jpg',\n",
       " '12_53.jpg',\n",
       " '12_54.jpg',\n",
       " '12_55.jpg',\n",
       " '12_56.jpg',\n",
       " '12_57.jpg',\n",
       " '12_58.jpg',\n",
       " '12_59.jpg',\n",
       " '12_6.jpg',\n",
       " '12_60.jpg',\n",
       " '12_61.jpg',\n",
       " '12_62.jpg',\n",
       " '12_63.jpg',\n",
       " '12_64.jpg',\n",
       " '12_65.jpg',\n",
       " '12_66.jpg',\n",
       " '12_67.jpg',\n",
       " '12_68.jpg',\n",
       " '12_69.jpg',\n",
       " '12_7.jpg',\n",
       " '12_70.jpg',\n",
       " '12_71.jpg',\n",
       " '12_72.jpg',\n",
       " '12_73.jpg',\n",
       " '12_74.jpg',\n",
       " '12_75.jpg',\n",
       " '12_76.jpg',\n",
       " '12_77.jpg',\n",
       " '12_78.jpg',\n",
       " '12_79.jpg',\n",
       " '12_8.jpg',\n",
       " '12_80.jpg',\n",
       " '12_81.jpg',\n",
       " '12_82.jpg',\n",
       " '12_83.jpg',\n",
       " '12_84.jpg',\n",
       " '12_85.jpg',\n",
       " '12_86.jpg',\n",
       " '12_87.jpg',\n",
       " '12_88.jpg',\n",
       " '12_89.jpg',\n",
       " '12_9.jpg',\n",
       " '12_90.jpg',\n",
       " '12_91.jpg',\n",
       " '12_92.jpg',\n",
       " '12_93.jpg',\n",
       " '12_94.jpg',\n",
       " '12_95.jpg',\n",
       " '12_96.jpg',\n",
       " '12_97.jpg',\n",
       " '12_98.jpg',\n",
       " '12_99.jpg',\n",
       " '13_1.jpg',\n",
       " '13_10.jpg',\n",
       " '13_100.jpg',\n",
       " '13_101.jpg',\n",
       " '13_102.jpg',\n",
       " '13_103.jpg',\n",
       " '13_104.jpg',\n",
       " '13_105.jpg',\n",
       " '13_106.jpg',\n",
       " '13_107.jpg',\n",
       " '13_108.jpg',\n",
       " '13_109.jpg',\n",
       " '13_11.jpg',\n",
       " '13_110.jpg',\n",
       " '13_111.jpg',\n",
       " '13_112.jpg',\n",
       " '13_113.jpg',\n",
       " '13_114.jpg',\n",
       " '13_115.jpg',\n",
       " '13_116.jpg',\n",
       " '13_117.jpg',\n",
       " '13_118.jpg',\n",
       " '13_119.jpg',\n",
       " '13_12.jpg',\n",
       " '13_120.jpg',\n",
       " '13_121.jpg',\n",
       " '13_122.jpg',\n",
       " '13_123.jpg',\n",
       " '13_124.jpg',\n",
       " '13_125.jpg',\n",
       " '13_126.jpg',\n",
       " '13_127.jpg',\n",
       " '13_128.jpg',\n",
       " '13_129.jpg',\n",
       " '13_13.jpg',\n",
       " '13_130.jpg',\n",
       " '13_131.jpg',\n",
       " '13_132.jpg',\n",
       " '13_133.jpg',\n",
       " '13_134.jpg',\n",
       " '13_135.jpg',\n",
       " '13_136.jpg',\n",
       " '13_137.jpg',\n",
       " '13_138.jpg',\n",
       " '13_139.jpg',\n",
       " '13_14.jpg',\n",
       " '13_140.jpg',\n",
       " '13_141.jpg',\n",
       " '13_142.jpg',\n",
       " '13_143.jpg',\n",
       " '13_144.jpg',\n",
       " '13_145.jpg',\n",
       " '13_146.jpg',\n",
       " '13_147.jpg',\n",
       " '13_148.jpg',\n",
       " '13_149.jpg',\n",
       " '13_15.jpg',\n",
       " '13_150.jpg',\n",
       " '13_151.jpg',\n",
       " '13_152.jpg',\n",
       " '13_153.jpg',\n",
       " '13_154.jpg',\n",
       " '13_155.jpg',\n",
       " '13_156.jpg',\n",
       " '13_16.jpg',\n",
       " '13_17.jpg',\n",
       " '13_18.jpg',\n",
       " '13_19.jpg',\n",
       " '13_2.jpg',\n",
       " '13_20.jpg',\n",
       " '13_21.jpg',\n",
       " '13_22.jpg',\n",
       " '13_23.jpg',\n",
       " '13_24.jpg',\n",
       " '13_25.jpg',\n",
       " '13_26.jpg',\n",
       " '13_27.jpg',\n",
       " '13_28.jpg',\n",
       " '13_29.jpg',\n",
       " '13_3.jpg',\n",
       " '13_30.jpg',\n",
       " '13_31.jpg',\n",
       " '13_32.jpg',\n",
       " '13_33.jpg',\n",
       " '13_34.jpg',\n",
       " '13_35.jpg',\n",
       " '13_36.jpg',\n",
       " '13_37.jpg',\n",
       " '13_38.jpg',\n",
       " '13_39.jpg',\n",
       " '13_4.jpg',\n",
       " '13_40.jpg',\n",
       " '13_41.jpg',\n",
       " '13_42.jpg',\n",
       " '13_43.jpg',\n",
       " '13_44.jpg',\n",
       " '13_45.jpg',\n",
       " '13_46.jpg',\n",
       " '13_47.jpg',\n",
       " '13_48.jpg',\n",
       " '13_49.jpg',\n",
       " '13_5.jpg',\n",
       " '13_50.jpg',\n",
       " '13_51.jpg',\n",
       " '13_52.jpg',\n",
       " '13_53.jpg',\n",
       " '13_54.jpg',\n",
       " '13_55.jpg',\n",
       " '13_56.jpg',\n",
       " '13_57.jpg',\n",
       " '13_58.jpg',\n",
       " '13_59.jpg',\n",
       " '13_6.jpg',\n",
       " '13_60.jpg',\n",
       " '13_61.jpg',\n",
       " '13_62.jpg',\n",
       " '13_63.jpg',\n",
       " '13_64.jpg',\n",
       " '13_65.jpg',\n",
       " '13_66.jpg',\n",
       " '13_67.jpg',\n",
       " '13_68.jpg',\n",
       " '13_69.jpg',\n",
       " '13_7.jpg',\n",
       " '13_70.jpg',\n",
       " '13_71.jpg',\n",
       " '13_72.jpg',\n",
       " '13_73.jpg',\n",
       " '13_74.jpg',\n",
       " '13_75.jpg',\n",
       " '13_76.jpg',\n",
       " '13_77.jpg',\n",
       " '13_78.jpg',\n",
       " '13_79.jpg',\n",
       " '13_8.jpg',\n",
       " '13_80.jpg',\n",
       " '13_81.jpg',\n",
       " '13_82.jpg',\n",
       " '13_83.jpg',\n",
       " '13_84.jpg',\n",
       " '13_85.jpg',\n",
       " '13_86.jpg',\n",
       " '13_87.jpg',\n",
       " '13_88.jpg',\n",
       " '13_89.jpg',\n",
       " '13_9.jpg',\n",
       " '13_90.jpg',\n",
       " '13_91.jpg',\n",
       " '13_92.jpg',\n",
       " '13_93.jpg',\n",
       " '13_94.jpg',\n",
       " '13_95.jpg',\n",
       " '13_96.jpg',\n",
       " '13_97.jpg',\n",
       " '13_98.jpg',\n",
       " '13_99.jpg',\n",
       " '14_1.jpg',\n",
       " '14_10.jpg',\n",
       " '14_100.jpg',\n",
       " '14_101.jpg',\n",
       " '14_102.jpg',\n",
       " '14_103.jpg',\n",
       " '14_104.jpg',\n",
       " '14_105.jpg',\n",
       " '14_106.jpg',\n",
       " '14_107.jpg',\n",
       " '14_108.jpg',\n",
       " '14_109.jpg',\n",
       " '14_11.jpg',\n",
       " '14_110.jpg',\n",
       " '14_111.jpg',\n",
       " '14_112.jpg',\n",
       " '14_113.jpg',\n",
       " '14_114.jpg',\n",
       " '14_115.jpg',\n",
       " '14_116.jpg',\n",
       " '14_117.jpg',\n",
       " '14_118.jpg',\n",
       " '14_119.jpg',\n",
       " '14_12.jpg',\n",
       " '14_120.jpg',\n",
       " '14_121.jpg',\n",
       " '14_122.jpg',\n",
       " '14_123.jpg',\n",
       " '14_124.jpg',\n",
       " '14_125.jpg',\n",
       " '14_126.jpg',\n",
       " '14_127.jpg',\n",
       " '14_128.jpg',\n",
       " '14_129.jpg',\n",
       " '14_13.jpg',\n",
       " '14_130.jpg',\n",
       " '14_131.jpg',\n",
       " '14_132.jpg',\n",
       " '14_133.jpg',\n",
       " '14_134.jpg',\n",
       " '14_135.jpg',\n",
       " '14_136.jpg',\n",
       " '14_137.jpg',\n",
       " '14_138.jpg',\n",
       " '14_139.jpg',\n",
       " '14_14.jpg',\n",
       " '14_140.jpg',\n",
       " '14_141.jpg',\n",
       " '14_142.jpg',\n",
       " '14_143.jpg',\n",
       " '14_144.jpg',\n",
       " '14_145.jpg',\n",
       " '14_146.jpg',\n",
       " '14_147.jpg',\n",
       " '14_148.jpg',\n",
       " '14_149.jpg',\n",
       " '14_15.jpg',\n",
       " '14_150.jpg',\n",
       " '14_151.jpg',\n",
       " '14_152.jpg',\n",
       " '14_153.jpg',\n",
       " '14_154.jpg',\n",
       " '14_155.jpg',\n",
       " '14_156.jpg',\n",
       " '14_157.jpg',\n",
       " '14_158.jpg',\n",
       " '14_159.jpg',\n",
       " '14_16.jpg',\n",
       " '14_160.jpg',\n",
       " '14_161.jpg',\n",
       " '14_162.jpg',\n",
       " '14_163.jpg',\n",
       " '14_164.jpg',\n",
       " '14_165.jpg',\n",
       " '14_166.jpg',\n",
       " '14_167.jpg',\n",
       " '14_168.jpg',\n",
       " '14_169.jpg',\n",
       " '14_17.jpg',\n",
       " '14_170.jpg',\n",
       " '14_171.jpg',\n",
       " '14_172.jpg',\n",
       " '14_173.jpg',\n",
       " '14_174.jpg',\n",
       " '14_175.jpg',\n",
       " '14_176.jpg',\n",
       " '14_177.jpg',\n",
       " '14_178.jpg',\n",
       " '14_179.jpg',\n",
       " '14_18.jpg',\n",
       " '14_180.jpg',\n",
       " '14_181.jpg',\n",
       " '14_182.jpg',\n",
       " '14_183.jpg',\n",
       " '14_184.jpg',\n",
       " '14_185.jpg',\n",
       " '14_186.jpg',\n",
       " '14_187.jpg',\n",
       " '14_188.jpg',\n",
       " '14_189.jpg',\n",
       " '14_19.jpg',\n",
       " '14_190.jpg',\n",
       " '14_191.jpg',\n",
       " '14_192.jpg',\n",
       " '14_193.jpg',\n",
       " '14_194.jpg',\n",
       " '14_195.jpg',\n",
       " '14_196.jpg',\n",
       " '14_197.jpg',\n",
       " '14_198.jpg',\n",
       " '14_199.jpg',\n",
       " '14_2.jpg',\n",
       " '14_20.jpg',\n",
       " '14_200.jpg',\n",
       " '14_201.jpg',\n",
       " '14_202.jpg',\n",
       " '14_203.jpg',\n",
       " '14_204.jpg',\n",
       " '14_205.jpg',\n",
       " '14_206.jpg',\n",
       " '14_207.jpg',\n",
       " '14_208.jpg',\n",
       " '14_209.jpg',\n",
       " '14_21.jpg',\n",
       " '14_210.jpg',\n",
       " '14_211.jpg',\n",
       " '14_212.jpg',\n",
       " '14_213.jpg',\n",
       " '14_214.jpg',\n",
       " '14_215.jpg',\n",
       " '14_216.jpg',\n",
       " '14_217.jpg',\n",
       " '14_218.jpg',\n",
       " '14_219.jpg',\n",
       " '14_22.jpg',\n",
       " '14_220.jpg',\n",
       " '14_221.jpg',\n",
       " '14_222.jpg',\n",
       " '14_223.jpg',\n",
       " '14_224.jpg',\n",
       " '14_225.jpg',\n",
       " '14_226.jpg',\n",
       " '14_227.jpg',\n",
       " '14_228.jpg',\n",
       " '14_229.jpg',\n",
       " '14_23.jpg',\n",
       " '14_230.jpg',\n",
       " ...]"
      ]
     },
     "execution_count": 16,
     "metadata": {},
     "output_type": "execute_result"
    }
   ],
   "source": [
    "# Accessing all image file names.\n",
    "\n",
    "combined_faces_path = ROOT_DIR + r\"/combined_faces\"\n",
    "combined_faces_image_names = os.listdir(combined_faces_path)"
   ]
  },
  {
   "cell_type": "code",
   "execution_count": 17,
   "metadata": {
    "colab": {
     "base_uri": "https://localhost:8080/",
     "height": 34
    },
    "colab_type": "code",
    "executionInfo": {
     "elapsed": 1393,
     "status": "ok",
     "timestamp": 1592578065275,
     "user": {
      "displayName": "Prerak Agarwal",
      "photoUrl": "",
      "userId": "01206615471624868818"
     },
     "user_tz": -480
    },
    "id": "piXOtJ9Fc6bZ",
    "outputId": "96f0c189-4009-4d06-9f5f-312d65fc2137"
   },
   "outputs": [
    {
     "data": {
      "text/plain": [
       "33486"
      ]
     },
     "execution_count": 17,
     "metadata": {},
     "output_type": "execute_result"
    }
   ],
   "source": [
    "len(combined_faces_image_names)"
   ]
  },
  {
   "cell_type": "markdown",
   "metadata": {
    "colab_type": "text",
    "id": "DmhLm_sYNJ_Y"
   },
   "source": [
    "### Train and Test Splitting"
   ]
  },
  {
   "cell_type": "markdown",
   "metadata": {
    "colab_type": "text",
    "id": "jyPxEhREMrUK"
   },
   "source": [
    "Before performing any form of classification or feature extraction on the images, it is necessary to **split the *combined_faces* dataset into training and testing datasets**. Separate features extraction will then be done for the training and testing datasets."
   ]
  },
  {
   "cell_type": "code",
   "execution_count": 18,
   "metadata": {
    "colab": {
     "base_uri": "https://localhost:8080/",
     "height": 390
    },
    "colab_type": "code",
    "executionInfo": {
     "elapsed": 1081,
     "status": "ok",
     "timestamp": 1592578071400,
     "user": {
      "displayName": "Prerak Agarwal",
      "photoUrl": "",
      "userId": "01206615471624868818"
     },
     "user_tz": -480
    },
    "id": "yW0cOCGgO0Pj",
    "outputId": "a13e987c-be95-4feb-db66-4e4a3c28d9d1"
   },
   "outputs": [
    {
     "data": {
      "text/html": [
       "<div>\n",
       "<style scoped>\n",
       "    .dataframe tbody tr th:only-of-type {\n",
       "        vertical-align: middle;\n",
       "    }\n",
       "\n",
       "    .dataframe tbody tr th {\n",
       "        vertical-align: top;\n",
       "    }\n",
       "\n",
       "    .dataframe thead th {\n",
       "        text-align: right;\n",
       "    }\n",
       "</style>\n",
       "<table border=\"1\" class=\"dataframe\">\n",
       "  <thead>\n",
       "    <tr style=\"text-align: right;\">\n",
       "      <th></th>\n",
       "      <th>Class label</th>\n",
       "      <th>Age-ranges (classes)</th>\n",
       "      <th>No. of images</th>\n",
       "      <th>Class balance (%)</th>\n",
       "    </tr>\n",
       "  </thead>\n",
       "  <tbody>\n",
       "    <tr>\n",
       "      <th>0</th>\n",
       "      <td>0</td>\n",
       "      <td>1 - 2</td>\n",
       "      <td>3192</td>\n",
       "      <td>9.53</td>\n",
       "    </tr>\n",
       "    <tr>\n",
       "      <th>1</th>\n",
       "      <td>1</td>\n",
       "      <td>3 - 9</td>\n",
       "      <td>2816</td>\n",
       "      <td>8.41</td>\n",
       "    </tr>\n",
       "    <tr>\n",
       "      <th>2</th>\n",
       "      <td>2</td>\n",
       "      <td>10 - 20</td>\n",
       "      <td>3136</td>\n",
       "      <td>9.37</td>\n",
       "    </tr>\n",
       "    <tr>\n",
       "      <th>3</th>\n",
       "      <td>3</td>\n",
       "      <td>21 - 25</td>\n",
       "      <td>3474</td>\n",
       "      <td>10.37</td>\n",
       "    </tr>\n",
       "    <tr>\n",
       "      <th>4</th>\n",
       "      <td>4</td>\n",
       "      <td>26 - 27</td>\n",
       "      <td>3217</td>\n",
       "      <td>9.61</td>\n",
       "    </tr>\n",
       "    <tr>\n",
       "      <th>5</th>\n",
       "      <td>5</td>\n",
       "      <td>28 - 31</td>\n",
       "      <td>3063</td>\n",
       "      <td>9.15</td>\n",
       "    </tr>\n",
       "    <tr>\n",
       "      <th>6</th>\n",
       "      <td>6</td>\n",
       "      <td>32 - 36</td>\n",
       "      <td>3086</td>\n",
       "      <td>9.22</td>\n",
       "    </tr>\n",
       "    <tr>\n",
       "      <th>7</th>\n",
       "      <td>7</td>\n",
       "      <td>37 - 45</td>\n",
       "      <td>3207</td>\n",
       "      <td>9.58</td>\n",
       "    </tr>\n",
       "    <tr>\n",
       "      <th>8</th>\n",
       "      <td>8</td>\n",
       "      <td>46 - 54</td>\n",
       "      <td>2802</td>\n",
       "      <td>8.37</td>\n",
       "    </tr>\n",
       "    <tr>\n",
       "      <th>9</th>\n",
       "      <td>9</td>\n",
       "      <td>55 - 65</td>\n",
       "      <td>2796</td>\n",
       "      <td>8.35</td>\n",
       "    </tr>\n",
       "    <tr>\n",
       "      <th>10</th>\n",
       "      <td>10</td>\n",
       "      <td>66 - 116</td>\n",
       "      <td>2697</td>\n",
       "      <td>8.05</td>\n",
       "    </tr>\n",
       "  </tbody>\n",
       "</table>\n",
       "</div>"
      ],
      "text/plain": [
       "    Class label Age-ranges (classes)  No. of images  Class balance (%)\n",
       "0             0                1 - 2           3192               9.53\n",
       "1             1                3 - 9           2816               8.41\n",
       "2             2              10 - 20           3136               9.37\n",
       "3             3              21 - 25           3474              10.37\n",
       "4             4              26 - 27           3217               9.61\n",
       "5             5              28 - 31           3063               9.15\n",
       "6             6              32 - 36           3086               9.22\n",
       "7             7              37 - 45           3207               9.58\n",
       "8             8              46 - 54           2802               8.37\n",
       "9             9              55 - 65           2796               8.35\n",
       "10           10             66 - 116           2697               8.05"
      ]
     },
     "execution_count": 18,
     "metadata": {},
     "output_type": "execute_result"
    }
   ],
   "source": [
    "combined_classes = pd.read_csv(child_dir + r\"/input_output/combined_faces_classes_summary.csv\")\n",
    "combined_classes"
   ]
  },
  {
   "cell_type": "code",
   "execution_count": 19,
   "metadata": {
    "colab": {},
    "colab_type": "code",
    "id": "Msjr67d-ME5z"
   },
   "outputs": [],
   "source": [
    "# Defining a function to return the class labels corresponding to the age-ranges shown above.\n",
    "\n",
    "def class_labels(age):\n",
    "    if 1 <= age <= 2:\n",
    "        return 0\n",
    "    elif 3 <= age <= 9:\n",
    "        return 1\n",
    "    elif 10 <= age <= 20:\n",
    "        return 2\n",
    "    elif 21 <= age <= 25:\n",
    "        return 3\n",
    "    elif 26 <= age <= 27:\n",
    "        return 4\n",
    "    elif 28 <= age <= 31:\n",
    "        return 5\n",
    "    elif 32 <= age <= 36:\n",
    "        return 6\n",
    "    elif 37 <= age <= 45:\n",
    "        return 7\n",
    "    elif 46 <= age <= 54:\n",
    "        return 8\n",
    "    elif 55 <= age <= 65:\n",
    "        return 9\n",
    "    else:\n",
    "        return 10"
   ]
  },
  {
   "cell_type": "code",
   "execution_count": 20,
   "metadata": {
    "colab": {
     "base_uri": "https://localhost:8080/",
     "height": 204
    },
    "colab_type": "code",
    "executionInfo": {
     "elapsed": 3204,
     "status": "ok",
     "timestamp": 1592578084115,
     "user": {
      "displayName": "Prerak Agarwal",
      "photoUrl": "",
      "userId": "01206615471624868818"
     },
     "user_tz": -480
    },
    "id": "_uy2vIKHMeCY",
    "outputId": "531c9425-dea2-4e8c-862f-cf0ffaf6a0e4"
   },
   "outputs": [
    {
     "data": {
      "text/html": [
       "<div>\n",
       "<style scoped>\n",
       "    .dataframe tbody tr th:only-of-type {\n",
       "        vertical-align: middle;\n",
       "    }\n",
       "\n",
       "    .dataframe tbody tr th {\n",
       "        vertical-align: top;\n",
       "    }\n",
       "\n",
       "    .dataframe thead th {\n",
       "        text-align: right;\n",
       "    }\n",
       "</style>\n",
       "<table border=\"1\" class=\"dataframe\">\n",
       "  <thead>\n",
       "    <tr style=\"text-align: right;\">\n",
       "      <th></th>\n",
       "      <th>filename</th>\n",
       "      <th>age</th>\n",
       "      <th>target</th>\n",
       "    </tr>\n",
       "  </thead>\n",
       "  <tbody>\n",
       "    <tr>\n",
       "      <th>0</th>\n",
       "      <td>100_1.jpg</td>\n",
       "      <td>100</td>\n",
       "      <td>10</td>\n",
       "    </tr>\n",
       "    <tr>\n",
       "      <th>1</th>\n",
       "      <td>100_10.jpg</td>\n",
       "      <td>100</td>\n",
       "      <td>10</td>\n",
       "    </tr>\n",
       "    <tr>\n",
       "      <th>2</th>\n",
       "      <td>100_11.jpg</td>\n",
       "      <td>100</td>\n",
       "      <td>10</td>\n",
       "    </tr>\n",
       "    <tr>\n",
       "      <th>3</th>\n",
       "      <td>100_12.jpg</td>\n",
       "      <td>100</td>\n",
       "      <td>10</td>\n",
       "    </tr>\n",
       "    <tr>\n",
       "      <th>4</th>\n",
       "      <td>100_13.jpg</td>\n",
       "      <td>100</td>\n",
       "      <td>10</td>\n",
       "    </tr>\n",
       "  </tbody>\n",
       "</table>\n",
       "</div>"
      ],
      "text/plain": [
       "     filename  age  target\n",
       "0   100_1.jpg  100      10\n",
       "1  100_10.jpg  100      10\n",
       "2  100_11.jpg  100      10\n",
       "3  100_12.jpg  100      10\n",
       "4  100_13.jpg  100      10"
      ]
     },
     "execution_count": 20,
     "metadata": {},
     "output_type": "execute_result"
    }
   ],
   "source": [
    "# Creating a new dataframe to hold all filenames, corresponding ages and class labels.\n",
    "\n",
    "master_df = pd.DataFrame()\n",
    "master_df['filename'] = combined_faces_image_names\n",
    "master_df['age'] = master_df['filename'].map(lambda img_name : np.uint8(img_name.split(\"_\")[0]))\n",
    "master_df['target'] = master_df['age'].map(class_labels)\n",
    "\n",
    "master_df.head()"
   ]
  },
  {
   "cell_type": "code",
   "execution_count": 21,
   "metadata": {
    "colab": {
     "base_uri": "https://localhost:8080/",
     "height": 204
    },
    "colab_type": "code",
    "executionInfo": {
     "elapsed": 1134,
     "status": "ok",
     "timestamp": 1592578086904,
     "user": {
      "displayName": "Prerak Agarwal",
      "photoUrl": "",
      "userId": "01206615471624868818"
     },
     "user_tz": -480
    },
    "id": "iKg3d9zeQD2D",
    "outputId": "e27d4213-73f8-4027-e866-88776cf65041"
   },
   "outputs": [
    {
     "data": {
      "text/html": [
       "<div>\n",
       "<style scoped>\n",
       "    .dataframe tbody tr th:only-of-type {\n",
       "        vertical-align: middle;\n",
       "    }\n",
       "\n",
       "    .dataframe tbody tr th {\n",
       "        vertical-align: top;\n",
       "    }\n",
       "\n",
       "    .dataframe thead th {\n",
       "        text-align: right;\n",
       "    }\n",
       "</style>\n",
       "<table border=\"1\" class=\"dataframe\">\n",
       "  <thead>\n",
       "    <tr style=\"text-align: right;\">\n",
       "      <th></th>\n",
       "      <th>filename</th>\n",
       "      <th>age</th>\n",
       "      <th>target</th>\n",
       "    </tr>\n",
       "  </thead>\n",
       "  <tbody>\n",
       "    <tr>\n",
       "      <th>0</th>\n",
       "      <td>26_223.jpg</td>\n",
       "      <td>26</td>\n",
       "      <td>4</td>\n",
       "    </tr>\n",
       "    <tr>\n",
       "      <th>1</th>\n",
       "      <td>47_170.jpg</td>\n",
       "      <td>47</td>\n",
       "      <td>8</td>\n",
       "    </tr>\n",
       "    <tr>\n",
       "      <th>2</th>\n",
       "      <td>85_250.jpg</td>\n",
       "      <td>85</td>\n",
       "      <td>10</td>\n",
       "    </tr>\n",
       "    <tr>\n",
       "      <th>3</th>\n",
       "      <td>61_196.jpg</td>\n",
       "      <td>61</td>\n",
       "      <td>9</td>\n",
       "    </tr>\n",
       "    <tr>\n",
       "      <th>4</th>\n",
       "      <td>25_393.jpg</td>\n",
       "      <td>25</td>\n",
       "      <td>3</td>\n",
       "    </tr>\n",
       "  </tbody>\n",
       "</table>\n",
       "</div>"
      ],
      "text/plain": [
       "     filename  age  target\n",
       "0  26_223.jpg   26       4\n",
       "1  47_170.jpg   47       8\n",
       "2  85_250.jpg   85      10\n",
       "3  61_196.jpg   61       9\n",
       "4  25_393.jpg   25       3"
      ]
     },
     "execution_count": 21,
     "metadata": {},
     "output_type": "execute_result"
    }
   ],
   "source": [
    "# Shuffling the rows of combined_df so as to mix together the rows coming from both subreddit datasets.\n",
    "\n",
    "master_df = shuffle(master_df, random_state=42).reset_index(drop=True)\n",
    "master_df.head()"
   ]
  },
  {
   "cell_type": "code",
   "execution_count": 22,
   "metadata": {
    "colab": {},
    "colab_type": "code",
    "id": "VqENh3iDMEp0"
   },
   "outputs": [],
   "source": [
    "# Defining the filenames and ages from above master_df as X, and target as y for splitting into train and test datasets later.\n",
    "\n",
    "X = master_df[['filename', 'age']]\n",
    "y = master_df['target']"
   ]
  },
  {
   "cell_type": "code",
   "execution_count": 23,
   "metadata": {
    "colab": {},
    "colab_type": "code",
    "id": "kE1hokoqMESn"
   },
   "outputs": [],
   "source": [
    "# Splitting the dataset into training and testing datasets with test_size=0.3 and stratify=y. \n",
    "\n",
    "X_train, X_test, y_train, y_test = train_test_split(X, y, test_size=0.3, stratify=y, random_state=42)"
   ]
  },
  {
   "cell_type": "code",
   "execution_count": 24,
   "metadata": {
    "colab": {
     "base_uri": "https://localhost:8080/",
     "height": 34
    },
    "colab_type": "code",
    "executionInfo": {
     "elapsed": 933,
     "status": "ok",
     "timestamp": 1592578097121,
     "user": {
      "displayName": "Prerak Agarwal",
      "photoUrl": "",
      "userId": "01206615471624868818"
     },
     "user_tz": -480
    },
    "id": "KRIVFV_1P6Rg",
    "outputId": "47cd3b26-e284-45da-dd68-d6da8730e72b"
   },
   "outputs": [
    {
     "data": {
      "text/plain": [
       "(23440, 2)"
      ]
     },
     "execution_count": 24,
     "metadata": {},
     "output_type": "execute_result"
    }
   ],
   "source": [
    "X_train.shape"
   ]
  },
  {
   "cell_type": "code",
   "execution_count": 25,
   "metadata": {
    "colab": {
     "base_uri": "https://localhost:8080/",
     "height": 204
    },
    "colab_type": "code",
    "executionInfo": {
     "elapsed": 1071,
     "status": "ok",
     "timestamp": 1592578098737,
     "user": {
      "displayName": "Prerak Agarwal",
      "photoUrl": "",
      "userId": "01206615471624868818"
     },
     "user_tz": -480
    },
    "id": "2sm0uhg_Suex",
    "outputId": "3e12db51-fea5-48f9-b452-2a48f20e854d"
   },
   "outputs": [
    {
     "data": {
      "text/html": [
       "<div>\n",
       "<style scoped>\n",
       "    .dataframe tbody tr th:only-of-type {\n",
       "        vertical-align: middle;\n",
       "    }\n",
       "\n",
       "    .dataframe tbody tr th {\n",
       "        vertical-align: top;\n",
       "    }\n",
       "\n",
       "    .dataframe thead th {\n",
       "        text-align: right;\n",
       "    }\n",
       "</style>\n",
       "<table border=\"1\" class=\"dataframe\">\n",
       "  <thead>\n",
       "    <tr style=\"text-align: right;\">\n",
       "      <th></th>\n",
       "      <th>filename</th>\n",
       "      <th>age</th>\n",
       "    </tr>\n",
       "  </thead>\n",
       "  <tbody>\n",
       "    <tr>\n",
       "      <th>25853</th>\n",
       "      <td>10_24.jpg</td>\n",
       "      <td>10</td>\n",
       "    </tr>\n",
       "    <tr>\n",
       "      <th>29314</th>\n",
       "      <td>4_115.jpg</td>\n",
       "      <td>4</td>\n",
       "    </tr>\n",
       "    <tr>\n",
       "      <th>12790</th>\n",
       "      <td>6_58.jpg</td>\n",
       "      <td>6</td>\n",
       "    </tr>\n",
       "    <tr>\n",
       "      <th>28224</th>\n",
       "      <td>40_23.jpg</td>\n",
       "      <td>40</td>\n",
       "    </tr>\n",
       "    <tr>\n",
       "      <th>31700</th>\n",
       "      <td>22_506.jpg</td>\n",
       "      <td>22</td>\n",
       "    </tr>\n",
       "  </tbody>\n",
       "</table>\n",
       "</div>"
      ],
      "text/plain": [
       "         filename  age\n",
       "25853   10_24.jpg   10\n",
       "29314   4_115.jpg    4\n",
       "12790    6_58.jpg    6\n",
       "28224   40_23.jpg   40\n",
       "31700  22_506.jpg   22"
      ]
     },
     "execution_count": 25,
     "metadata": {},
     "output_type": "execute_result"
    }
   ],
   "source": [
    "X_train.head()"
   ]
  },
  {
   "cell_type": "code",
   "execution_count": 26,
   "metadata": {
    "colab": {
     "base_uri": "https://localhost:8080/",
     "height": 34
    },
    "colab_type": "code",
    "executionInfo": {
     "elapsed": 1739,
     "status": "ok",
     "timestamp": 1592578106468,
     "user": {
      "displayName": "Prerak Agarwal",
      "photoUrl": "",
      "userId": "01206615471624868818"
     },
     "user_tz": -480
    },
    "id": "xq8Ny6DGSuaK",
    "outputId": "4137f743-dd82-4328-a771-ee5a068322a7"
   },
   "outputs": [
    {
     "data": {
      "text/plain": [
       "(10046, 2)"
      ]
     },
     "execution_count": 26,
     "metadata": {},
     "output_type": "execute_result"
    }
   ],
   "source": [
    "X_test.shape"
   ]
  },
  {
   "cell_type": "code",
   "execution_count": 27,
   "metadata": {
    "colab": {
     "base_uri": "https://localhost:8080/",
     "height": 204
    },
    "colab_type": "code",
    "executionInfo": {
     "elapsed": 2343,
     "status": "ok",
     "timestamp": 1592578109211,
     "user": {
      "displayName": "Prerak Agarwal",
      "photoUrl": "",
      "userId": "01206615471624868818"
     },
     "user_tz": -480
    },
    "id": "kEoEEyx2SuVz",
    "outputId": "1cac1ecd-40ee-477d-dfc1-066ef13a5a74"
   },
   "outputs": [
    {
     "data": {
      "text/html": [
       "<div>\n",
       "<style scoped>\n",
       "    .dataframe tbody tr th:only-of-type {\n",
       "        vertical-align: middle;\n",
       "    }\n",
       "\n",
       "    .dataframe tbody tr th {\n",
       "        vertical-align: top;\n",
       "    }\n",
       "\n",
       "    .dataframe thead th {\n",
       "        text-align: right;\n",
       "    }\n",
       "</style>\n",
       "<table border=\"1\" class=\"dataframe\">\n",
       "  <thead>\n",
       "    <tr style=\"text-align: right;\">\n",
       "      <th></th>\n",
       "      <th>filename</th>\n",
       "      <th>age</th>\n",
       "    </tr>\n",
       "  </thead>\n",
       "  <tbody>\n",
       "    <tr>\n",
       "      <th>6553</th>\n",
       "      <td>3_328.jpg</td>\n",
       "      <td>3</td>\n",
       "    </tr>\n",
       "    <tr>\n",
       "      <th>10831</th>\n",
       "      <td>43_37.jpg</td>\n",
       "      <td>43</td>\n",
       "    </tr>\n",
       "    <tr>\n",
       "      <th>14174</th>\n",
       "      <td>38_207.jpg</td>\n",
       "      <td>38</td>\n",
       "    </tr>\n",
       "    <tr>\n",
       "      <th>5438</th>\n",
       "      <td>32_312.jpg</td>\n",
       "      <td>32</td>\n",
       "    </tr>\n",
       "    <tr>\n",
       "      <th>27785</th>\n",
       "      <td>7_244.jpg</td>\n",
       "      <td>7</td>\n",
       "    </tr>\n",
       "  </tbody>\n",
       "</table>\n",
       "</div>"
      ],
      "text/plain": [
       "         filename  age\n",
       "6553    3_328.jpg    3\n",
       "10831   43_37.jpg   43\n",
       "14174  38_207.jpg   38\n",
       "5438   32_312.jpg   32\n",
       "27785   7_244.jpg    7"
      ]
     },
     "execution_count": 27,
     "metadata": {},
     "output_type": "execute_result"
    }
   ],
   "source": [
    "X_test.head()"
   ]
  },
  {
   "cell_type": "code",
   "execution_count": 28,
   "metadata": {
    "colab": {
     "base_uri": "https://localhost:8080/",
     "height": 221
    },
    "colab_type": "code",
    "executionInfo": {
     "elapsed": 1594,
     "status": "ok",
     "timestamp": 1592578109942,
     "user": {
      "displayName": "Prerak Agarwal",
      "photoUrl": "",
      "userId": "01206615471624868818"
     },
     "user_tz": -480
    },
    "id": "Zj4l3xe2SuRC",
    "outputId": "dc6eaef2-6770-44dd-8407-f69dedffb5ba"
   },
   "outputs": [
    {
     "data": {
      "text/plain": [
       "3     0.103754\n",
       "4     0.096075\n",
       "7     0.095776\n",
       "0     0.095307\n",
       "2     0.093643\n",
       "6     0.092150\n",
       "5     0.091468\n",
       "1     0.084087\n",
       "8     0.083703\n",
       "9     0.083490\n",
       "10    0.080546\n",
       "Name: target, dtype: float64"
      ]
     },
     "execution_count": 28,
     "metadata": {},
     "output_type": "execute_result"
    }
   ],
   "source": [
    "y_train.value_counts(normalize=True)"
   ]
  },
  {
   "cell_type": "code",
   "execution_count": 29,
   "metadata": {
    "colab": {
     "base_uri": "https://localhost:8080/",
     "height": 221
    },
    "colab_type": "code",
    "executionInfo": {
     "elapsed": 1117,
     "status": "ok",
     "timestamp": 1592578114283,
     "user": {
      "displayName": "Prerak Agarwal",
      "photoUrl": "",
      "userId": "01206615471624868818"
     },
     "user_tz": -480
    },
    "id": "fB1T5zkCSuMh",
    "outputId": "2f38142a-ce72-4d8a-f188-3caced45b1cf"
   },
   "outputs": [
    {
     "data": {
      "text/plain": [
       "3     0.103723\n",
       "4     0.096058\n",
       "7     0.095760\n",
       "0     0.095361\n",
       "2     0.093669\n",
       "6     0.092176\n",
       "5     0.091479\n",
       "1     0.084113\n",
       "8     0.083615\n",
       "9     0.083516\n",
       "10    0.080530\n",
       "Name: target, dtype: float64"
      ]
     },
     "execution_count": 29,
     "metadata": {},
     "output_type": "execute_result"
    }
   ],
   "source": [
    "y_test.value_counts(normalize=True)"
   ]
  },
  {
   "cell_type": "code",
   "execution_count": 30,
   "metadata": {
    "colab": {},
    "colab_type": "code",
    "id": "X5_QDhBMQ_3Z"
   },
   "outputs": [],
   "source": [
    "# Creating copies of X and y (both train and test) from above to create a dataframe of filepaths to all images and their target labels.\n",
    "# These dataframes will be in the deep learning models later to create dataset input pipelines using TensorFlow.data.Dataset API.\n",
    "\n",
    "temp_X_train = X_train.copy()\n",
    "temp_X_train['target'] = y_train\n",
    "\n",
    "temp_X_test = X_test.copy()\n",
    "temp_X_test['target'] = y_test"
   ]
  },
  {
   "cell_type": "code",
   "execution_count": 31,
   "metadata": {
    "colab": {},
    "colab_type": "code",
    "id": "-o66H1D0qJd0"
   },
   "outputs": [],
   "source": [
    "# Defining a function to append the filepath to each image name as a string.\n",
    "\n",
    "combined_faces_path = ROOT_DIR + r\"/combined_faces\"\n",
    "\n",
    "def append_path_to_filename(filename):\n",
    "    return os.path.join(combined_faces_path, filename)"
   ]
  },
  {
   "cell_type": "code",
   "execution_count": 32,
   "metadata": {
    "colab": {},
    "colab_type": "code",
    "id": "JihZoBcvr4mz"
   },
   "outputs": [],
   "source": [
    "# Mapping the above created function on both dataframes created above.\n",
    "\n",
    "temp_X_train['filename'] = temp_X_train['filename'].map(append_path_to_filename)\n",
    "temp_X_test['filename'] = temp_X_test['filename'].map(append_path_to_filename)"
   ]
  },
  {
   "cell_type": "code",
   "execution_count": 33,
   "metadata": {
    "colab": {},
    "colab_type": "code",
    "id": "U76lGf36qJMB"
   },
   "outputs": [],
   "source": [
    "# Exporting the above created dataframes as CSV files.\n",
    "\n",
    "temp_X_train.to_csv(child_dir + \"/input_output/images_filenames_labels_train.csv\", index=False)\n",
    "temp_X_test.to_csv(child_dir + \"/input_output/images_filenames_labels_test.csv\", index=False)"
   ]
  },
  {
   "cell_type": "markdown",
   "metadata": {
    "colab_type": "text",
    "id": "1Au_icod64nD"
   },
   "source": [
    "## Traditional ML: Feature Extraction using Image Filters"
   ]
  },
  {
   "cell_type": "code",
   "execution_count": 34,
   "metadata": {
    "colab": {},
    "colab_type": "code",
    "id": "RucZ6KDDc7VK"
   },
   "outputs": [],
   "source": [
    "def give_col_image(path):\n",
    "    img = cv2.imread(path)\n",
    "    col_img = cv2.cvtColor(img, cv2.COLOR_RGB2BGR)\n",
    "    \n",
    "    return col_img"
   ]
  },
  {
   "cell_type": "code",
   "execution_count": 35,
   "metadata": {
    "colab": {},
    "colab_type": "code",
    "id": "F2SJna3Fc7R1"
   },
   "outputs": [],
   "source": [
    "def give_gray_image(col_img):\n",
    "    gray_img = cv2.cvtColor(col_img, cv2.COLOR_BGR2GRAY)\n",
    "    \n",
    "    return gray_img"
   ]
  },
  {
   "cell_type": "code",
   "execution_count": 36,
   "metadata": {
    "colab": {},
    "colab_type": "code",
    "id": "so-PFv6Tc7Oy"
   },
   "outputs": [],
   "source": [
    "def give_gaussian_image(gray_img):\n",
    "    gaussian_img = gaussian(gray_img, sigma=4)\n",
    "    \n",
    "    return gaussian_img"
   ]
  },
  {
   "cell_type": "code",
   "execution_count": 37,
   "metadata": {
    "colab": {},
    "colab_type": "code",
    "id": "oaP3jE7ic7MM"
   },
   "outputs": [],
   "source": [
    "def give_entropy_image(gray_img):\n",
    "    entropy_img = entropy(gray_img, disk(5))\n",
    "    \n",
    "    return entropy_img"
   ]
  },
  {
   "cell_type": "code",
   "execution_count": 38,
   "metadata": {
    "colab": {},
    "colab_type": "code",
    "id": "c7BZafaWc7JI"
   },
   "outputs": [],
   "source": [
    "def give_gabor_image(gray_img):\n",
    "\n",
    "    ksize = 5\n",
    "    sigma = 0.5\n",
    "    theta = 1*np.pi/4\n",
    "    lamda = 1*np.pi/4\n",
    "    gamma = 0.8\n",
    "    phi = 0\n",
    "\n",
    "    gabor_kernel = cv2.getGaborKernel((ksize, ksize), sigma, theta, lamda, gamma, phi, ktype=cv2.CV_32F)\n",
    "    gabor_img = cv2.filter2D(gray_img, cv2.CV_8UC3, gabor_kernel)\n",
    "    \n",
    "    return gabor_img"
   ]
  },
  {
   "cell_type": "code",
   "execution_count": 39,
   "metadata": {
    "colab": {},
    "colab_type": "code",
    "id": "y7XMBboTc7Fs"
   },
   "outputs": [],
   "source": [
    "def give_sobel_image(gray_img):\n",
    "    sobel_img = sobel(gray_img)\n",
    "    \n",
    "    return sobel_img"
   ]
  },
  {
   "cell_type": "code",
   "execution_count": 40,
   "metadata": {
    "colab": {},
    "colab_type": "code",
    "id": "Jscye7Nkc7CQ"
   },
   "outputs": [],
   "source": [
    "def give_canny_image(gray_img):\n",
    "    # canny_img = cv2.Canny(gray_img, 80, 180)\n",
    "    canny_img = canny(gray_img, sigma=0.9)\n",
    "    \n",
    "    return canny_img"
   ]
  },
  {
   "cell_type": "markdown",
   "metadata": {
    "colab_type": "text",
    "id": "hL87YKRyyOlF"
   },
   "source": [
    "### Canny Edges Feature Extraction"
   ]
  },
  {
   "cell_type": "code",
   "execution_count": 42,
   "metadata": {
    "colab": {},
    "colab_type": "code",
    "id": "lGSjgRZ34clQ"
   },
   "outputs": [],
   "source": [
    "# Defining a function to break-down an image of 200x200 pixels into sections of 10x10 pixels each,\n",
    "# and calculate the mean and stdev of the section.\n",
    "# Function INPUT: An image of 200x200 pixel size.\n",
    "# Function OUTPUT: Features array comprising of mean and stdev of 400 sections (10x10 pixels).\n",
    "\n",
    "def features_grid(img):\n",
    "    features = np.array([], dtype='uint8')\n",
    "    section = 1\n",
    "    \n",
    "    for y in range(0, img.shape[0], 10):\n",
    "        for x in range(0, img.shape[1], 10):\n",
    "\n",
    "            # Cropping the image into a section.\n",
    "            section_img = img[y:y+10, x:x+10]\n",
    "            \n",
    "            # Claculating the mean and stdev of the sectioned image.\n",
    "            section_mean = np.mean(section_img)\n",
    "            section_std = np.std(section_img)\n",
    "            \n",
    "            # Appending the above calculated values into features array.\n",
    "            features = np.append(features, [section_mean, section_std])\n",
    "    \n",
    "    # Returning the features array.\n",
    "    return features"
   ]
  },
  {
   "cell_type": "code",
   "execution_count": 43,
   "metadata": {
    "colab": {},
    "colab_type": "code",
    "id": "kICRWrk25jFw"
   },
   "outputs": [],
   "source": [
    "# Defining a function to loop through images in the dataset and extract the canny edges mean and stdev values from 10x10 pixel sections of each image.\n",
    "\n",
    "def extract_canny_edges(filename_series):\n",
    "\n",
    "    # Creating an array of shape (1, 801) to store 400 canny edges mean values, 400 canny edges stdev values and 1 age value.\n",
    "    all_imgs = np.zeros((1, 801), dtype='uint8')\n",
    "\n",
    "    progress_counter = 0\n",
    "\n",
    "    for img_name in filename_series:\n",
    "        \n",
    "        # Defining a path to the image and reading in the coloured image.\n",
    "        img_path = os.path.join(combined_faces_path, img_name)\n",
    "        img = cv2.imread(img_path)\n",
    "        img = cv2.cvtColor(img, cv2.COLOR_RGB2BGR)\n",
    "\n",
    "        # Converting the coloured image to a grayscale image.\n",
    "        img = cv2.cvtColor(img, cv2.COLOR_BGR2GRAY)\n",
    "        \n",
    "        # Converting the grayscale image to a canny edges filtered image.\n",
    "        img = canny(img, sigma=0.9)\n",
    "        \n",
    "        # Using the function defined above, extracting the features (mean and stdev values of all 10x10 pixel sections from the image) from the canny edges filtered image.\n",
    "        img_features = features_grid(img)\n",
    "\n",
    "        # Adding the actual age value (from the image name) into the features array.\n",
    "        age = np.uint8(img_name.split(\"_\")[0])\n",
    "        img_features = np.append(img_features, age)\n",
    "\n",
    "        img_features = img_features.reshape(1, img_features.shape[0])\n",
    "\n",
    "        # Adding the image's features into the all_imgs features array defined above.\n",
    "        all_imgs = np.append(all_imgs, img_features, axis=0)\n",
    "\n",
    "        # Keeping track of progress and printing relevant statements for the user.\n",
    "        progress_counter += 1\n",
    "        if progress_counter % 1000 == 0:\n",
    "            print(f\"Images processed for features extraction: {progress_counter} of {len(filename_series)}\")\n",
    "\n",
    "    # Getting rid of the first row of zeros created while defining the all_imgs array above.    \n",
    "    all_imgs = all_imgs[1:]\n",
    "\n",
    "    return all_imgs"
   ]
  },
  {
   "cell_type": "code",
   "execution_count": 44,
   "metadata": {
    "colab": {
     "base_uri": "https://localhost:8080/",
     "height": 408
    },
    "colab_type": "code",
    "executionInfo": {
     "elapsed": 1248457,
     "status": "ok",
     "timestamp": 1592218319499,
     "user": {
      "displayName": "Prerak Agarwal",
      "photoUrl": "",
      "userId": "01206615471624868818"
     },
     "user_tz": -480
    },
    "id": "S5rhyl6OdysQ",
    "outputId": "a8c43f75-3875-435d-8046-1c720f3a220e"
   },
   "outputs": [
    {
     "name": "stdout",
     "output_type": "stream",
     "text": [
      "Images processed for features extraction: 1000 of 23440\n",
      "Images processed for features extraction: 2000 of 23440\n",
      "Images processed for features extraction: 3000 of 23440\n",
      "Images processed for features extraction: 4000 of 23440\n",
      "Images processed for features extraction: 5000 of 23440\n",
      "Images processed for features extraction: 6000 of 23440\n",
      "Images processed for features extraction: 7000 of 23440\n",
      "Images processed for features extraction: 8000 of 23440\n",
      "Images processed for features extraction: 9000 of 23440\n",
      "Images processed for features extraction: 10000 of 23440\n",
      "Images processed for features extraction: 11000 of 23440\n",
      "Images processed for features extraction: 12000 of 23440\n",
      "Images processed for features extraction: 13000 of 23440\n",
      "Images processed for features extraction: 14000 of 23440\n",
      "Images processed for features extraction: 15000 of 23440\n",
      "Images processed for features extraction: 16000 of 23440\n",
      "Images processed for features extraction: 17000 of 23440\n",
      "Images processed for features extraction: 18000 of 23440\n",
      "Images processed for features extraction: 19000 of 23440\n",
      "Images processed for features extraction: 20000 of 23440\n",
      "Images processed for features extraction: 21000 of 23440\n",
      "Images processed for features extraction: 22000 of 23440\n",
      "Images processed for features extraction: 23000 of 23440\n"
     ]
    }
   ],
   "source": [
    "# Extracting the canny edge features from images in the training dataset.\n",
    "\n",
    "train_imgs = extract_canny_edges(X_train['filename'])"
   ]
  },
  {
   "cell_type": "code",
   "execution_count": 45,
   "metadata": {
    "colab": {
     "base_uri": "https://localhost:8080/",
     "height": 34
    },
    "colab_type": "code",
    "executionInfo": {
     "elapsed": 1238545,
     "status": "ok",
     "timestamp": 1592218319511,
     "user": {
      "displayName": "Prerak Agarwal",
      "photoUrl": "",
      "userId": "01206615471624868818"
     },
     "user_tz": -480
    },
    "id": "omEnyE7ndygC",
    "outputId": "ca791f9f-486b-4a96-88e0-de5901210ada"
   },
   "outputs": [
    {
     "data": {
      "text/plain": [
       "(23440, 801)"
      ]
     },
     "execution_count": 45,
     "metadata": {},
     "output_type": "execute_result"
    }
   ],
   "source": [
    "train_imgs.shape"
   ]
  },
  {
   "cell_type": "code",
   "execution_count": 46,
   "metadata": {
    "colab": {},
    "colab_type": "code",
    "id": "n8gDqxIAfJwJ"
   },
   "outputs": [],
   "source": [
    "# Exporting the above created features array as a .npy file for use in the model later.\n",
    "\n",
    "with open(child_dir + r\"/input_output/canny_features_age_train.npy\", \"wb\") as f:\n",
    "    np.save(f, train_imgs, allow_pickle=True)"
   ]
  },
  {
   "cell_type": "code",
   "execution_count": 47,
   "metadata": {
    "colab": {
     "base_uri": "https://localhost:8080/",
     "height": 187
    },
    "colab_type": "code",
    "executionInfo": {
     "elapsed": 412523,
     "status": "ok",
     "timestamp": 1592218766398,
     "user": {
      "displayName": "Prerak Agarwal",
      "photoUrl": "",
      "userId": "01206615471624868818"
     },
     "user_tz": -480
    },
    "id": "8RgX6EaVgjPS",
    "outputId": "c7ad0c1f-4fc6-430e-8e99-8eec465bae4b"
   },
   "outputs": [
    {
     "name": "stdout",
     "output_type": "stream",
     "text": [
      "Images processed for features extraction: 1000 of 10046\n",
      "Images processed for features extraction: 2000 of 10046\n",
      "Images processed for features extraction: 3000 of 10046\n",
      "Images processed for features extraction: 4000 of 10046\n",
      "Images processed for features extraction: 5000 of 10046\n",
      "Images processed for features extraction: 6000 of 10046\n",
      "Images processed for features extraction: 7000 of 10046\n",
      "Images processed for features extraction: 8000 of 10046\n",
      "Images processed for features extraction: 9000 of 10046\n",
      "Images processed for features extraction: 10000 of 10046\n"
     ]
    }
   ],
   "source": [
    "# Extracting the canny edge features from images in the testing dataset.\n",
    "\n",
    "test_imgs = extract_canny_edges(X_test['filename'])"
   ]
  },
  {
   "cell_type": "code",
   "execution_count": 48,
   "metadata": {
    "colab": {
     "base_uri": "https://localhost:8080/",
     "height": 34
    },
    "colab_type": "code",
    "executionInfo": {
     "elapsed": 410768,
     "status": "ok",
     "timestamp": 1592218766404,
     "user": {
      "displayName": "Prerak Agarwal",
      "photoUrl": "",
      "userId": "01206615471624868818"
     },
     "user_tz": -480
    },
    "id": "dxQ4eltwgjCI",
    "outputId": "6bce5f2a-8997-4d81-86c5-b8d895ce3657"
   },
   "outputs": [
    {
     "data": {
      "text/plain": [
       "(10046, 801)"
      ]
     },
     "execution_count": 48,
     "metadata": {},
     "output_type": "execute_result"
    }
   ],
   "source": [
    "test_imgs.shape"
   ]
  },
  {
   "cell_type": "code",
   "execution_count": 49,
   "metadata": {
    "colab": {},
    "colab_type": "code",
    "id": "uqq6q4Cbgi5A"
   },
   "outputs": [],
   "source": [
    "# Exporting the above created features array as a .npy file for use in the model later.\n",
    "\n",
    "with open(child_dir + r\"/input_output/canny_features_age_test.npy\", \"wb\") as f:\n",
    "    np.save(f, test_imgs, allow_pickle=True)"
   ]
  },
  {
   "cell_type": "code",
   "execution_count": 50,
   "metadata": {
    "colab": {},
    "colab_type": "code",
    "id": "PoofEYwMYvZT"
   },
   "outputs": [],
   "source": [
    "# Creating a list of columns names for the features arrays defined above.\n",
    "# The column names correspond to the sectioned image's mean and stdev values.\n",
    "# Last column is the age to be converted to target class label in the model later.\n",
    "\n",
    "feature_names = []\n",
    "section = 1\n",
    "    \n",
    "for y in range(0, 200, 10):\n",
    "    for x in range(0, 200, 10):\n",
    "        feature_names.append(f\"sec{section}_mean\")\n",
    "        feature_names.append(f\"sec{section}_std\")\n",
    "        section += 1\n",
    "\n",
    "feature_names.append('age')"
   ]
  },
  {
   "cell_type": "code",
   "execution_count": 51,
   "metadata": {
    "colab": {
     "base_uri": "https://localhost:8080/",
     "height": 187
    },
    "colab_type": "code",
    "executionInfo": {
     "elapsed": 877,
     "status": "ok",
     "timestamp": 1592218947127,
     "user": {
      "displayName": "Prerak Agarwal",
      "photoUrl": "",
      "userId": "01206615471624868818"
     },
     "user_tz": -480
    },
    "id": "LMkD9so9pKie",
    "outputId": "64ec85bc-a54e-495c-a5ad-8561f5a683b3"
   },
   "outputs": [
    {
     "data": {
      "text/plain": [
       "['sec1_mean',\n",
       " 'sec1_std',\n",
       " 'sec2_mean',\n",
       " 'sec2_std',\n",
       " 'sec3_mean',\n",
       " 'sec3_std',\n",
       " 'sec4_mean',\n",
       " 'sec4_std',\n",
       " 'sec5_mean',\n",
       " 'sec5_std']"
      ]
     },
     "execution_count": 51,
     "metadata": {},
     "output_type": "execute_result"
    }
   ],
   "source": [
    "feature_names[:10]"
   ]
  },
  {
   "cell_type": "code",
   "execution_count": 52,
   "metadata": {
    "colab": {
     "base_uri": "https://localhost:8080/",
     "height": 187
    },
    "colab_type": "code",
    "executionInfo": {
     "elapsed": 680,
     "status": "ok",
     "timestamp": 1592218979332,
     "user": {
      "displayName": "Prerak Agarwal",
      "photoUrl": "",
      "userId": "01206615471624868818"
     },
     "user_tz": -480
    },
    "id": "j1NCwtk7pUmk",
    "outputId": "4bf45607-0c67-40d2-84ed-4cf344e8aff7"
   },
   "outputs": [
    {
     "data": {
      "text/plain": [
       "['sec396_std',\n",
       " 'sec397_mean',\n",
       " 'sec397_std',\n",
       " 'sec398_mean',\n",
       " 'sec398_std',\n",
       " 'sec399_mean',\n",
       " 'sec399_std',\n",
       " 'sec400_mean',\n",
       " 'sec400_std',\n",
       " 'age']"
      ]
     },
     "execution_count": 52,
     "metadata": {},
     "output_type": "execute_result"
    }
   ],
   "source": [
    "feature_names[-10:]"
   ]
  },
  {
   "cell_type": "code",
   "execution_count": 53,
   "metadata": {
    "colab": {
     "base_uri": "https://localhost:8080/",
     "height": 34
    },
    "colab_type": "code",
    "executionInfo": {
     "elapsed": 645,
     "status": "ok",
     "timestamp": 1592218984960,
     "user": {
      "displayName": "Prerak Agarwal",
      "photoUrl": "",
      "userId": "01206615471624868818"
     },
     "user_tz": -480
    },
    "id": "7u2hkEWHYvWH",
    "outputId": "fcc9675c-f9ff-4b41-ec98-eb2c6cc63413"
   },
   "outputs": [
    {
     "data": {
      "text/plain": [
       "801"
      ]
     },
     "execution_count": 53,
     "metadata": {},
     "output_type": "execute_result"
    }
   ],
   "source": [
    "len(feature_names)"
   ]
  },
  {
   "cell_type": "code",
   "execution_count": 54,
   "metadata": {
    "colab": {},
    "colab_type": "code",
    "id": "FGOJx1tykxPo"
   },
   "outputs": [],
   "source": [
    "# Exporting the above created list of feature names as a CSV file for use in the model later.\n",
    "\n",
    "pd.Series(feature_names).to_csv(child_dir + \"/input_output/canny_features_names.csv\", index=False, header=['canny_edge_features'])"
   ]
  }
 ],
 "metadata": {
  "colab": {
   "authorship_tag": "ABX9TyMxidnqpMU/GFXW5NJ5llw9",
   "collapsed_sections": [],
   "name": "2_dataset_prep_ML_feature_extraction.ipynb",
   "provenance": [],
   "toc_visible": true
  },
  "kernelspec": {
   "display_name": "Python 3",
   "language": "python",
   "name": "python3"
  },
  "language_info": {
   "codemirror_mode": {
    "name": "ipython",
    "version": 3
   },
   "file_extension": ".py",
   "mimetype": "text/x-python",
   "name": "python",
   "nbconvert_exporter": "python",
   "pygments_lexer": "ipython3",
   "version": "3.8.8"
  }
 },
 "nbformat": 4,
 "nbformat_minor": 1
}
