{
 "cells": [
  {
   "cell_type": "code",
   "execution_count": null,
   "metadata": {
    "colab": {},
    "colab_type": "code",
    "id": "Uj0ft8tDNFSJ"
   },
   "outputs": [],
   "source": [
    "# Imports\n",
    "# Please refer to requirements.txt for a full list of all libraries and their versions used in this project.\n",
    "\n",
    "import pandas as pd\n",
    "import numpy as np\n",
    "import matplotlib.pyplot as plt\n",
    "\n",
    "from sklearn.preprocessing import StandardScaler\n",
    "from sklearn.model_selection import train_test_split, cross_val_score, GridSearchCV\n",
    "from sklearn.ensemble import RandomForestClassifier\n",
    "from sklearn.svm import SVC\n",
    "from sklearn.metrics import confusion_matrix\n",
    "\n",
    "import os\n",
    "# from zipfile import ZipFile\n",
    "import time\n",
    "from datetime import datetime\n",
    "import itertools\n",
    "\n",
    "import pickle"
   ]
  },
  {
   "cell_type": "code",
   "execution_count": null,
   "metadata": {},
   "outputs": [],
   "source": [
    "ROOT_DIR = os.getcwd()\n",
    "child_dir = os.path.abspath(os.path.join(os.getcwd(), \"..\"))\n",
    "\n",
    "print(ROOT_DIR)"
   ]
  },
  {
   "cell_type": "markdown",
   "metadata": {
    "colab_type": "text",
    "id": "KvIq_TUOclMT"
   },
   "source": [
    "## Traditional ML: Data Importing"
   ]
  },
  {
   "cell_type": "code",
   "execution_count": null,
   "metadata": {
    "colab": {
     "base_uri": "https://localhost:8080/",
     "height": 390
    },
    "colab_type": "code",
    "executionInfo": {
     "elapsed": 1104,
     "status": "ok",
     "timestamp": 1592678176530,
     "user": {
      "displayName": "Prerak Agarwal",
      "photoUrl": "",
      "userId": "01206615471624868818"
     },
     "user_tz": -480
    },
    "id": "Z5Xu46GYNTiF",
    "outputId": "4247e70f-edb1-479b-f3d7-cc5545a90226"
   },
   "outputs": [],
   "source": [
    "# Importing the table showing the breakdown of age-ranges into classes.\n",
    "\n",
    "combined_classes = pd.read_csv(child_dir + r\"/input_output/combined_faces_classes_summary.csv\")\n",
    "combined_classes"
   ]
  },
  {
   "cell_type": "code",
   "execution_count": null,
   "metadata": {
    "colab": {},
    "colab_type": "code",
    "id": "PasUG1OoOfrR"
   },
   "outputs": [],
   "source": [
    "# Defining a function to return the class labels corresponding to the age-ranges shown above.\n",
    "\n",
    "def class_labels(age):\n",
    "    if 1 <= age <= 2:\n",
    "        return 1\n",
    "    elif 3 <= age <= 9:\n",
    "        return 2\n",
    "    elif 10 <= age <= 20:\n",
    "        return 3\n",
    "    elif 21 <= age <= 25:\n",
    "        return 4\n",
    "    elif 26 <= age <= 27:\n",
    "        return 5\n",
    "    elif 28 <= age <= 31:\n",
    "        return 6\n",
    "    elif 32 <= age <= 36:\n",
    "        return 7\n",
    "    elif 37 <= age <= 45:\n",
    "        return 8\n",
    "    elif 46 <= age <= 54:\n",
    "        return 9\n",
    "    elif 55 <= age <= 65:\n",
    "        return 10\n",
    "    else:\n",
    "        return 11"
   ]
  },
  {
   "cell_type": "code",
   "execution_count": null,
   "metadata": {
    "colab": {
     "base_uri": "https://localhost:8080/",
     "height": 419
    },
    "colab_type": "code",
    "executionInfo": {
     "elapsed": 1160,
     "status": "ok",
     "timestamp": 1592678182823,
     "user": {
      "displayName": "Prerak Agarwal",
      "photoUrl": "",
      "userId": "01206615471624868818"
     },
     "user_tz": -480
    },
    "id": "SgYt26In9EfC",
    "outputId": "9af27d7e-1725-48d0-fedb-0515c8c1833b"
   },
   "outputs": [],
   "source": [
    "# Importing the feature names.\n",
    "\n",
    "feature_names = pd.read_csv(child_dir + r\"/input_output/canny_features_names.csv\")\n",
    "feature_names"
   ]
  },
  {
   "cell_type": "code",
   "execution_count": null,
   "metadata": {
    "colab": {},
    "colab_type": "code",
    "id": "RPQdqIbR9E0r"
   },
   "outputs": [],
   "source": [
    "# Importing the numpy arrays of train and test datasets.\n",
    "\n",
    "train = np.load(child_dir + r\"/input_output/canny_features_age_train.npy\")\n",
    "test = np.load(child_dir + r\"/input_output/canny_features_age_test.npy\")"
   ]
  },
  {
   "cell_type": "code",
   "execution_count": null,
   "metadata": {
    "colab": {},
    "colab_type": "code",
    "id": "jWO2lMHV9Er3"
   },
   "outputs": [],
   "source": [
    "# Converting the numpy arrays to pandas dataframe.\n",
    "\n",
    "train_df = pd.DataFrame(train, columns=feature_names[\"canny_edge_features\"])\n",
    "test_df = pd.DataFrame(test, columns=feature_names[\"canny_edge_features\"])"
   ]
  },
  {
   "cell_type": "code",
   "execution_count": null,
   "metadata": {
    "colab": {
     "base_uri": "https://localhost:8080/",
     "height": 253
    },
    "colab_type": "code",
    "executionInfo": {
     "elapsed": 863,
     "status": "ok",
     "timestamp": 1592678190777,
     "user": {
      "displayName": "Prerak Agarwal",
      "photoUrl": "",
      "userId": "01206615471624868818"
     },
     "user_tz": -480
    },
    "id": "1sia-yuw9EqO",
    "outputId": "7189157b-4e9f-4e16-bd0c-5afe06460c16"
   },
   "outputs": [],
   "source": [
    "train_df.head()"
   ]
  },
  {
   "cell_type": "code",
   "execution_count": null,
   "metadata": {
    "colab": {
     "base_uri": "https://localhost:8080/",
     "height": 253
    },
    "colab_type": "code",
    "executionInfo": {
     "elapsed": 1411,
     "status": "ok",
     "timestamp": 1592678192500,
     "user": {
      "displayName": "Prerak Agarwal",
      "photoUrl": "",
      "userId": "01206615471624868818"
     },
     "user_tz": -480
    },
    "id": "UBOUyN0pBw1n",
    "outputId": "358ebd25-015d-4bfb-ad85-afb3332bb26b"
   },
   "outputs": [],
   "source": [
    "test_df.head()"
   ]
  },
  {
   "cell_type": "code",
   "execution_count": null,
   "metadata": {
    "colab": {
     "base_uri": "https://localhost:8080/",
     "height": 34
    },
    "colab_type": "code",
    "executionInfo": {
     "elapsed": 767,
     "status": "ok",
     "timestamp": 1592678195649,
     "user": {
      "displayName": "Prerak Agarwal",
      "photoUrl": "",
      "userId": "01206615471624868818"
     },
     "user_tz": -480
    },
    "id": "41rxgOi5AMuS",
    "outputId": "8b9856c4-2fcd-4c96-aa1b-9e2e9f620def"
   },
   "outputs": [],
   "source": [
    "train_df.shape"
   ]
  },
  {
   "cell_type": "code",
   "execution_count": null,
   "metadata": {
    "colab": {
     "base_uri": "https://localhost:8080/",
     "height": 34
    },
    "colab_type": "code",
    "executionInfo": {
     "elapsed": 815,
     "status": "ok",
     "timestamp": 1592678197264,
     "user": {
      "displayName": "Prerak Agarwal",
      "photoUrl": "",
      "userId": "01206615471624868818"
     },
     "user_tz": -480
    },
    "id": "uOGIm7S6BzaV",
    "outputId": "fadebb20-13ce-41a5-d323-e5f3e286c56d"
   },
   "outputs": [],
   "source": [
    "test_df.shape"
   ]
  },
  {
   "cell_type": "code",
   "execution_count": null,
   "metadata": {
    "colab": {
     "base_uri": "https://localhost:8080/",
     "height": 34
    },
    "colab_type": "code",
    "executionInfo": {
     "elapsed": 1010,
     "status": "ok",
     "timestamp": 1592678198477,
     "user": {
      "displayName": "Prerak Agarwal",
      "photoUrl": "",
      "userId": "01206615471624868818"
     },
     "user_tz": -480
    },
    "id": "5H6YxD_a9Elz",
    "outputId": "3e34eae3-ca79-4263-b6b0-3104ac8ac3f8"
   },
   "outputs": [],
   "source": [
    "train_df.dtypes.unique()"
   ]
  },
  {
   "cell_type": "code",
   "execution_count": null,
   "metadata": {
    "colab": {
     "base_uri": "https://localhost:8080/",
     "height": 34
    },
    "colab_type": "code",
    "executionInfo": {
     "elapsed": 1658,
     "status": "ok",
     "timestamp": 1592678200026,
     "user": {
      "displayName": "Prerak Agarwal",
      "photoUrl": "",
      "userId": "01206615471624868818"
     },
     "user_tz": -480
    },
    "id": "mpdGGGIoB2lV",
    "outputId": "cfa35662-87fc-424b-f044-8c7a66ed75d5"
   },
   "outputs": [],
   "source": [
    "test_df.dtypes.unique()"
   ]
  },
  {
   "cell_type": "code",
   "execution_count": null,
   "metadata": {
    "colab": {},
    "colab_type": "code",
    "id": "CVOXo1q_9EjM"
   },
   "outputs": [],
   "source": [
    "train_df['age'] = train_df['age'].astype(np.uint8)\n",
    "test_df['age'] = test_df['age'].astype(np.uint8)"
   ]
  },
  {
   "cell_type": "code",
   "execution_count": null,
   "metadata": {
    "colab": {},
    "colab_type": "code",
    "id": "6cLPidSjAQ5K"
   },
   "outputs": [],
   "source": [
    "# Creating a column of target class values using the function defined above.\n",
    "\n",
    "train_df['target'] = train_df['age'].map(class_labels)\n",
    "test_df['target'] = test_df['age'].map(class_labels)"
   ]
  },
  {
   "cell_type": "code",
   "execution_count": null,
   "metadata": {
    "colab": {
     "base_uri": "https://localhost:8080/",
     "height": 253
    },
    "colab_type": "code",
    "executionInfo": {
     "elapsed": 922,
     "status": "ok",
     "timestamp": 1592678204228,
     "user": {
      "displayName": "Prerak Agarwal",
      "photoUrl": "",
      "userId": "01206615471624868818"
     },
     "user_tz": -480
    },
    "id": "TDYshOdiAQ2S",
    "outputId": "6a2270d3-b9f2-43d2-b825-1ce384c8e36b"
   },
   "outputs": [],
   "source": [
    "train_df.head()"
   ]
  },
  {
   "cell_type": "code",
   "execution_count": null,
   "metadata": {
    "colab": {
     "base_uri": "https://localhost:8080/",
     "height": 253
    },
    "colab_type": "code",
    "executionInfo": {
     "elapsed": 1702,
     "status": "ok",
     "timestamp": 1592678207994,
     "user": {
      "displayName": "Prerak Agarwal",
      "photoUrl": "",
      "userId": "01206615471624868818"
     },
     "user_tz": -480
    },
    "id": "Oqp0sLZRCN1u",
    "outputId": "6f1cc786-f9e2-497c-b045-6a11c64f19aa"
   },
   "outputs": [],
   "source": [
    "test_df.head()"
   ]
  },
  {
   "cell_type": "markdown",
   "metadata": {
    "colab_type": "text",
    "id": "IgTgTHbodEJA"
   },
   "source": [
    "## Traditional ML: Model Preparation"
   ]
  },
  {
   "cell_type": "code",
   "execution_count": null,
   "metadata": {
    "colab": {},
    "colab_type": "code",
    "id": "FXgcBWZcAQz3"
   },
   "outputs": [],
   "source": [
    "# Splitting the above train and test dataframes into features (X) and target (y).\n",
    "\n",
    "X_train = train_df.drop(columns=['age', 'target'])\n",
    "y_train = train_df['target']\n",
    "\n",
    "X_test = test_df.drop(columns=['age', 'target'])\n",
    "y_test = test_df['target']"
   ]
  },
  {
   "cell_type": "code",
   "execution_count": null,
   "metadata": {
    "colab": {
     "base_uri": "https://localhost:8080/",
     "height": 253
    },
    "colab_type": "code",
    "executionInfo": {
     "elapsed": 840,
     "status": "ok",
     "timestamp": 1592678213270,
     "user": {
      "displayName": "Prerak Agarwal",
      "photoUrl": "",
      "userId": "01206615471624868818"
     },
     "user_tz": -480
    },
    "id": "dOT5WwGXXCzD",
    "outputId": "63505b5b-3347-4d4c-c91d-273a235565b3"
   },
   "outputs": [],
   "source": [
    "X_train.head()"
   ]
  },
  {
   "cell_type": "code",
   "execution_count": null,
   "metadata": {
    "colab": {
     "base_uri": "https://localhost:8080/",
     "height": 34
    },
    "colab_type": "code",
    "executionInfo": {
     "elapsed": 1270,
     "status": "ok",
     "timestamp": 1592678217355,
     "user": {
      "displayName": "Prerak Agarwal",
      "photoUrl": "",
      "userId": "01206615471624868818"
     },
     "user_tz": -480
    },
    "id": "xFwo3LjqXEbH",
    "outputId": "21f4fc8f-218e-4375-cd01-ecde9cba04a4"
   },
   "outputs": [],
   "source": [
    "X_train.shape"
   ]
  },
  {
   "cell_type": "code",
   "execution_count": null,
   "metadata": {
    "colab": {
     "base_uri": "https://localhost:8080/",
     "height": 253
    },
    "colab_type": "code",
    "executionInfo": {
     "elapsed": 961,
     "status": "ok",
     "timestamp": 1592678218108,
     "user": {
      "displayName": "Prerak Agarwal",
      "photoUrl": "",
      "userId": "01206615471624868818"
     },
     "user_tz": -480
    },
    "id": "dTW_ujg4XESs",
    "outputId": "783fcdbf-b7c9-47d7-b57f-be3d4a0b9476"
   },
   "outputs": [],
   "source": [
    "X_test.head()"
   ]
  },
  {
   "cell_type": "code",
   "execution_count": null,
   "metadata": {
    "colab": {
     "base_uri": "https://localhost:8080/",
     "height": 34
    },
    "colab_type": "code",
    "executionInfo": {
     "elapsed": 1084,
     "status": "ok",
     "timestamp": 1592678220521,
     "user": {
      "displayName": "Prerak Agarwal",
      "photoUrl": "",
      "userId": "01206615471624868818"
     },
     "user_tz": -480
    },
    "id": "k8hkfwvIXEJv",
    "outputId": "2b57f175-a0f2-41c8-e19f-e005a7a79992"
   },
   "outputs": [],
   "source": [
    "X_test.shape"
   ]
  },
  {
   "cell_type": "code",
   "execution_count": null,
   "metadata": {
    "colab": {
     "base_uri": "https://localhost:8080/",
     "height": 221
    },
    "colab_type": "code",
    "executionInfo": {
     "elapsed": 1135,
     "status": "ok",
     "timestamp": 1592678221632,
     "user": {
      "displayName": "Prerak Agarwal",
      "photoUrl": "",
      "userId": "01206615471624868818"
     },
     "user_tz": -480
    },
    "id": "_MSUfFwfXD_g",
    "outputId": "23ca7c76-1b22-4b64-9146-96fbab20787f"
   },
   "outputs": [],
   "source": [
    "# Checking the distribution of classes in y_train.\n",
    "\n",
    "y_train.value_counts()"
   ]
  },
  {
   "cell_type": "code",
   "execution_count": null,
   "metadata": {
    "colab": {
     "base_uri": "https://localhost:8080/",
     "height": 221
    },
    "colab_type": "code",
    "executionInfo": {
     "elapsed": 1701,
     "status": "ok",
     "timestamp": 1592678224961,
     "user": {
      "displayName": "Prerak Agarwal",
      "photoUrl": "",
      "userId": "01206615471624868818"
     },
     "user_tz": -480
    },
    "id": "GYw9YCxOXcxk",
    "outputId": "a6c32391-1efc-41d4-d5dd-ca5ade8e4271"
   },
   "outputs": [],
   "source": [
    "# Checking the distribution of classes to ensure it is same as y_test.\n",
    "\n",
    "y_train.value_counts(normalize=True)"
   ]
  },
  {
   "cell_type": "code",
   "execution_count": null,
   "metadata": {
    "colab": {
     "base_uri": "https://localhost:8080/",
     "height": 221
    },
    "colab_type": "code",
    "executionInfo": {
     "elapsed": 1439,
     "status": "ok",
     "timestamp": 1592678226215,
     "user": {
      "displayName": "Prerak Agarwal",
      "photoUrl": "",
      "userId": "01206615471624868818"
     },
     "user_tz": -480
    },
    "id": "DUIPTQbOXcmd",
    "outputId": "d7521890-1a81-4f96-a968-e83e14ae4b9d"
   },
   "outputs": [],
   "source": [
    "# Checking the distribution of classes to ensure it is same as y_train.\n",
    "\n",
    "y_test.value_counts(normalize=True)"
   ]
  },
  {
   "cell_type": "code",
   "execution_count": null,
   "metadata": {
    "colab": {},
    "colab_type": "code",
    "id": "vGmOW4-xXcXD"
   },
   "outputs": [],
   "source": [
    "# Scaling X_train to the standard scale.\n",
    "\n",
    "ss = StandardScaler()\n",
    "X_train_sc = ss.fit_transform(X_train)"
   ]
  },
  {
   "cell_type": "code",
   "execution_count": null,
   "metadata": {
    "colab": {},
    "colab_type": "code",
    "id": "9Wu5yNOxXcNr"
   },
   "outputs": [],
   "source": [
    "# Transforming X_test to the same scale.\n",
    "\n",
    "X_test_sc = ss.transform(X_test)"
   ]
  },
  {
   "cell_type": "markdown",
   "metadata": {
    "colab_type": "text",
    "id": "aSqCHX1qc1sN"
   },
   "source": [
    "## Traditional ML: Classification Modelling"
   ]
  },
  {
   "cell_type": "markdown",
   "metadata": {
    "colab_type": "text",
    "id": "yh7NjMHiayLS"
   },
   "source": [
    "### *GridSearchCV* with *RandomForestClassifier*"
   ]
  },
  {
   "cell_type": "code",
   "execution_count": null,
   "metadata": {
    "colab": {},
    "colab_type": "code",
    "id": "hVcPGxaPXcF3"
   },
   "outputs": [],
   "source": [
    "# Creating a RandomForestClassifier object.\n",
    "\n",
    "rfc = RandomForestClassifier(# class_weight='balanced_subsample', \n",
    "                             # n_estimators=200,\n",
    "                             # max_depth=5,\n",
    "                             ccp_alpha=0,\n",
    "                             min_samples_split=2,\n",
    "                             min_samples_leaf=1,\n",
    "                             random_state=42\n",
    "                            )"
   ]
  },
  {
   "cell_type": "code",
   "execution_count": null,
   "metadata": {
    "colab": {},
    "colab_type": "code",
    "id": "YjtKvOF-a2Kg"
   },
   "outputs": [],
   "source": [
    "# Establishing ranges of hyperparameters of RandomForestClassifier for GridSearchCV.\n",
    "\n",
    "rfc_params = {'n_estimators' : [50, 100, 200],\n",
    "              'max_depth' : [5, 7, 9],\n",
    "              # 'ccp_alpha' : [0, 0.001, 0.01, 0.1, 1, 10],\n",
    "              # 'min_samples_split' : [2, 5, 10, 15, 20],\n",
    "              # 'min_samples_leaf' : [2, 3, 4, 5, 6]\n",
    "             }"
   ]
  },
  {
   "cell_type": "code",
   "execution_count": null,
   "metadata": {
    "colab": {},
    "colab_type": "code",
    "id": "53hQAD7_cN9j"
   },
   "outputs": [],
   "source": [
    "# Creating a GridSearchCV object for the RandomForestClassifier object defined above.\n",
    "\n",
    "rfc_gs = GridSearchCV(rfc, param_grid=rfc_params, n_jobs=-1, cv=5)"
   ]
  },
  {
   "cell_type": "code",
   "execution_count": null,
   "metadata": {
    "colab": {
     "base_uri": "https://localhost:8080/",
     "height": 357
    },
    "colab_type": "code",
    "executionInfo": {
     "elapsed": 417867,
     "status": "ok",
     "timestamp": 1592680978181,
     "user": {
      "displayName": "Prerak Agarwal",
      "photoUrl": "",
      "userId": "01206615471624868818"
     },
     "user_tz": -480
    },
    "id": "_QVC2fdLXb5K",
    "outputId": "7920b97a-7c09-45dc-b0e9-f540c9f37f2a"
   },
   "outputs": [],
   "source": [
    "# Fitting X_train_sc and y_train on GridSearchCV object with RandomForestClassifier defined above.\n",
    "\n",
    "rfc_gs.fit(X_train_sc, y_train)"
   ]
  },
  {
   "cell_type": "code",
   "execution_count": null,
   "metadata": {
    "colab": {
     "base_uri": "https://localhost:8080/",
     "height": 34
    },
    "colab_type": "code",
    "executionInfo": {
     "elapsed": 416465,
     "status": "ok",
     "timestamp": 1592680978188,
     "user": {
      "displayName": "Prerak Agarwal",
      "photoUrl": "",
      "userId": "01206615471624868818"
     },
     "user_tz": -480
    },
    "id": "3cm_jceDdA6Q",
    "outputId": "b9076712-dba7-41c4-f827-ce22fe5f3e51"
   },
   "outputs": [],
   "source": [
    "# Best combination of hyperparameters suggested by GridSearchCV.\n",
    "\n",
    "rfc_gs.best_params_"
   ]
  },
  {
   "cell_type": "code",
   "execution_count": null,
   "metadata": {
    "colab": {
     "base_uri": "https://localhost:8080/",
     "height": 34
    },
    "colab_type": "code",
    "executionInfo": {
     "elapsed": 1303,
     "status": "ok",
     "timestamp": 1592681015119,
     "user": {
      "displayName": "Prerak Agarwal",
      "photoUrl": "",
      "userId": "01206615471624868818"
     },
     "user_tz": -480
    },
    "id": "XhK2Nsua7XAf",
    "outputId": "e7e8e27a-7d89-4d1d-95f6-4ef6b432fd46"
   },
   "outputs": [],
   "source": [
    "# Best accuracy score obtained by the above combination of hyperparameters.\n",
    "\n",
    "rfc_gs.best_score_"
   ]
  },
  {
   "cell_type": "code",
   "execution_count": null,
   "metadata": {
    "colab": {
     "base_uri": "https://localhost:8080/",
     "height": 34
    },
    "colab_type": "code",
    "executionInfo": {
     "elapsed": 1984,
     "status": "ok",
     "timestamp": 1592681022210,
     "user": {
      "displayName": "Prerak Agarwal",
      "photoUrl": "",
      "userId": "01206615471624868818"
     },
     "user_tz": -480
    },
    "id": "_PS9U7AbXbt4",
    "outputId": "a6cc31db-c1bd-421b-f82f-3c804074e690"
   },
   "outputs": [],
   "source": [
    "# Scoring the model on training dataset.\n",
    "# Training Accuracy\n",
    "\n",
    "rfc_train_acc = rfc_gs.score(X_train_sc, y_train)\n",
    "rfc_train_acc"
   ]
  },
  {
   "cell_type": "code",
   "execution_count": null,
   "metadata": {
    "colab": {},
    "colab_type": "code",
    "id": "pJgeCilJXbjj"
   },
   "outputs": [],
   "source": [
    "# Estimated Testing Accuracy\n",
    "\n",
    "# rfc_est_test_acc = cross_val_score(rfc_gs, X_train_sc, y_train, cv=5).mean()\n",
    "# rfc_est_test_acc"
   ]
  },
  {
   "cell_type": "code",
   "execution_count": null,
   "metadata": {
    "colab": {
     "base_uri": "https://localhost:8080/",
     "height": 34
    },
    "colab_type": "code",
    "executionInfo": {
     "elapsed": 1556,
     "status": "ok",
     "timestamp": 1592681027039,
     "user": {
      "displayName": "Prerak Agarwal",
      "photoUrl": "",
      "userId": "01206615471624868818"
     },
     "user_tz": -480
    },
    "id": "sgqlqgUjXbZ2",
    "outputId": "7c9d96ae-37c6-46b7-a644-bd47dffc95ac"
   },
   "outputs": [],
   "source": [
    "# Actual Testing Accuracy\n",
    "\n",
    "rfc_test_acc = rfc_gs.score(X_test_sc, y_test)\n",
    "rfc_test_acc"
   ]
  },
  {
   "cell_type": "code",
   "execution_count": null,
   "metadata": {
    "colab": {
     "base_uri": "https://localhost:8080/",
     "height": 119
    },
    "colab_type": "code",
    "executionInfo": {
     "elapsed": 1012,
     "status": "ok",
     "timestamp": 1592681034365,
     "user": {
      "displayName": "Prerak Agarwal",
      "photoUrl": "",
      "userId": "01206615471624868818"
     },
     "user_tz": -480
    },
    "id": "hMM6x4xjdD03",
    "outputId": "3aa2273d-bc47-47ca-8b43-fef5b92cc707"
   },
   "outputs": [],
   "source": [
    "# Summary scores from GridSearchCV with RandomForestClassifier.\n",
    "\n",
    "print(\"RandomForestClassifier summary of accuracy scores:\")\n",
    "print(f\"GridSearchCV best accuracy (cv=5) = {round(rfc_gs.best_score_, 3)}\")\n",
    "print(\"\\nUsing GridSearchCV best params suggested,\")\n",
    "print(f\"Training accuracy = {round(rfc_train_acc, 3)}\")\n",
    "# print(f\"Est. Test accuracy (cv=5) = {round(rfc_est_test_acc , 3)}\")\n",
    "print(f\"Testing accuracy = {round(rfc_test_acc, 3)}\")"
   ]
  },
  {
   "cell_type": "code",
   "execution_count": null,
   "metadata": {
    "colab": {},
    "colab_type": "code",
    "id": "LZl8e_uqXD07"
   },
   "outputs": [],
   "source": [
    "# Generating predictions on testing dataset using the model above.\n",
    "\n",
    "rfc_pred = rfc_gs.predict(X_test_sc)"
   ]
  },
  {
   "cell_type": "code",
   "execution_count": null,
   "metadata": {
    "colab": {
     "base_uri": "https://localhost:8080/",
     "height": 34
    },
    "colab_type": "code",
    "executionInfo": {
     "elapsed": 1394,
     "status": "ok",
     "timestamp": 1592681041887,
     "user": {
      "displayName": "Prerak Agarwal",
      "photoUrl": "",
      "userId": "01206615471624868818"
     },
     "user_tz": -480
    },
    "id": "sJX6bMeAAMiR",
    "outputId": "227d2be2-0009-4911-bbc0-968e0aad9c3c"
   },
   "outputs": [],
   "source": [
    "len(rfc_pred)"
   ]
  },
  {
   "cell_type": "code",
   "execution_count": null,
   "metadata": {
    "colab": {
     "base_uri": "https://localhost:8080/",
     "height": 34
    },
    "colab_type": "code",
    "executionInfo": {
     "elapsed": 1047,
     "status": "ok",
     "timestamp": 1592681042484,
     "user": {
      "displayName": "Prerak Agarwal",
      "photoUrl": "",
      "userId": "01206615471624868818"
     },
     "user_tz": -480
    },
    "id": "kncpN4qcAMcJ",
    "outputId": "02dd2df2-0902-4c56-de9d-5ed88c395366"
   },
   "outputs": [],
   "source": [
    "len(y_test)"
   ]
  },
  {
   "cell_type": "code",
   "execution_count": null,
   "metadata": {
    "colab": {
     "base_uri": "https://localhost:8080/",
     "height": 204
    },
    "colab_type": "code",
    "executionInfo": {
     "elapsed": 923,
     "status": "ok",
     "timestamp": 1592681043913,
     "user": {
      "displayName": "Prerak Agarwal",
      "photoUrl": "",
      "userId": "01206615471624868818"
     },
     "user_tz": -480
    },
    "id": "r6Ts2MXVAMXc",
    "outputId": "1393ee25-e8d1-48ee-dd1f-13ec2370faea"
   },
   "outputs": [],
   "source": [
    "# Generating a confusion matrix based on above predictions.\n",
    "\n",
    "conf_mat_rfc = confusion_matrix(y_test, rfc_pred)\n",
    "conf_mat_rfc"
   ]
  },
  {
   "cell_type": "code",
   "execution_count": null,
   "metadata": {
    "colab": {},
    "colab_type": "code",
    "id": "-HKiyywLAMTd"
   },
   "outputs": [],
   "source": [
    "# Defining a function to plot the confusion matrix in a grid for easier visualization.\n",
    "\n",
    "def plot_confusion_matrix(cm, classes, normalize=False, title='Confusion Matrix', export_as='confusion_matrix', cmap=plt.cm.Blues):\n",
    "    \"\"\"\n",
    "    This function prints and plots the confusion matrix.\n",
    "    Normalization can be applied by setting `normalize=True`.\n",
    "    \"\"\"\n",
    "    if normalize:\n",
    "        cm = cm.astype('float') / cm.sum(axis=1)[:, np.newaxis]\n",
    "        print(\"Normalized confusion matrix\")\n",
    "    else:\n",
    "        print('Confusion matrix, without normalization')\n",
    "\n",
    "    # print(cm)\n",
    "\n",
    "    plt.imshow(cm, interpolation='nearest', cmap=cmap)\n",
    "    plt.title(title, fontsize=16)\n",
    "    plt.colorbar()\n",
    "    tick_marks = np.arange(len(classes))\n",
    "    plt.xticks(tick_marks, classes, rotation=45)\n",
    "    plt.yticks(tick_marks, classes)\n",
    "\n",
    "    fmt = '.2f' if normalize else 'd'\n",
    "    thresh = cm.max() / 2.\n",
    "    for i, j in itertools.product(range(cm.shape[0]), range(cm.shape[1])):\n",
    "        plt.text(j, i, format(cm[i, j], fmt), horizontalalignment=\"center\", color=\"white\" if cm[i, j] > thresh else \"black\")\n",
    "\n",
    "    plt.tight_layout()\n",
    "    plt.ylabel('True labels', fontsize=14)\n",
    "    plt.xlabel('Predicted labels', fontsize=14)\n",
    "\n",
    "    # Exporting plot image in PNG format.\n",
    "    plt.savefig(child_dir + r'/plot_images/{export_as}.png', bbox_inches='tight');"
   ]
  },
  {
   "cell_type": "code",
   "execution_count": null,
   "metadata": {
    "colab": {
     "base_uri": "https://localhost:8080/",
     "height": 620
    },
    "colab_type": "code",
    "executionInfo": {
     "elapsed": 1267538,
     "status": "ok",
     "timestamp": 1592732040130,
     "user": {
      "displayName": "Prerak Agarwal",
      "photoUrl": "",
      "userId": "01206615471624868818"
     },
     "user_tz": -480
    },
    "id": "UaFs_wbSAMNg",
    "outputId": "28996c31-7b73-48ab-dc78-784d4b7dc0a1"
   },
   "outputs": [],
   "source": [
    "# Plotting the NORMALIZED confusion matrix using the function defined above.\n",
    "\n",
    "cm_plot_labels = combined_classes['Age-ranges (classes)']\n",
    "\n",
    "plt.figure(figsize=(16,8))\n",
    "plot_confusion_matrix(conf_mat_rfc, cm_plot_labels, normalize=True,\n",
    "                      title=\"Confusion Matrix based on predictions from\\nRandomForestClassifier model using Canny Edge features\",\n",
    "                      export_as=\"rfc_canny_conf_mat_norm\"\n",
    "                     )\n",
    "\n",
    "plt.show()"
   ]
  },
  {
   "cell_type": "code",
   "execution_count": null,
   "metadata": {
    "colab": {
     "base_uri": "https://localhost:8080/",
     "height": 620
    },
    "colab_type": "code",
    "executionInfo": {
     "elapsed": 1269100,
     "status": "ok",
     "timestamp": 1592732041875,
     "user": {
      "displayName": "Prerak Agarwal",
      "photoUrl": "",
      "userId": "01206615471624868818"
     },
     "user_tz": -480
    },
    "id": "e0VffwdiAMK_",
    "outputId": "37ddef16-2808-43f3-bc12-a1bede341050"
   },
   "outputs": [],
   "source": [
    "# Plotting the confusion matrix using the function defined above.\n",
    "\n",
    "cm_plot_labels = combined_classes['Age-ranges (classes)']\n",
    "\n",
    "plt.figure(figsize=(16,8))\n",
    "plot_confusion_matrix(conf_mat_rfc, cm_plot_labels, normalize=False,\n",
    "                      title=\"Confusion Matrix based on predictions from\\nRandomForestClassifier model using Canny Edge features\",\n",
    "                      export_as=\"rfc_canny_conf_mat\"\n",
    "                     )\n",
    "\n",
    "plt.show()"
   ]
  },
  {
   "cell_type": "markdown",
   "metadata": {
    "colab_type": "text",
    "id": "aZibaNyUd3Wd"
   },
   "source": [
    "The ***RandomForestClassifier* model** above, with a training accuracy of 66.8% and a testing accuracy of 39.8%, clearly shows that it is **over-fitting and not generalizing well on unseen testing data**.\n",
    "\n",
    "The **normalized confusion matrix** above also show this clearly — even though the accuracy values are somewhat high for the younger age-ranges (of 1–2, 3–9, 10–20 and 21–25) and for the older age ranges (of 66–116), there is a **presence of significant misclassification for the middle age-ranges of 26–65**."
   ]
  },
  {
   "cell_type": "code",
   "execution_count": null,
   "metadata": {
    "colab": {},
    "colab_type": "code",
    "id": "kanUFUGCfeHn"
   },
   "outputs": [],
   "source": [
    "# Saving the RandomForestClassifier model from above in a pickle file for possible use later.\n",
    "\n",
    "rfc_pickle = child_dir + r\"/input_output/rfc_canny_model_acc_{round(rfc_test_acc, 3)}\"\n",
    "pickle.dump(rfc_gs, open(rfc_pickle, 'wb'))"
   ]
  },
  {
   "cell_type": "markdown",
   "metadata": {
    "colab_type": "text",
    "id": "JRbZxe-pMz3X"
   },
   "source": [
    "### *GridSearchCV* with *SVC*"
   ]
  },
  {
   "cell_type": "code",
   "execution_count": null,
   "metadata": {
    "colab": {},
    "colab_type": "code",
    "id": "Ugy32vM-Iepr"
   },
   "outputs": [],
   "source": [
    "# Creating a SVC object.\n",
    "\n",
    "svc = SVC(# class_weight='balanced',\n",
    "          # C=1.0,\n",
    "          # kernel='rbf',\n",
    "          # degree=3,\n",
    "          random_state=42\n",
    "         )"
   ]
  },
  {
   "cell_type": "code",
   "execution_count": null,
   "metadata": {
    "colab": {},
    "colab_type": "code",
    "id": "RBp-KF7qIepy"
   },
   "outputs": [],
   "source": [
    "# Establishing ranges of hyperparameters of SVC for GridSearchCV.\n",
    "\n",
    "svc_params = {'C' : [0.001, 1],\n",
    "              'kernel' : ['rbf', 'poly', 'linear'],\n",
    "              'degree' : [3, 5]\n",
    "             }"
   ]
  },
  {
   "cell_type": "code",
   "execution_count": null,
   "metadata": {
    "colab": {},
    "colab_type": "code",
    "id": "Ma8cs63NIep3"
   },
   "outputs": [],
   "source": [
    "# Creating a GridSearchCV object for the SVC object defined above.\n",
    "\n",
    "svc_gs = GridSearchCV(svc, param_grid=svc_params, n_jobs=-1, cv=5)"
   ]
  },
  {
   "cell_type": "code",
   "execution_count": null,
   "metadata": {
    "colab": {
     "base_uri": "https://localhost:8080/",
     "height": 221
    },
    "colab_type": "code",
    "executionInfo": {
     "elapsed": 49447770,
     "status": "ok",
     "timestamp": 1592730765140,
     "user": {
      "displayName": "Prerak Agarwal",
      "photoUrl": "",
      "userId": "01206615471624868818"
     },
     "user_tz": -480
    },
    "id": "r0GGmqkIIep6",
    "outputId": "2d9e0738-6fe9-425f-a70e-9d25ce986079"
   },
   "outputs": [],
   "source": [
    "# Fitting X_train_sc and y_train on GridSearchCV object with SVC defined above.\n",
    "\n",
    "svc_gs.fit(X_train_sc, y_train)"
   ]
  },
  {
   "cell_type": "code",
   "execution_count": null,
   "metadata": {
    "colab": {
     "base_uri": "https://localhost:8080/",
     "height": 34
    },
    "colab_type": "code",
    "executionInfo": {
     "elapsed": 2278,
     "status": "ok",
     "timestamp": 1592730773367,
     "user": {
      "displayName": "Prerak Agarwal",
      "photoUrl": "",
      "userId": "01206615471624868818"
     },
     "user_tz": -480
    },
    "id": "3mOHtKFAIep_",
    "outputId": "696d0d20-ad3f-47b7-dc7b-43254c401efd"
   },
   "outputs": [],
   "source": [
    "# Best combination of hyperparameters suggested by GridSearchCV.\n",
    "\n",
    "svc_gs.best_params_"
   ]
  },
  {
   "cell_type": "code",
   "execution_count": null,
   "metadata": {
    "colab": {
     "base_uri": "https://localhost:8080/",
     "height": 34
    },
    "colab_type": "code",
    "executionInfo": {
     "elapsed": 2325,
     "status": "ok",
     "timestamp": 1592730773707,
     "user": {
      "displayName": "Prerak Agarwal",
      "photoUrl": "",
      "userId": "01206615471624868818"
     },
     "user_tz": -480
    },
    "id": "_a3b5sMSIeqE",
    "outputId": "8a0ae6a1-ef9b-4a17-8712-5cb2c4c3a6bb"
   },
   "outputs": [],
   "source": [
    "# Best accuracy score obtained by the above combination of hyperparameters.\n",
    "\n",
    "svc_gs.best_score_"
   ]
  },
  {
   "cell_type": "code",
   "execution_count": null,
   "metadata": {
    "colab": {
     "base_uri": "https://localhost:8080/",
     "height": 34
    },
    "colab_type": "code",
    "executionInfo": {
     "elapsed": 681214,
     "status": "ok",
     "timestamp": 1592731452720,
     "user": {
      "displayName": "Prerak Agarwal",
      "photoUrl": "",
      "userId": "01206615471624868818"
     },
     "user_tz": -480
    },
    "id": "79pHqV1sIeqH",
    "outputId": "4825a8f2-22b2-42c0-a82f-177d4c98ef53"
   },
   "outputs": [],
   "source": [
    "# Scoring the model on training dataset.\n",
    "# Training Accuracy\n",
    "\n",
    "svc_train_acc = svc_gs.score(X_train_sc, y_train)\n",
    "svc_train_acc"
   ]
  },
  {
   "cell_type": "code",
   "execution_count": null,
   "metadata": {
    "colab": {},
    "colab_type": "code",
    "id": "p3ARfNIHIeqM"
   },
   "outputs": [],
   "source": [
    "# Estimated Testing Accuracy\n",
    "\n",
    "# svc_est_test_acc = cross_val_score(svc_gs, X_train_sc, y_train, cv=5).mean()\n",
    "# svc_est_test_acc"
   ]
  },
  {
   "cell_type": "code",
   "execution_count": null,
   "metadata": {
    "colab": {
     "base_uri": "https://localhost:8080/",
     "height": 34
    },
    "colab_type": "code",
    "executionInfo": {
     "elapsed": 971653,
     "status": "ok",
     "timestamp": 1592731743240,
     "user": {
      "displayName": "Prerak Agarwal",
      "photoUrl": "",
      "userId": "01206615471624868818"
     },
     "user_tz": -480
    },
    "id": "jerm3xXVIeqT",
    "outputId": "7488fc09-d520-4faf-a9a1-60a948b545ff"
   },
   "outputs": [],
   "source": [
    "# Actual Testing Accuracy\n",
    "\n",
    "svc_test_acc = svc_gs.score(X_test_sc, y_test)\n",
    "svc_test_acc"
   ]
  },
  {
   "cell_type": "code",
   "execution_count": null,
   "metadata": {
    "colab": {
     "base_uri": "https://localhost:8080/",
     "height": 119
    },
    "colab_type": "code",
    "executionInfo": {
     "elapsed": 971582,
     "status": "ok",
     "timestamp": 1592731743244,
     "user": {
      "displayName": "Prerak Agarwal",
      "photoUrl": "",
      "userId": "01206615471624868818"
     },
     "user_tz": -480
    },
    "id": "WJ5cRmSXIeqY",
    "outputId": "79debcf2-9948-43c9-893a-4ea1e3f3a53f"
   },
   "outputs": [],
   "source": [
    "# Summary scores from GridSearchCV with SVC.\n",
    "\n",
    "print(\"SVC summary of accuracy scores:\")\n",
    "print(f\"GridSearchCV best accuracy = {round(svc_gs.best_score_, 3)}\")\n",
    "print(\"\\nUsing GridSearchCV best params suggested,\")\n",
    "print(f\"Training accuracy = {round(svc_train_acc, 3)}\")\n",
    "# print(f\"Est. Test accuracy (cv=5) = {round(svc_est_test_acc , 3)}\")\n",
    "print(f\"Testing accuracy = {round(svc_test_acc, 3)}\")"
   ]
  },
  {
   "cell_type": "code",
   "execution_count": null,
   "metadata": {
    "colab": {},
    "colab_type": "code",
    "id": "CLOvdsivIeqd"
   },
   "outputs": [],
   "source": [
    "# Generating predictions on testing dataset using the model above.\n",
    "\n",
    "svc_pred = svc_gs.predict(X_test_sc)"
   ]
  },
  {
   "cell_type": "code",
   "execution_count": null,
   "metadata": {
    "colab": {
     "base_uri": "https://localhost:8080/",
     "height": 34
    },
    "colab_type": "code",
    "executionInfo": {
     "elapsed": 1262935,
     "status": "ok",
     "timestamp": 1592732034897,
     "user": {
      "displayName": "Prerak Agarwal",
      "photoUrl": "",
      "userId": "01206615471624868818"
     },
     "user_tz": -480
    },
    "id": "wtC766v1Ieqg",
    "outputId": "5ca0db15-4906-4d76-90a4-b645b78e70cf"
   },
   "outputs": [],
   "source": [
    "len(svc_pred)"
   ]
  },
  {
   "cell_type": "code",
   "execution_count": null,
   "metadata": {
    "colab": {
     "base_uri": "https://localhost:8080/",
     "height": 34
    },
    "colab_type": "code",
    "executionInfo": {
     "elapsed": 1262626,
     "status": "ok",
     "timestamp": 1592732034903,
     "user": {
      "displayName": "Prerak Agarwal",
      "photoUrl": "",
      "userId": "01206615471624868818"
     },
     "user_tz": -480
    },
    "id": "LwlT4yZlIeql",
    "outputId": "5530c4c9-5a29-4b95-9ae3-73cf126c36ca"
   },
   "outputs": [],
   "source": [
    "len(y_test)"
   ]
  },
  {
   "cell_type": "code",
   "execution_count": null,
   "metadata": {
    "colab": {
     "base_uri": "https://localhost:8080/",
     "height": 204
    },
    "colab_type": "code",
    "executionInfo": {
     "elapsed": 1262526,
     "status": "ok",
     "timestamp": 1592732034905,
     "user": {
      "displayName": "Prerak Agarwal",
      "photoUrl": "",
      "userId": "01206615471624868818"
     },
     "user_tz": -480
    },
    "id": "lLC1lT4JIeqp",
    "outputId": "c68c2f3b-12db-498c-ce02-72d29d12be11"
   },
   "outputs": [],
   "source": [
    "# Generating a confusion matrix based on above predictions.\n",
    "\n",
    "conf_mat_svc = confusion_matrix(y_test, svc_pred)\n",
    "conf_mat_svc"
   ]
  },
  {
   "cell_type": "code",
   "execution_count": null,
   "metadata": {
    "colab": {
     "base_uri": "https://localhost:8080/",
     "height": 620
    },
    "colab_type": "code",
    "executionInfo": {
     "elapsed": 1264305,
     "status": "ok",
     "timestamp": 1592732036779,
     "user": {
      "displayName": "Prerak Agarwal",
      "photoUrl": "",
      "userId": "01206615471624868818"
     },
     "user_tz": -480
    },
    "id": "TXVRkxYGIeqx",
    "outputId": "085f1099-d82a-4564-eff8-7baf3690522f"
   },
   "outputs": [],
   "source": [
    "# Plotting the NORMALIZED confusion matrix using the function defined above.\n",
    "\n",
    "cm_plot_labels = combined_classes['Age-ranges (classes)']\n",
    "\n",
    "plt.figure(figsize=(16,8))\n",
    "plot_confusion_matrix(conf_mat_svc, cm_plot_labels, normalize=True,\n",
    "                      title=\"Confusion Matrix based on predictions from\\nSVC model using Canny Edge features\",\n",
    "                      export_as=\"svc_canny_conf_mat_norm\"\n",
    "                     )\n",
    "\n",
    "plt.show()"
   ]
  },
  {
   "cell_type": "code",
   "execution_count": null,
   "metadata": {
    "colab": {
     "base_uri": "https://localhost:8080/",
     "height": 620
    },
    "colab_type": "code",
    "executionInfo": {
     "elapsed": 1265894,
     "status": "ok",
     "timestamp": 1592732038420,
     "user": {
      "displayName": "Prerak Agarwal",
      "photoUrl": "",
      "userId": "01206615471624868818"
     },
     "user_tz": -480
    },
    "id": "V4aDr8s1Ieq0",
    "outputId": "6c67bbb5-cd00-4fb0-94ef-f5590a030623"
   },
   "outputs": [],
   "source": [
    "# Plotting the confusion matrix using the function defined above.\n",
    "\n",
    "cm_plot_labels = combined_classes['Age-ranges (classes)']\n",
    "\n",
    "plt.figure(figsize=(16,8))\n",
    "plot_confusion_matrix(conf_mat_svc, cm_plot_labels, normalize=False,\n",
    "                      title=\"Confusion Matrix based on predictions from\\nSVC model using Canny Edge features\",\n",
    "                      export_as=\"svc_canny_conf_mat\"\n",
    "                     )\n",
    "\n",
    "plt.show()"
   ]
  },
  {
   "cell_type": "markdown",
   "metadata": {
    "colab_type": "text",
    "id": "l-6yEvYtftzl"
   },
   "source": [
    "As with the *RandomForestClassifier* model above, the ***SVC* model**, with a training accuracy of 92.9% and a testing accuracy of 53.4%, also shows that it is **over-fitting and not generalizing well on unseen testing data**. Even though the training and testing accuracies are better with *SVC* than with *RandomForestClassifier*, the **degree of over-fit is significantly worse than *RandomForestClassifier***.\n",
    "\n",
    "The **normalized confusion matrix** above also show the same trend — even though the accuracy values are somewhat high for the younger age-ranges (of 1–2, 3–9, 10–20 and 21–25) and for the older age ranges (of 66–116), there is a **presence of significant misclassification for the middle age-ranges of 26–65**."
   ]
  },
  {
   "cell_type": "code",
   "execution_count": null,
   "metadata": {
    "colab": {},
    "colab_type": "code",
    "id": "xFpFMjikYc9v"
   },
   "outputs": [],
   "source": [
    "# Saving the SVC model from above in a pickle file for possible use later.\n",
    "\n",
    "svc_pickle = child_dir + r\"/input_output/svc_canny_model_acc_{round(svc_test_acc, 3)}\"\n",
    "pickle.dump(svc_gs, open(svc_pickle, 'wb'))"
   ]
  },
  {
   "cell_type": "markdown",
   "metadata": {
    "colab_type": "text",
    "id": "0VWd3NJVg9T5"
   },
   "source": [
    "## Traditional ML: Summary and Limitations"
   ]
  },
  {
   "cell_type": "markdown",
   "metadata": {
    "colab_type": "text",
    "id": "4iV6GOFJhpb2"
   },
   "source": [
    "![summary_table_traditional_ml.png](https://drive.google.com/uc?export=view&id=1kc7idDm-1QmSTfdmk592NpMXWPU8moGu)\n",
    "\n",
    "As is clear from the above summary of scores, **modelling using the traditional machine learning methodology may not be the best way to approach this problem**. I will now try modelling with deep learning and see if it provides a better result.\n",
    "\n",
    "There are, of course, a multitude of methods that could still be utilized to improve the above accuracy scores and reduce the degree of over-fit in the models. For instance, better differentiating features could be extracted from the images using some other more complicated techniques, or other classifiers could be utilized to see whether they perform better in this case."
   ]
  }
 ],
 "metadata": {
  "colab": {
   "authorship_tag": "ABX9TyPJeBvb34DTIDgIheddO20v",
   "collapsed_sections": [],
   "name": "3_ML_classification_modelling.ipynb",
   "provenance": [],
   "toc_visible": true
  },
  "kernelspec": {
   "display_name": "Python (age_detection)",
   "language": "python",
   "name": "age_detection"
  },
  "language_info": {
   "codemirror_mode": {
    "name": "ipython",
    "version": 3
   },
   "file_extension": ".py",
   "mimetype": "text/x-python",
   "name": "python",
   "nbconvert_exporter": "python",
   "pygments_lexer": "ipython3",
   "version": "3.8.8"
  }
 },
 "nbformat": 4,
 "nbformat_minor": 1
}
