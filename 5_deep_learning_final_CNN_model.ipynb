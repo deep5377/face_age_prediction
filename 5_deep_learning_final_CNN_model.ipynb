{
 "cells": [
  {
   "cell_type": "code",
   "execution_count": 1,
   "metadata": {
    "colab": {},
    "colab_type": "code",
    "id": "_kTFrNNPU7wP"
   },
   "outputs": [],
   "source": [
    "# Imports\n",
    "# Please refer to requirements.txt for a full list of all libraries and their versions used in this project.\n",
    "\n",
    "import pandas as pd\n",
    "import numpy as np\n",
    "import matplotlib.pyplot as plt\n",
    "\n",
    "import cv2\n",
    "import os\n",
    "from zipfile import ZipFile\n",
    "import time\n",
    "from datetime import datetime\n",
    "import itertools\n",
    "\n",
    "from sklearn.model_selection import train_test_split\n",
    "from sklearn.metrics import confusion_matrix\n",
    "\n",
    "import tensorflow as tf\n",
    "from tensorflow.keras.models import Sequential\n",
    "from tensorflow.keras.layers import Dense\n",
    "from tensorflow.keras.layers import Conv2D, AveragePooling2D, GlobalAveragePooling2D\n",
    "from tensorflow.keras import utils\n",
    "from tensorflow.keras.callbacks import TensorBoard, ModelCheckpoint\n",
    "\n",
    "# Setting random seeds to reduce the amount of randomness in the neural net weights and results.\n",
    "# The results may still not be exactly reproducible.\n",
    "np.random.seed(42)\n",
    "tf.random.set_seed(42)"
   ]
  },
  {
   "cell_type": "code",
   "execution_count": 2,
   "metadata": {},
   "outputs": [
    {
     "name": "stdout",
     "output_type": "stream",
     "text": [
      "D:\\Code\\deep-age-detec\\Age_Classification_with_Faces\\code\n"
     ]
    }
   ],
   "source": [
    "ROOT_DIR = os.getcwd()\n",
    "child_dir = os.path.abspath(os.path.join(os.getcwd(), \"..\"))\n",
    "\n",
    "print(ROOT_DIR)"
   ]
  },
  {
   "cell_type": "code",
   "execution_count": 3,
   "metadata": {
    "colab": {
     "base_uri": "https://localhost:8080/",
     "height": 34
    },
    "colab_type": "code",
    "executionInfo": {
     "elapsed": 1119,
     "status": "ok",
     "timestamp": 1592659359459,
     "user": {
      "displayName": "Prerak Agarwal",
      "photoUrl": "",
      "userId": "01206615471624868818"
     },
     "user_tz": -480
    },
    "id": "FXc8h48VtsX6",
    "outputId": "9bcbdd27-5843-462f-ee61-6aee82da458d"
   },
   "outputs": [
    {
     "data": {
      "text/plain": [
       "'2.5.0'"
      ]
     },
     "execution_count": 3,
     "metadata": {},
     "output_type": "execute_result"
    }
   ],
   "source": [
    "# Checking the installed version of TensorFlow.\n",
    "# The code in this notebook was written using TensorFlow version 2.2.0.\n",
    "\n",
    "tf.__version__"
   ]
  },
  {
   "cell_type": "code",
   "execution_count": null,
   "metadata": {},
   "outputs": [],
   "source": []
  },
  {
   "cell_type": "markdown",
   "metadata": {
    "colab_type": "text",
    "id": "uAuTEWUiOgUF"
   },
   "source": [
    "**Ensure that the Runtime Type for this notebook is set to GPU**.\n",
    "\n",
    "Run the code below to check for GPU. If a GPU device is not found, change the runtime type under *Runtime* &#10141; *Change runtime type* &#10141; *Hardware accelerator* &#10141; *GPU* and run the notebook from the beginning again."
   ]
  },
  {
   "cell_type": "code",
   "execution_count": 4,
   "metadata": {
    "colab": {
     "base_uri": "https://localhost:8080/",
     "height": 34
    },
    "colab_type": "code",
    "executionInfo": {
     "elapsed": 8908,
     "status": "ok",
     "timestamp": 1592789133655,
     "user": {
      "displayName": "Prerak Agarwal",
      "photoUrl": "",
      "userId": "01206615471624868818"
     },
     "user_tz": -480
    },
    "id": "ggkatHAQU75X",
    "outputId": "acce52b9-c1c5-4748-9df2-d1b10deba1cd"
   },
   "outputs": [
    {
     "name": "stdout",
     "output_type": "stream",
     "text": [
      "Found GPU at: /device:GPU:0\n"
     ]
    }
   ],
   "source": [
    "# Testing to ensure GPU is being utilized.\n",
    "\n",
    "device_name = tf.test.gpu_device_name()\n",
    "if device_name != '/device:GPU:0':\n",
    "    raise SystemError('GPU device not found')\n",
    "print('Found GPU at: {}'.format(device_name))"
   ]
  },
  {
   "cell_type": "markdown",
   "metadata": {
    "colab_type": "text",
    "id": "jmgbfqAKOsxR"
   },
   "source": [
    "## Deep Learning: Building Final CNN Model"
   ]
  },
  {
   "cell_type": "markdown",
   "metadata": {
    "colab_type": "text",
    "id": "RxEzjKuOPr5n"
   },
   "source": [
    "Below is the **summary of all the CNN models built so far** (in previous notebook ***4_deep_learning_CNN_modelling.ipynb***).\n",
    "\n",
    "![summary_table.png](https://drive.google.com/uc?export=view&id=1D6iYAbVaQFDo2ek4Bsj00BjxwviHZvlw)\n",
    "\n",
    "After understanding the effects of all the improvement and optimization techniques on the CNN model performance, **the final CNN model can now be defined and trained**:\n",
    "1. with **grayscale images** instead of RGB coloured images.\n",
    "2. with **augmented training dataset (234,400 images)** instead of original training dataset (23,440 images).\n",
    "3. for **60 epochs**.\n",
    "4. for **re-distributed classes of age-ranges**.\n",
    "5. with an **optimized architecture**, comprising of:\n",
    "- an input *Conv2D* layer (with 32 filters) paired with an *AveragePooling2D* layer,\n",
    "- 3 pairs of *Conv2D* (with 64, 128 & 256 filters) and *AveragePooling2D* layers,\n",
    "- a *GlobalAveragePooling2D* layer,\n",
    "- 1 *Dense* layer with 132 nodes, and\n",
    "- an output *Dense* layer with 7 nodes."
   ]
  },
  {
   "cell_type": "code",
   "execution_count": 5,
   "metadata": {
    "colab": {
     "base_uri": "https://localhost:8080/",
     "height": 34
    },
    "colab_type": "code",
    "executionInfo": {
     "elapsed": 11766,
     "status": "ok",
     "timestamp": 1592789148895,
     "user": {
      "displayName": "Prerak Agarwal",
      "photoUrl": "",
      "userId": "01206615471624868818"
     },
     "user_tz": -480
    },
    "id": "tCN57I6AU7_g",
    "outputId": "137c5a78-d2ed-4550-c414-2e5eb4d1691a"
   },
   "outputs": [
    {
     "name": "stdout",
     "output_type": "stream",
     "text": [
      "Done unzipping combined_faces.zip\n"
     ]
    }
   ],
   "source": [
    "# Unzipping the dataset file combined_faces.zip\n",
    "\n",
    "combined_faces_zip_path = ROOT_DIR + r\"/ZIPPED_DATASETS/combined_faces.zip\"\n",
    "\n",
    "with ZipFile(combined_faces_zip_path, 'r') as myzip:\n",
    "    myzip.extractall()\n",
    "    print('Done unzipping combined_faces.zip')"
   ]
  },
  {
   "cell_type": "code",
   "execution_count": 6,
   "metadata": {
    "colab": {
     "base_uri": "https://localhost:8080/",
     "height": 34
    },
    "colab_type": "code",
    "executionInfo": {
     "elapsed": 271890,
     "status": "ok",
     "timestamp": 1592789432659,
     "user": {
      "displayName": "Prerak Agarwal",
      "photoUrl": "",
      "userId": "01206615471624868818"
     },
     "user_tz": -480
    },
    "id": "q61d9-wxU8Ea",
    "outputId": "7bb00b65-52d0-4280-ccf7-7ab1b7cf53f5"
   },
   "outputs": [
    {
     "ename": "FileNotFoundError",
     "evalue": "[Errno 2] No such file or directory: 'D:\\\\Code\\\\deep-age-detec\\\\Age_Classification_with_Faces\\\\code/ZIPPED_DATASETS/combined_faces_train_augmented.zip'",
     "output_type": "error",
     "traceback": [
      "\u001b[1;31m---------------------------------------------------------------------------\u001b[0m",
      "\u001b[1;31mFileNotFoundError\u001b[0m                         Traceback (most recent call last)",
      "\u001b[1;32m<ipython-input-6-55dfeee47446>\u001b[0m in \u001b[0;36m<module>\u001b[1;34m\u001b[0m\n\u001b[0;32m      3\u001b[0m \u001b[0mcombined_faces_zip_path\u001b[0m \u001b[1;33m=\u001b[0m \u001b[0mROOT_DIR\u001b[0m \u001b[1;33m+\u001b[0m \u001b[1;34mr\"/ZIPPED_DATASETS/combined_faces_train_augmented.zip\"\u001b[0m\u001b[1;33m\u001b[0m\u001b[1;33m\u001b[0m\u001b[0m\n\u001b[0;32m      4\u001b[0m \u001b[1;33m\u001b[0m\u001b[0m\n\u001b[1;32m----> 5\u001b[1;33m \u001b[1;32mwith\u001b[0m \u001b[0mZipFile\u001b[0m\u001b[1;33m(\u001b[0m\u001b[0mcombined_faces_zip_path\u001b[0m\u001b[1;33m,\u001b[0m \u001b[1;34m'r'\u001b[0m\u001b[1;33m)\u001b[0m \u001b[1;32mas\u001b[0m \u001b[0mmyzip\u001b[0m\u001b[1;33m:\u001b[0m\u001b[1;33m\u001b[0m\u001b[1;33m\u001b[0m\u001b[0m\n\u001b[0m\u001b[0;32m      6\u001b[0m     \u001b[0mmyzip\u001b[0m\u001b[1;33m.\u001b[0m\u001b[0mextractall\u001b[0m\u001b[1;33m(\u001b[0m\u001b[1;33m)\u001b[0m\u001b[1;33m\u001b[0m\u001b[1;33m\u001b[0m\u001b[0m\n\u001b[0;32m      7\u001b[0m     \u001b[0mprint\u001b[0m\u001b[1;33m(\u001b[0m\u001b[1;34m'Done unzipping combined_faces_train_augmented.zip'\u001b[0m\u001b[1;33m)\u001b[0m\u001b[1;33m\u001b[0m\u001b[1;33m\u001b[0m\u001b[0m\n",
      "\u001b[1;32mC:\\ProgramData\\Anaconda3\\lib\\zipfile.py\u001b[0m in \u001b[0;36m__init__\u001b[1;34m(self, file, mode, compression, allowZip64, compresslevel, strict_timestamps)\u001b[0m\n\u001b[0;32m   1249\u001b[0m             \u001b[1;32mwhile\u001b[0m \u001b[1;32mTrue\u001b[0m\u001b[1;33m:\u001b[0m\u001b[1;33m\u001b[0m\u001b[1;33m\u001b[0m\u001b[0m\n\u001b[0;32m   1250\u001b[0m                 \u001b[1;32mtry\u001b[0m\u001b[1;33m:\u001b[0m\u001b[1;33m\u001b[0m\u001b[1;33m\u001b[0m\u001b[0m\n\u001b[1;32m-> 1251\u001b[1;33m                     \u001b[0mself\u001b[0m\u001b[1;33m.\u001b[0m\u001b[0mfp\u001b[0m \u001b[1;33m=\u001b[0m \u001b[0mio\u001b[0m\u001b[1;33m.\u001b[0m\u001b[0mopen\u001b[0m\u001b[1;33m(\u001b[0m\u001b[0mfile\u001b[0m\u001b[1;33m,\u001b[0m \u001b[0mfilemode\u001b[0m\u001b[1;33m)\u001b[0m\u001b[1;33m\u001b[0m\u001b[1;33m\u001b[0m\u001b[0m\n\u001b[0m\u001b[0;32m   1252\u001b[0m                 \u001b[1;32mexcept\u001b[0m \u001b[0mOSError\u001b[0m\u001b[1;33m:\u001b[0m\u001b[1;33m\u001b[0m\u001b[1;33m\u001b[0m\u001b[0m\n\u001b[0;32m   1253\u001b[0m                     \u001b[1;32mif\u001b[0m \u001b[0mfilemode\u001b[0m \u001b[1;32min\u001b[0m \u001b[0mmodeDict\u001b[0m\u001b[1;33m:\u001b[0m\u001b[1;33m\u001b[0m\u001b[1;33m\u001b[0m\u001b[0m\n",
      "\u001b[1;31mFileNotFoundError\u001b[0m: [Errno 2] No such file or directory: 'D:\\\\Code\\\\deep-age-detec\\\\Age_Classification_with_Faces\\\\code/ZIPPED_DATASETS/combined_faces_train_augmented.zip'"
     ]
    }
   ],
   "source": [
    "# Unzipping the dataset file combined_faces.zip\n",
    "\n",
    "combined_faces_zip_path = ROOT_DIR + r\"/ZIPPED_DATASETS/combined_faces_train_augmented.zip\"\n",
    "\n",
    "with ZipFile(combined_faces_zip_path, 'r') as myzip:\n",
    "    myzip.extractall()\n",
    "    print('Done unzipping combined_faces_train_augmented.zip')"
   ]
  },
  {
   "cell_type": "code",
   "execution_count": null,
   "metadata": {
    "colab": {},
    "colab_type": "code",
    "id": "Yu50xj5jU8I6"
   },
   "outputs": [],
   "source": [
    "# Importing the augmented training dataset and testing dataset to create tensors of images using the filename paths.\n",
    "\n",
    "train_aug_df = pd.read_csv(child_dir + r\"/input_output/images_filenames_labels_train_augmented.csv\")\n",
    "test_df = pd.read_csv(child_dir + r\"/input_output/images_filenames_labels_test.csv\")"
   ]
  },
  {
   "cell_type": "code",
   "execution_count": null,
   "metadata": {
    "colab": {
     "base_uri": "https://localhost:8080/",
     "height": 204
    },
    "colab_type": "code",
    "executionInfo": {
     "elapsed": 279141,
     "status": "ok",
     "timestamp": 1592789445537,
     "user": {
      "displayName": "Prerak Agarwal",
      "photoUrl": "",
      "userId": "01206615471624868818"
     },
     "user_tz": -480
    },
    "id": "TgRflp79U8N1",
    "outputId": "4c3d92c9-d1cf-4ed7-e548-b605b6db5381"
   },
   "outputs": [],
   "source": [
    "# Dropping the age column since classes of age-ranges have been re-distributed from 11 to 7 classes.\n",
    "\n",
    "train_aug_df.drop(columns=['target'], inplace=True)\n",
    "train_aug_df.head()"
   ]
  },
  {
   "cell_type": "code",
   "execution_count": null,
   "metadata": {
    "colab": {
     "base_uri": "https://localhost:8080/",
     "height": 204
    },
    "colab_type": "code",
    "executionInfo": {
     "elapsed": 276974,
     "status": "ok",
     "timestamp": 1592789445539,
     "user": {
      "displayName": "Prerak Agarwal",
      "photoUrl": "",
      "userId": "01206615471624868818"
     },
     "user_tz": -480
    },
    "id": "BcFPQNl7U8SZ",
    "outputId": "fadee106-caec-47e1-e8a1-cc28a26964ef"
   },
   "outputs": [],
   "source": [
    "# Dropping the age column since classes of age-ranges have been re-distributed from 11 to 7 classes.\n",
    "\n",
    "test_df.drop(columns=['target'], inplace=True)\n",
    "test_df.head()"
   ]
  },
  {
   "cell_type": "code",
   "execution_count": null,
   "metadata": {
    "colab": {
     "base_uri": "https://localhost:8080/",
     "height": 34
    },
    "colab_type": "code",
    "executionInfo": {
     "elapsed": 1346,
     "status": "ok",
     "timestamp": 1592789452889,
     "user": {
      "displayName": "Prerak Agarwal",
      "photoUrl": "",
      "userId": "01206615471624868818"
     },
     "user_tz": -480
    },
    "id": "5D3RBtwwU8W1",
    "outputId": "aba98734-d970-496e-95e3-5642731f77f4"
   },
   "outputs": [],
   "source": [
    "train_aug_df.shape"
   ]
  },
  {
   "cell_type": "code",
   "execution_count": null,
   "metadata": {
    "colab": {
     "base_uri": "https://localhost:8080/",
     "height": 34
    },
    "colab_type": "code",
    "executionInfo": {
     "elapsed": 757,
     "status": "ok",
     "timestamp": 1592789454302,
     "user": {
      "displayName": "Prerak Agarwal",
      "photoUrl": "",
      "userId": "01206615471624868818"
     },
     "user_tz": -480
    },
    "id": "J4Qz1-9mU8bN",
    "outputId": "b3dd8df0-f1e2-4317-a721-1d98da398f9e"
   },
   "outputs": [],
   "source": [
    "test_df.shape"
   ]
  },
  {
   "cell_type": "code",
   "execution_count": null,
   "metadata": {
    "colab": {},
    "colab_type": "code",
    "id": "QqlcD7x6Yjcd"
   },
   "outputs": [],
   "source": [
    "# Defining a function to return the class labels corresponding to the re-distributed 7 age-ranges.\n",
    "\n",
    "def class_labels_reassign(age):\n",
    "\n",
    "    if 1 <= age <= 2:\n",
    "        return 0\n",
    "    elif 3 <= age <= 9:\n",
    "        return 1\n",
    "    elif 10 <= age <= 20:\n",
    "        return 2\n",
    "    elif 21 <= age <= 27:\n",
    "        return 3\n",
    "    elif 28 <= age <= 45:\n",
    "        return 4\n",
    "    elif 46 <= age <= 65:\n",
    "        return 5\n",
    "    else:\n",
    "        return 6"
   ]
  },
  {
   "cell_type": "code",
   "execution_count": null,
   "metadata": {
    "colab": {},
    "colab_type": "code",
    "id": "LROsGcIaYjVr"
   },
   "outputs": [],
   "source": [
    "train_aug_df['target'] = train_aug_df['age'].map(class_labels_reassign)\n",
    "test_df['target'] = test_df['age'].map(class_labels_reassign)"
   ]
  },
  {
   "cell_type": "code",
   "execution_count": null,
   "metadata": {
    "colab": {
     "base_uri": "https://localhost:8080/",
     "height": 204
    },
    "colab_type": "code",
    "executionInfo": {
     "elapsed": 829,
     "status": "ok",
     "timestamp": 1592789464125,
     "user": {
      "displayName": "Prerak Agarwal",
      "photoUrl": "",
      "userId": "01206615471624868818"
     },
     "user_tz": -480
    },
    "id": "j51hK9VIaxo1",
    "outputId": "57cad90c-dab7-42a1-c368-1d498fa0f7e1"
   },
   "outputs": [],
   "source": [
    "train_aug_df.head()"
   ]
  },
  {
   "cell_type": "code",
   "execution_count": null,
   "metadata": {
    "colab": {
     "base_uri": "https://localhost:8080/",
     "height": 204
    },
    "colab_type": "code",
    "executionInfo": {
     "elapsed": 996,
     "status": "ok",
     "timestamp": 1592789466081,
     "user": {
      "displayName": "Prerak Agarwal",
      "photoUrl": "",
      "userId": "01206615471624868818"
     },
     "user_tz": -480
    },
    "id": "csZb53SYaxgu",
    "outputId": "7a9d2df6-32ac-4d66-f62e-4c4226baabfd"
   },
   "outputs": [],
   "source": [
    "test_df.head()"
   ]
  },
  {
   "cell_type": "code",
   "execution_count": null,
   "metadata": {
    "colab": {
     "base_uri": "https://localhost:8080/",
     "height": 153
    },
    "colab_type": "code",
    "executionInfo": {
     "elapsed": 1316,
     "status": "ok",
     "timestamp": 1592789471687,
     "user": {
      "displayName": "Prerak Agarwal",
      "photoUrl": "",
      "userId": "01206615471624868818"
     },
     "user_tz": -480
    },
    "id": "jWpwyHjzYjQN",
    "outputId": "d2ef2f1b-4ad2-4151-8354-d96167be93ff"
   },
   "outputs": [],
   "source": [
    "train_aug_df['target'].value_counts(normalize=True)"
   ]
  },
  {
   "cell_type": "code",
   "execution_count": null,
   "metadata": {
    "colab": {
     "base_uri": "https://localhost:8080/",
     "height": 153
    },
    "colab_type": "code",
    "executionInfo": {
     "elapsed": 797,
     "status": "ok",
     "timestamp": 1592789471689,
     "user": {
      "displayName": "Prerak Agarwal",
      "photoUrl": "",
      "userId": "01206615471624868818"
     },
     "user_tz": -480
    },
    "id": "KUS5oAuRavFJ",
    "outputId": "98e44551-6e66-4907-8874-4218ac00a981"
   },
   "outputs": [],
   "source": [
    "test_df['target'].value_counts(normalize=True)"
   ]
  },
  {
   "cell_type": "code",
   "execution_count": null,
   "metadata": {
    "colab": {},
    "colab_type": "code",
    "id": "sJSY34ShavL_"
   },
   "outputs": [],
   "source": [
    "# Converting the filenames and target class labels into lists for augmented train and test datasets.\n",
    "\n",
    "train_aug_filenames_list = list(train_aug_df['filename'])\n",
    "train_aug_labels_list = list(train_aug_df['target'])\n",
    "\n",
    "test_filenames_list = list(test_df['filename'])\n",
    "test_labels_list = list(test_df['target'])"
   ]
  },
  {
   "cell_type": "code",
   "execution_count": null,
   "metadata": {
    "colab": {},
    "colab_type": "code",
    "id": "S7ye8s5savP5"
   },
   "outputs": [],
   "source": [
    "# Creating tensorflow constants of filenames and labels for augmented train and test datasets from the lists defined above.\n",
    "\n",
    "train_aug_filenames_tensor = tf.constant(train_aug_filenames_list)\n",
    "train_aug_labels_tensor = tf.constant(train_aug_labels_list)\n",
    "\n",
    "test_filenames_tensor = tf.constant(test_filenames_list)\n",
    "test_labels_tensor = tf.constant(test_labels_list)"
   ]
  },
  {
   "cell_type": "code",
   "execution_count": null,
   "metadata": {
    "colab": {},
    "colab_type": "code",
    "id": "4ALPko3Xavbo"
   },
   "outputs": [],
   "source": [
    "# Defining a function to read the image, decode the image from given tensor and one-hot encode the image label class.\n",
    "# Changing the channels para in tf.io.decode_jpeg from 3 to 1 changes the output images from RGB coloured to grayscale.\n",
    "\n",
    "num_classes = 7\n",
    "\n",
    "def _parse_function(filename, label):\n",
    "    \n",
    "    image_string = tf.io.read_file(filename)\n",
    "    image_decoded = tf.io.decode_jpeg(image_string, channels=1)    # channels=1 to convert to grayscale, channels=3 to convert to RGB.\n",
    "    # image_resized = tf.image.resize(image_decoded, [200, 200])\n",
    "    label = tf.one_hot(label, num_classes)\n",
    "\n",
    "    return image_decoded, label"
   ]
  },
  {
   "cell_type": "code",
   "execution_count": null,
   "metadata": {
    "colab": {},
    "colab_type": "code",
    "id": "OTyXZ2tUavZh"
   },
   "outputs": [],
   "source": [
    "# Getting the dataset ready for the neural network.\n",
    "# Using the tensor vectors defined above, accessing the images in the dataset and passing them through the function defined above.\n",
    "\n",
    "train_aug_dataset = tf.data.Dataset.from_tensor_slices((train_aug_filenames_tensor, train_aug_labels_tensor))\n",
    "train_aug_dataset = train_aug_dataset.map(_parse_function)\n",
    "# train_aug_dataset = train_aug_dataset.repeat(3)\n",
    "train_aug_dataset = train_aug_dataset.batch(512)    # Same as batch_size hyperparameter in model.fit() below.\n",
    "\n",
    "test_dataset = tf.data.Dataset.from_tensor_slices((test_filenames_tensor, test_labels_tensor))\n",
    "test_dataset = test_dataset.map(_parse_function)\n",
    "# test_dataset = test_dataset.repeat(3)\n",
    "test_dataset = test_dataset.batch(512)    # Same as batch_size hyperparameter in model.fit() below."
   ]
  },
  {
   "cell_type": "code",
   "execution_count": null,
   "metadata": {
    "colab": {
     "base_uri": "https://localhost:8080/",
     "height": 527
    },
    "colab_type": "code",
    "executionInfo": {
     "elapsed": 961,
     "status": "ok",
     "timestamp": 1592794444041,
     "user": {
      "displayName": "Prerak Agarwal",
      "photoUrl": "",
      "userId": "01206615471624868818"
     },
     "user_tz": -480
    },
    "id": "kcW44JspavWb",
    "outputId": "71eb87a3-703c-4a2a-e06b-e5f141929662"
   },
   "outputs": [],
   "source": [
    "# Defining the architecture of the sequential neural network.\n",
    "\n",
    "final_cnn = Sequential()\n",
    "\n",
    "# Input layer with 32 filters, followed by an AveragePooling2D layer.\n",
    "final_cnn.add(Conv2D(filters=32, kernel_size=3, activation='relu', input_shape=(200, 200, 1)))    # 3rd dim = 1 for grayscale images.\n",
    "final_cnn.add(AveragePooling2D(pool_size=(2,2)))\n",
    "\n",
    "# Three Conv2D layers with filters increasing by a factor of 2 for every successive Conv2D layer.\n",
    "final_cnn.add(Conv2D(filters=64, kernel_size=3, activation='relu'))\n",
    "final_cnn.add(AveragePooling2D(pool_size=(2,2)))\n",
    "\n",
    "final_cnn.add(Conv2D(filters=128, kernel_size=3, activation='relu'))\n",
    "final_cnn.add(AveragePooling2D(pool_size=(2,2)))\n",
    "\n",
    "final_cnn.add(Conv2D(filters=256, kernel_size=3, activation='relu'))\n",
    "final_cnn.add(AveragePooling2D(pool_size=(2,2)))\n",
    "\n",
    "# A GlobalAveragePooling2D layer before going into Dense layers below.\n",
    "# GlobalAveragePooling2D layer gives no. of outputs equal to no. of filters in last Conv2D layer above (256).\n",
    "final_cnn.add(GlobalAveragePooling2D())\n",
    "\n",
    "# One Dense layer with 132 nodes so as to taper down the no. of nodes from no. of outputs of GlobalAveragePooling2D layer above towards no. of nodes in output layer below (7).\n",
    "final_cnn.add(Dense(132, activation='relu'))\n",
    "\n",
    "# Output layer with 7 nodes (equal to the no. of classes).\n",
    "final_cnn.add(Dense(7, activation='softmax'))\n",
    "\n",
    "final_cnn.summary()"
   ]
  },
  {
   "cell_type": "code",
   "execution_count": null,
   "metadata": {
    "colab": {},
    "colab_type": "code",
    "id": "uBG5MY8zavTn"
   },
   "outputs": [],
   "source": [
    "# Compiling the above created CNN architecture.\n",
    "\n",
    "final_cnn.compile(loss='categorical_crossentropy', optimizer='adam', metrics=['accuracy'])"
   ]
  },
  {
   "cell_type": "code",
   "execution_count": null,
   "metadata": {
    "colab": {},
    "colab_type": "code",
    "id": "nWy7fRfHfu8L"
   },
   "outputs": [],
   "source": [
    "# Creating a TensorBoard callback object and saving it at the desired location.\n",
    "\n",
    "tensorboard = TensorBoard(log_dir=child_dir + r\"/input_output/cnn_logs/final_cnn\")"
   ]
  },
  {
   "cell_type": "markdown",
   "metadata": {
    "colab_type": "text",
    "id": "3pKfqLLbS3ld"
   },
   "source": [
    "I will also use ***ModelCheckpoint*** as a callback while training the final CNN model so as to be able to save the model as it continues training and improving in performance over 60 epochs."
   ]
  },
  {
   "cell_type": "code",
   "execution_count": null,
   "metadata": {
    "colab": {},
    "colab_type": "code",
    "id": "X6dQDDhmfuzo"
   },
   "outputs": [],
   "source": [
    "# Creating a ModelCheckpoint callback object to save the model according to the value of val_accuracy.\n",
    "\n",
    "checkpoint = ModelCheckpoint(filepath=child_dir + r\"/input_output/final_cnn_model_checkpoint.h5\",\n",
    "                             monitor='val_accuracy',\n",
    "                             save_best_only=True,\n",
    "                             save_weights_only=False,\n",
    "                             verbose=1\n",
    "                            )"
   ]
  },
  {
   "cell_type": "code",
   "execution_count": null,
   "metadata": {
    "colab": {
     "base_uri": "https://localhost:8080/",
     "height": 1000
    },
    "colab_type": "code",
    "executionInfo": {
     "elapsed": 1362636,
     "status": "ok",
     "timestamp": 1592803783361,
     "user": {
      "displayName": "Prerak Agarwal",
      "photoUrl": "",
      "userId": "01206615471624868818"
     },
     "user_tz": -480
    },
    "id": "hU4LJT6xYjJp",
    "outputId": "0ab09013-5d21-44d3-a728-d4bf3c8bcab9"
   },
   "outputs": [],
   "source": [
    "# Fitting the above created CNN model.\n",
    "\n",
    "final_cnn_history = final_cnn.fit(train_aug_dataset,\n",
    "                                  batch_size=512,\n",
    "                                  validation_data=test_dataset,\n",
    "                                  epochs=60,\n",
    "                                  callbacks=[tensorboard, checkpoint],\n",
    "                                  shuffle=False    # shuffle=False to reduce randomness and increase reproducibility\n",
    "                                 )"
   ]
  },
  {
   "cell_type": "code",
   "execution_count": null,
   "metadata": {
    "colab": {},
    "colab_type": "code",
    "id": "RP7vxY_6YjCM"
   },
   "outputs": [],
   "source": [
    "# Checking the train and test loss and accuracy values from the neural network above.\n",
    "\n",
    "train_loss = final_cnn_history.history['loss']\n",
    "test_loss = final_cnn_history.history['val_loss']\n",
    "train_accuracy = final_cnn_history.history['accuracy']\n",
    "test_accuracy = final_cnn_history.history['val_accuracy']"
   ]
  },
  {
   "cell_type": "code",
   "execution_count": null,
   "metadata": {
    "colab": {
     "base_uri": "https://localhost:8080/",
     "height": 470
    },
    "colab_type": "code",
    "executionInfo": {
     "elapsed": 2083,
     "status": "ok",
     "timestamp": 1592806180903,
     "user": {
      "displayName": "Prerak Agarwal",
      "photoUrl": "",
      "userId": "01206615471624868818"
     },
     "user_tz": -480
    },
    "id": "COkki9JUU8kf",
    "outputId": "c4217a95-784c-42e6-c052-7c4f0e4aa447"
   },
   "outputs": [],
   "source": [
    "# Plotting a line chart to visualize the loss and accuracy values by epochs.\n",
    "\n",
    "fig, ax = plt.subplots(ncols=2, figsize=(15,7))\n",
    "\n",
    "ax = ax.ravel()\n",
    "\n",
    "ax[0].plot(train_loss, label='Train Loss', color='royalblue', marker='o', markersize=5)\n",
    "ax[0].plot(test_loss, label='Test Loss', color = 'orangered', marker='o', markersize=5)\n",
    "\n",
    "ax[0].set_xlabel('Epochs', fontsize=14)\n",
    "ax[0].set_ylabel('Categorical Crossentropy', fontsize=14)\n",
    "\n",
    "ax[0].legend(fontsize=14)\n",
    "ax[0].tick_params(axis='both', labelsize=12)\n",
    "\n",
    "ax[1].plot(train_accuracy, label='Train Accuracy', color='royalblue', marker='o', markersize=5)\n",
    "ax[1].plot(test_accuracy, label='Test Accuracy', color='orangered', marker='o', markersize=5)\n",
    "\n",
    "ax[1].set_xlabel('Epochs', fontsize=14)\n",
    "ax[1].set_ylabel('Accuracy', fontsize=14)\n",
    "\n",
    "ax[1].legend(fontsize=14)\n",
    "ax[1].tick_params(axis='both', labelsize=12)\n",
    "\n",
    "fig.suptitle(x=0.5, y=0.92, t=\"Lineplots showing loss and accuracy of CNN model by epochs\", fontsize=16)\n",
    "\n",
    "# Exporting plot image in PNG format.\n",
    "plt.savefig(child_dir + r'/plot_images/final_cnn_loss_accuracy.png', bbox_inches='tight');"
   ]
  },
  {
   "cell_type": "code",
   "execution_count": null,
   "metadata": {
    "colab": {
     "base_uri": "https://localhost:8080/",
     "height": 34
    },
    "colab_type": "code",
    "executionInfo": {
     "elapsed": 5596,
     "status": "ok",
     "timestamp": 1592806219385,
     "user": {
      "displayName": "Prerak Agarwal",
      "photoUrl": "",
      "userId": "01206615471624868818"
     },
     "user_tz": -480
    },
    "id": "F75NJtVJU8oD",
    "outputId": "50e05ca0-4673-4f29-e2b2-f348504c73a8"
   },
   "outputs": [],
   "source": [
    "# Evaluating the model on test dataset.\n",
    "\n",
    "final_cnn_score = final_cnn.evaluate(test_dataset, verbose=1)"
   ]
  },
  {
   "cell_type": "code",
   "execution_count": null,
   "metadata": {
    "colab": {
     "base_uri": "https://localhost:8080/",
     "height": 51
    },
    "colab_type": "code",
    "executionInfo": {
     "elapsed": 2328,
     "status": "ok",
     "timestamp": 1592806219389,
     "user": {
      "displayName": "Prerak Agarwal",
      "photoUrl": "",
      "userId": "01206615471624868818"
     },
     "user_tz": -480
    },
    "id": "h5JdZYFMU8s0",
    "outputId": "dd98d3e6-58a9-46cb-f676-be4ad91fe5c2"
   },
   "outputs": [],
   "source": [
    "# Printing the relevant score summary.\n",
    "\n",
    "final_cnn_labels = final_cnn.metrics_names\n",
    "print(f'CNN model {final_cnn_labels[0]} \\t\\t= {round(final_cnn_score[0], 3)}')\n",
    "print(f'CNN model {final_cnn_labels[1]} \\t= {round(final_cnn_score[1], 3)}')"
   ]
  },
  {
   "cell_type": "code",
   "execution_count": null,
   "metadata": {
    "colab": {},
    "colab_type": "code",
    "id": "fatkGFAkrjCF"
   },
   "outputs": [],
   "source": [
    "# Saving the model as a h5 file for possible use later.\n",
    "\n",
    "final_cnn.save(child_dir + r\"/input_output/final_cnn_model_acc_{round(final_cnn_score[1], 3)}.h5\", save_format='h5')"
   ]
  },
  {
   "cell_type": "code",
   "execution_count": null,
   "metadata": {
    "colab": {},
    "colab_type": "code",
    "id": "R1e1uYqHU8wx"
   },
   "outputs": [],
   "source": [
    "# Generating predictions from the model above.\n",
    "\n",
    "final_cnn_pred = final_cnn.predict(test_dataset)\n",
    "final_cnn_pred = final_cnn_pred.argmax(axis=-1)"
   ]
  },
  {
   "cell_type": "code",
   "execution_count": null,
   "metadata": {
    "colab": {
     "base_uri": "https://localhost:8080/",
     "height": 34
    },
    "colab_type": "code",
    "executionInfo": {
     "elapsed": 3722,
     "status": "ok",
     "timestamp": 1592806228200,
     "user": {
      "displayName": "Prerak Agarwal",
      "photoUrl": "",
      "userId": "01206615471624868818"
     },
     "user_tz": -480
    },
    "id": "EpdV9V1EU81O",
    "outputId": "e47ae1fc-5f00-46aa-b88d-701fa7c6f994"
   },
   "outputs": [],
   "source": [
    "len(final_cnn_pred)"
   ]
  },
  {
   "cell_type": "code",
   "execution_count": null,
   "metadata": {
    "colab": {
     "base_uri": "https://localhost:8080/",
     "height": 34
    },
    "colab_type": "code",
    "executionInfo": {
     "elapsed": 3107,
     "status": "ok",
     "timestamp": 1592806228201,
     "user": {
      "displayName": "Prerak Agarwal",
      "photoUrl": "",
      "userId": "01206615471624868818"
     },
     "user_tz": -480
    },
    "id": "aYLmUsxcU85i",
    "outputId": "920af7b3-1ced-4cfd-c698-1a1f875d176f"
   },
   "outputs": [],
   "source": [
    "len(test_labels_list)"
   ]
  },
  {
   "cell_type": "code",
   "execution_count": null,
   "metadata": {
    "colab": {
     "base_uri": "https://localhost:8080/",
     "height": 136
    },
    "colab_type": "code",
    "executionInfo": {
     "elapsed": 1780,
     "status": "ok",
     "timestamp": 1592806236230,
     "user": {
      "displayName": "Prerak Agarwal",
      "photoUrl": "",
      "userId": "01206615471624868818"
     },
     "user_tz": -480
    },
    "id": "T6hAs7SlU9Zi",
    "outputId": "b1bf5e75-225d-478d-b171-adee57e827f7"
   },
   "outputs": [],
   "source": [
    "# Generating a confusion matrix based on above predictions.\n",
    "\n",
    "conf_mat = confusion_matrix(test_labels_list, final_cnn_pred)\n",
    "conf_mat"
   ]
  },
  {
   "cell_type": "code",
   "execution_count": null,
   "metadata": {
    "colab": {},
    "colab_type": "code",
    "id": "uACH8n6fU95F"
   },
   "outputs": [],
   "source": [
    "# Defining a function to plot the confusion matrix in a grid for easier visualization.\n",
    "\n",
    "def plot_confusion_matrix(cm, classes, normalize=False, title='Confusion Matrix', export_as='confusion_matrix', cmap=plt.cm.Blues):\n",
    "    \"\"\"\n",
    "    This function prints and plots the confusion matrix.\n",
    "    Normalization can be applied by setting `normalize=True`.\n",
    "    \"\"\"\n",
    "    if normalize:\n",
    "        cm = cm.astype('float') / cm.sum(axis=1)[:, np.newaxis]\n",
    "        print(\"Normalized confusion matrix\")\n",
    "    else:\n",
    "        print('Confusion matrix, without normalization')\n",
    "\n",
    "    # print(cm)\n",
    "\n",
    "    plt.imshow(cm, interpolation='nearest', cmap=cmap)\n",
    "    plt.title(title, fontsize=16)\n",
    "    plt.colorbar()\n",
    "    tick_marks = np.arange(len(classes))\n",
    "    plt.xticks(tick_marks, classes, rotation=45)\n",
    "    plt.yticks(tick_marks, classes)\n",
    "\n",
    "    fmt = '.2f' if normalize else 'd'\n",
    "    thresh = cm.max() / 2.\n",
    "    for i, j in itertools.product(range(cm.shape[0]), range(cm.shape[1])):\n",
    "        plt.text(j, i, format(cm[i, j], fmt), horizontalalignment=\"center\", color=\"white\" if cm[i, j] > thresh else \"black\")\n",
    "\n",
    "    plt.tight_layout()\n",
    "    plt.ylabel('True labels', fontsize=14)\n",
    "    plt.xlabel('Predicted labels', fontsize=14)\n",
    "\n",
    "    # Exporting plot image in PNG format.\n",
    "    plt.savefig(child_dir + r'/plot_images/{export_as}.png', bbox_inches='tight');"
   ]
  },
  {
   "cell_type": "code",
   "execution_count": null,
   "metadata": {
    "colab": {
     "base_uri": "https://localhost:8080/",
     "height": 620
    },
    "colab_type": "code",
    "executionInfo": {
     "elapsed": 2183,
     "status": "ok",
     "timestamp": 1592806243323,
     "user": {
      "displayName": "Prerak Agarwal",
      "photoUrl": "",
      "userId": "01206615471624868818"
     },
     "user_tz": -480
    },
    "id": "J1XROLD_U91Z",
    "outputId": "5f3515d0-b968-4360-82dc-8566d18b6bcf"
   },
   "outputs": [],
   "source": [
    "# Plotting the confusion matrix using the function defined above.\n",
    "\n",
    "cm_plot_labels = ['1-2', '3-9', '10-20', '21-27', '28-45', '46-65', '66-116']\n",
    "\n",
    "plt.figure(figsize=(16,8))\n",
    "plot_confusion_matrix(conf_mat, cm_plot_labels, normalize=True,\n",
    "                      title=\"Confusion Matrix based on predictions from CNN model\",\n",
    "                      export_as=\"final_cnn_conf_mat_norm\"\n",
    "                     )\n",
    "\n",
    "plt.show()"
   ]
  },
  {
   "cell_type": "code",
   "execution_count": null,
   "metadata": {
    "colab": {
     "base_uri": "https://localhost:8080/",
     "height": 620
    },
    "colab_type": "code",
    "executionInfo": {
     "elapsed": 1828,
     "status": "ok",
     "timestamp": 1592806254827,
     "user": {
      "displayName": "Prerak Agarwal",
      "photoUrl": "",
      "userId": "01206615471624868818"
     },
     "user_tz": -480
    },
    "id": "b8SX7GwcU9vz",
    "outputId": "47807da8-fddb-4753-e465-cc4d08d99d96"
   },
   "outputs": [],
   "source": [
    "# Plotting the confusion matrix using the function defined above.\n",
    "\n",
    "cm_plot_labels = ['1-2', '3-9', '10-20', '21-27', '28-45', '46-65', '66-116']\n",
    "\n",
    "plt.figure(figsize=(16,8))\n",
    "plot_confusion_matrix(conf_mat, cm_plot_labels, normalize=False,\n",
    "                      title=\"Confusion Matrix based on predictions from CNN model\",\n",
    "                      export_as=\"final_cnn_conf_mat\"\n",
    "                     )\n",
    "\n",
    "plt.show()"
   ]
  },
  {
   "cell_type": "markdown",
   "metadata": {
    "colab_type": "text",
    "id": "PVCOciqHTgYF"
   },
   "source": [
    "As seen in the lineplots above, the **model peaked in performance at epoch 54 of 60**, with **training accuracy = 90.44% and testing accuracy = 82.97%** The accuracy scores improved significantly, although with a **slight degree of over-fit, which may still be acceptable**. The normalized confusion matrix above also shows a **significant reduction in the misclassification for the middle age-ranges of 26–65**.\n"
   ]
  },
  {
   "cell_type": "markdown",
   "metadata": {
    "colab_type": "text",
    "id": "6eHgY5EOez2i"
   },
   "source": [
    "## Deep Learning: Summary and Limitations"
   ]
  },
  {
   "cell_type": "markdown",
   "metadata": {
    "colab_type": "text",
    "id": "3cpS3994e9GM"
   },
   "source": [
    "Below is the **final summary of all the CNN models built so far**.\n",
    "\n",
    "![summary_table_final.PNG](https://drive.google.com/uc?export=view&id=1VzZygldRJen6HgRR27m9J_VKI2bKD1IA)\n",
    "\n",
    "As with any data science workflow, the deep learning approach presented above does have its own limitations as well. For instance, the original datasets used in this project only had about 33,000 images when combined together. Even though the training dataset was augmented to increase it's size from 23,440 images to 234,400 images, there is always a possibility that an **even larger training dataset with more variation in the images would have resulted in even better results**. Another approach to this project could be to use **Transfer Learning (using the architecture and layer weights from a pre-trained neural network)** instead of creating and training a neural network from scratch.\n",
    "\n",
    "Compared to the **traditional Machine Learning** methodology and approach however, the CNN model performance is significantly better (**results summary shown below**).\n",
    "\n",
    "![summary_table_traditional_ml.png](https://drive.google.com/uc?export=view&id=1kc7idDm-1QmSTfdmk592NpMXWPU8moGu)"
   ]
  },
  {
   "cell_type": "code",
   "execution_count": null,
   "metadata": {},
   "outputs": [],
   "source": []
  }
 ],
 "metadata": {
  "accelerator": "GPU",
  "colab": {
   "authorship_tag": "ABX9TyNxnQ0Ee0XR29vi5j4qvL9F",
   "collapsed_sections": [],
   "machine_shape": "hm",
   "name": "5_deep_learning_final_CNN_model.ipynb",
   "provenance": []
  },
  "kernelspec": {
   "display_name": "Python (age_detection)",
   "language": "python",
   "name": "age_detection"
  },
  "language_info": {
   "codemirror_mode": {
    "name": "ipython",
    "version": 3
   },
   "file_extension": ".py",
   "mimetype": "text/x-python",
   "name": "python",
   "nbconvert_exporter": "python",
   "pygments_lexer": "ipython3",
   "version": "3.8.8"
  }
 },
 "nbformat": 4,
 "nbformat_minor": 1
}
