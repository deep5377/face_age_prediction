{
 "cells": [
  {
   "cell_type": "code",
   "execution_count": null,
   "metadata": {
    "colab": {
     "base_uri": "https://localhost:8080/",
     "height": 122
    },
    "colab_type": "code",
    "executionInfo": {
     "elapsed": 23245,
     "status": "ok",
     "timestamp": 1592140296537,
     "user": {
      "displayName": "Prerak Agarwal",
      "photoUrl": "",
      "userId": "01206615471624868818"
     },
     "user_tz": -480
    },
    "id": "ZQv6ZW73x1_z",
    "outputId": "60bb3f77-4603-448e-f0f3-2c191c415f15"
   },
   "outputs": [
    {
     "name": "stdout",
     "output_type": "stream",
     "text": [
      "Go to this URL in a browser: https://accounts.google.com/o/oauth2/auth?client_id=947318989803-6bn6qk8qdgf4n4g3pfee6491hc0brc4i.apps.googleusercontent.com&redirect_uri=urn%3aietf%3awg%3aoauth%3a2.0%3aoob&response_type=code&scope=email%20https%3a%2f%2fwww.googleapis.com%2fauth%2fdocs.test%20https%3a%2f%2fwww.googleapis.com%2fauth%2fdrive%20https%3a%2f%2fwww.googleapis.com%2fauth%2fdrive.photos.readonly%20https%3a%2f%2fwww.googleapis.com%2fauth%2fpeopleapi.readonly\n",
      "\n",
      "Enter your authorization code:\n",
      "··········\n",
      "Mounted at /content/drive\n"
     ]
    }
   ],
   "source": [
    "#@title Mount Google Drive {display-mode: \"form\"}\n",
    "\n",
    "# This code will be hidden when the notebook is loaded.\n",
    "\n",
    "# from google.colab import drive\n",
    "# drive.mount('/content/drive')"
   ]
  },
  {
   "cell_type": "code",
   "execution_count": null,
   "metadata": {
    "colab": {
     "base_uri": "https://localhost:8080/",
     "height": 34
    },
    "colab_type": "code",
    "executionInfo": {
     "elapsed": 3308,
     "status": "ok",
     "timestamp": 1592140331019,
     "user": {
      "displayName": "Prerak Agarwal",
      "photoUrl": "",
      "userId": "01206615471624868818"
     },
     "user_tz": -480
    },
    "id": "ndakxdFLzAZY",
    "outputId": "5c2a47ee-d990-4eda-c1e6-19c9742294e3"
   },
   "outputs": [
    {
     "name": "stdout",
     "output_type": "stream",
     "text": [
      "/content\n"
     ]
    }
   ],
   "source": [
    "!pwd"
   ]
  },
  {
   "cell_type": "code",
   "execution_count": null,
   "metadata": {
    "colab": {},
    "colab_type": "code",
    "id": "QmLQ2asS3FJ_"
   },
   "outputs": [],
   "source": [
    "# Unzipping facial-age.zip to datasets folder.\n",
    "\n",
    "!unzip -uq \"/content/drive/My Drive/Age_Classification_with_Faces_datasets/ZIPPED_DATASETS/facial-age.zip\" -d \"/content/drive/My Drive/Age_Classification_with_Faces_datasets\""
   ]
  },
  {
   "cell_type": "code",
   "execution_count": null,
   "metadata": {
    "colab": {},
    "colab_type": "code",
    "id": "X4FmKWp53EJn"
   },
   "outputs": [],
   "source": [
    "# Unzipping UTKFace.zip to datasets folder.\n",
    "\n",
    "!unzip -uq \"/content/drive/My Drive/Age_Classification_with_Faces_datasets/ZIPPED_DATASETS/UTKFace.zip\" -d \"/content/drive/My Drive/Age_Classification_with_Faces_datasets\""
   ]
  },
  {
   "cell_type": "code",
   "execution_count": null,
   "metadata": {
    "colab": {},
    "colab_type": "code",
    "id": "iirAerTe3tqn"
   },
   "outputs": [],
   "source": []
  },
  {
   "cell_type": "code",
   "execution_count": null,
   "metadata": {
    "colab": {},
    "colab_type": "code",
    "id": "FSgt9y8lyY9H"
   },
   "outputs": [],
   "source": [
    "# Unzipping 5-celebrity-faces-dataset.zip to datasets folder.\n",
    "\n",
    "# !unzip -uq \"/content/drive/My Drive/Age_Classification_with_Faces_datasets/ZIPPED_DATASETS/5-celebrity-faces-dataset.zip\" -d \"/content/drive/My Drive/Age_Classification_with_Faces_datasets\""
   ]
  },
  {
   "cell_type": "code",
   "execution_count": null,
   "metadata": {
    "colab": {},
    "colab_type": "code",
    "id": "xyWBwuORyYxK"
   },
   "outputs": [],
   "source": [
    "# Unzipping All-Age-Faces Dataset.zip to datasets folder.\n",
    "\n",
    "# !unzip -uq \"/content/drive/My Drive/Age_Classification_with_Faces_datasets/ZIPPED_DATASETS/All-Age-Faces Dataset.zip\" -d \"/content/drive/My Drive/Age_Classification_with_Faces_datasets\""
   ]
  }
 ],
 "metadata": {
  "colab": {
   "authorship_tag": "ABX9TyOvFFUGTTpHl1MFk/JLb9/q",
   "collapsed_sections": [],
   "name": "datasets_unzipping.ipynb",
   "provenance": []
  },
  "kernelspec": {
   "display_name": "Python 3",
   "language": "python",
   "name": "python3"
  },
  "language_info": {
   "codemirror_mode": {
    "name": "ipython",
    "version": 3
   },
   "file_extension": ".py",
   "mimetype": "text/x-python",
   "name": "python",
   "nbconvert_exporter": "python",
   "pygments_lexer": "ipython3",
   "version": "3.8.8"
  }
 },
 "nbformat": 4,
 "nbformat_minor": 1
}
